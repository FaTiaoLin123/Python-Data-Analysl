{
 "cells": [
  {
   "cell_type": "markdown",
   "metadata": {},
   "source": [
    "# 项目：整理Netflix电影演员评分数据"
   ]
  },
  {
   "cell_type": "markdown",
   "metadata": {},
   "source": [
    "## 分析目标"
   ]
  },
  {
   "cell_type": "markdown",
   "metadata": {},
   "source": [
    "此数据分析的目的是，整理不同流派影视作品，比如喜剧片、动作片、科幻片中，各演员出演作品的平均IMDB评分，从而挖掘出各个流派中的高评分作品演员。\n",
    "\n",
    "本实战项目的目的在于练习整理数据，从而得到可供下一步分析的数据。"
   ]
  },
  {
   "cell_type": "markdown",
   "metadata": {},
   "source": [
    "## 简介"
   ]
  },
  {
   "cell_type": "markdown",
   "metadata": {},
   "source": [
    "原始数据集记录了截止至2022年7月美国地区可观看的所有Netflix电视剧及电影数据。数据集包含两个数据表：`titles.csv`和`credits.csv`。\n",
    "\n",
    "`titles.csv`包含电影及电视剧相关信息，包括影视作品ID、标题、类型、描述、流派、IMDB（一个国外的在线评分网站）评分，等等。`credits.csv`包含超过7万名出现在Netflix影视作品的导演及演员信息，包括名字、影视作品ID、人物名、演职员类型（导演/演员）等。"
   ]
  },
  {
   "cell_type": "markdown",
   "metadata": {},
   "source": [
    "`titles.csv`每列的含义如下：\n",
    "- id：影视作品ID。\n",
    "- title：影视作品标题。\n",
    "- show_type：作品类型，电视节目或电影。\n",
    "- description：简短描述。\n",
    "- release_year：发布年份。\n",
    "- age_certification：适龄认证。\n",
    "- runtime：每集电视剧或电影的长度。\n",
    "- genres：流派类型列表。\n",
    "- production_countries：出品国家列表。\n",
    "- seasons：如果是电视剧，则是季数。\n",
    "- imdb_id：IMDB的ID。\n",
    "- imdb_score：IMDB的评分。\n",
    "- imdb_votes：IMDB的投票数。\n",
    "- tmdb_popularity：TMDB的流行度。\n",
    "- tmdb_score：TMDB的评分。\n",
    "\n",
    "`credits.csv`每列的含义如下：\n",
    "- person_ID：演职员ID。\n",
    "- id：参与的影视作品ID。\n",
    "- name：姓名。\n",
    "- character_name：角色姓名。\n",
    "- role：演职员类型，演员或导演。"
   ]
  },
  {
   "cell_type": "code",
   "execution_count": 1,
   "metadata": {
    "ExecuteTime": {
     "end_time": "2024-01-17T09:49:48.880032Z",
     "start_time": "2024-01-17T09:49:47.655370800Z"
    }
   },
   "outputs": [],
   "source": [
    "import pandas as pd"
   ]
  },
  {
   "cell_type": "code",
   "outputs": [
    {
     "name": "stderr",
     "output_type": "stream",
     "text": [
      "<>:1: SyntaxWarning: invalid escape sequence '\\p'\n",
      "<>:2: SyntaxWarning: invalid escape sequence '\\p'\n",
      "<>:1: SyntaxWarning: invalid escape sequence '\\p'\n",
      "<>:2: SyntaxWarning: invalid escape sequence '\\p'\n",
      "C:\\Users\\林涵\\AppData\\Local\\Temp\\ipykernel_16868\\3056747144.py:1: SyntaxWarning: invalid escape sequence '\\p'\n",
      "  original_titles = pd.read_csv(\"D:\\pytho练习\\pythonProject3/titles.csv\")\n",
      "C:\\Users\\林涵\\AppData\\Local\\Temp\\ipykernel_16868\\3056747144.py:2: SyntaxWarning: invalid escape sequence '\\p'\n",
      "  original_credits = pd.read_csv(\"D:\\pytho练习\\pythonProject3\\credits.csv\")\n"
     ]
    }
   ],
   "source": [
    "original_titles = pd.read_csv(\"D:\\pytho练习\\pythonProject3/titles.csv\")\n",
    "original_credits = pd.read_csv(\"D:\\pytho练习\\pythonProject3\\credits.csv\")"
   ],
   "metadata": {
    "collapsed": false,
    "ExecuteTime": {
     "end_time": "2024-01-17T09:49:49.080045Z",
     "start_time": "2024-01-17T09:49:48.866411100Z"
    }
   },
   "execution_count": 2
  },
  {
   "cell_type": "code",
   "outputs": [
    {
     "data": {
      "text/plain": "   person_id       id             name                character   role\n0       3748  tm84618   Robert De Niro            Travis Bickle  ACTOR\n1      14658  tm84618     Jodie Foster            Iris Steensma  ACTOR\n2       7064  tm84618    Albert Brooks                      Tom  ACTOR\n3       3739  tm84618    Harvey Keitel  Matthew 'Sport' Higgins  ACTOR\n4      48933  tm84618  Cybill Shepherd                    Betsy  ACTOR",
      "text/html": "<div>\n<style scoped>\n    .dataframe tbody tr th:only-of-type {\n        vertical-align: middle;\n    }\n\n    .dataframe tbody tr th {\n        vertical-align: top;\n    }\n\n    .dataframe thead th {\n        text-align: right;\n    }\n</style>\n<table border=\"1\" class=\"dataframe\">\n  <thead>\n    <tr style=\"text-align: right;\">\n      <th></th>\n      <th>person_id</th>\n      <th>id</th>\n      <th>name</th>\n      <th>character</th>\n      <th>role</th>\n    </tr>\n  </thead>\n  <tbody>\n    <tr>\n      <th>0</th>\n      <td>3748</td>\n      <td>tm84618</td>\n      <td>Robert De Niro</td>\n      <td>Travis Bickle</td>\n      <td>ACTOR</td>\n    </tr>\n    <tr>\n      <th>1</th>\n      <td>14658</td>\n      <td>tm84618</td>\n      <td>Jodie Foster</td>\n      <td>Iris Steensma</td>\n      <td>ACTOR</td>\n    </tr>\n    <tr>\n      <th>2</th>\n      <td>7064</td>\n      <td>tm84618</td>\n      <td>Albert Brooks</td>\n      <td>Tom</td>\n      <td>ACTOR</td>\n    </tr>\n    <tr>\n      <th>3</th>\n      <td>3739</td>\n      <td>tm84618</td>\n      <td>Harvey Keitel</td>\n      <td>Matthew 'Sport' Higgins</td>\n      <td>ACTOR</td>\n    </tr>\n    <tr>\n      <th>4</th>\n      <td>48933</td>\n      <td>tm84618</td>\n      <td>Cybill Shepherd</td>\n      <td>Betsy</td>\n      <td>ACTOR</td>\n    </tr>\n  </tbody>\n</table>\n</div>"
     },
     "execution_count": 3,
     "metadata": {},
     "output_type": "execute_result"
    }
   ],
   "source": [
    "original_credits.head()"
   ],
   "metadata": {
    "collapsed": false,
    "ExecuteTime": {
     "end_time": "2024-01-17T09:49:49.115754500Z",
     "start_time": "2024-01-17T09:49:49.077954200Z"
    }
   },
   "execution_count": 3
  },
  {
   "cell_type": "code",
   "outputs": [
    {
     "data": {
      "text/plain": "         id                                title   type  \\\n0  ts300399  Five Came Back: The Reference Films   SHOW   \n1   tm84618                          Taxi Driver  MOVIE   \n2  tm154986                          Deliverance  MOVIE   \n3  tm127384      Monty Python and the Holy Grail  MOVIE   \n4  tm120801                      The Dirty Dozen  MOVIE   \n\n                                         description  release_year  \\\n0  This collection includes 12 World War II-era p...          1945   \n1  A mentally unstable Vietnam War veteran works ...          1976   \n2  Intent on seeing the Cahulawassee River before...          1972   \n3  King Arthur, accompanied by his squire, recrui...          1975   \n4  12 American military prisoners in World War II...          1967   \n\n  age_certification  runtime                                       genres  \\\n0             TV-MA       51                            ['documentation']   \n1                 R      114                           ['drama', 'crime']   \n2                 R      109  ['drama', 'action', 'thriller', 'european']   \n3                PG       91              ['fantasy', 'action', 'comedy']   \n4               NaN      150                            ['war', 'action']   \n\n  production_countries  seasons    imdb_id  imdb_score  imdb_votes  \\\n0               ['US']      1.0        NaN         NaN         NaN   \n1               ['US']      NaN  tt0075314         8.2    808582.0   \n2               ['US']      NaN  tt0068473         7.7    107673.0   \n3               ['GB']      NaN  tt0071853         8.2    534486.0   \n4         ['GB', 'US']      NaN  tt0061578         7.7     72662.0   \n\n   tmdb_popularity  tmdb_score  \n0            0.600         NaN  \n1           40.965       8.179  \n2           10.010       7.300  \n3           15.461       7.811  \n4           20.398       7.600  ",
      "text/html": "<div>\n<style scoped>\n    .dataframe tbody tr th:only-of-type {\n        vertical-align: middle;\n    }\n\n    .dataframe tbody tr th {\n        vertical-align: top;\n    }\n\n    .dataframe thead th {\n        text-align: right;\n    }\n</style>\n<table border=\"1\" class=\"dataframe\">\n  <thead>\n    <tr style=\"text-align: right;\">\n      <th></th>\n      <th>id</th>\n      <th>title</th>\n      <th>type</th>\n      <th>description</th>\n      <th>release_year</th>\n      <th>age_certification</th>\n      <th>runtime</th>\n      <th>genres</th>\n      <th>production_countries</th>\n      <th>seasons</th>\n      <th>imdb_id</th>\n      <th>imdb_score</th>\n      <th>imdb_votes</th>\n      <th>tmdb_popularity</th>\n      <th>tmdb_score</th>\n    </tr>\n  </thead>\n  <tbody>\n    <tr>\n      <th>0</th>\n      <td>ts300399</td>\n      <td>Five Came Back: The Reference Films</td>\n      <td>SHOW</td>\n      <td>This collection includes 12 World War II-era p...</td>\n      <td>1945</td>\n      <td>TV-MA</td>\n      <td>51</td>\n      <td>['documentation']</td>\n      <td>['US']</td>\n      <td>1.0</td>\n      <td>NaN</td>\n      <td>NaN</td>\n      <td>NaN</td>\n      <td>0.600</td>\n      <td>NaN</td>\n    </tr>\n    <tr>\n      <th>1</th>\n      <td>tm84618</td>\n      <td>Taxi Driver</td>\n      <td>MOVIE</td>\n      <td>A mentally unstable Vietnam War veteran works ...</td>\n      <td>1976</td>\n      <td>R</td>\n      <td>114</td>\n      <td>['drama', 'crime']</td>\n      <td>['US']</td>\n      <td>NaN</td>\n      <td>tt0075314</td>\n      <td>8.2</td>\n      <td>808582.0</td>\n      <td>40.965</td>\n      <td>8.179</td>\n    </tr>\n    <tr>\n      <th>2</th>\n      <td>tm154986</td>\n      <td>Deliverance</td>\n      <td>MOVIE</td>\n      <td>Intent on seeing the Cahulawassee River before...</td>\n      <td>1972</td>\n      <td>R</td>\n      <td>109</td>\n      <td>['drama', 'action', 'thriller', 'european']</td>\n      <td>['US']</td>\n      <td>NaN</td>\n      <td>tt0068473</td>\n      <td>7.7</td>\n      <td>107673.0</td>\n      <td>10.010</td>\n      <td>7.300</td>\n    </tr>\n    <tr>\n      <th>3</th>\n      <td>tm127384</td>\n      <td>Monty Python and the Holy Grail</td>\n      <td>MOVIE</td>\n      <td>King Arthur, accompanied by his squire, recrui...</td>\n      <td>1975</td>\n      <td>PG</td>\n      <td>91</td>\n      <td>['fantasy', 'action', 'comedy']</td>\n      <td>['GB']</td>\n      <td>NaN</td>\n      <td>tt0071853</td>\n      <td>8.2</td>\n      <td>534486.0</td>\n      <td>15.461</td>\n      <td>7.811</td>\n    </tr>\n    <tr>\n      <th>4</th>\n      <td>tm120801</td>\n      <td>The Dirty Dozen</td>\n      <td>MOVIE</td>\n      <td>12 American military prisoners in World War II...</td>\n      <td>1967</td>\n      <td>NaN</td>\n      <td>150</td>\n      <td>['war', 'action']</td>\n      <td>['GB', 'US']</td>\n      <td>NaN</td>\n      <td>tt0061578</td>\n      <td>7.7</td>\n      <td>72662.0</td>\n      <td>20.398</td>\n      <td>7.600</td>\n    </tr>\n  </tbody>\n</table>\n</div>"
     },
     "execution_count": 4,
     "metadata": {},
     "output_type": "execute_result"
    }
   ],
   "source": [
    "original_titles.head()"
   ],
   "metadata": {
    "collapsed": false,
    "ExecuteTime": {
     "end_time": "2024-01-17T09:49:49.170179600Z",
     "start_time": "2024-01-17T09:49:49.100697100Z"
    }
   },
   "execution_count": 4
  },
  {
   "cell_type": "markdown",
   "source": [
    "# 评估和清理数据"
   ],
   "metadata": {
    "collapsed": false
   }
  },
  {
   "cell_type": "markdown",
   "source": [
    "为了区分清洗前后的数据，将用cleaned_titles替换original_titles，cleaned_credits替换original_credits，之后清洗的步骤将应用在cleaned_titles和cleaned_credits。"
   ],
   "metadata": {
    "collapsed": false
   }
  },
  {
   "cell_type": "code",
   "outputs": [],
   "source": [
    "cleaned_titles = original_titles.copy()\n",
    "cleaned_credits = original_credits.copy()"
   ],
   "metadata": {
    "collapsed": false,
    "ExecuteTime": {
     "end_time": "2024-01-17T09:49:49.172215500Z",
     "start_time": "2024-01-17T09:49:49.123289700Z"
    }
   },
   "execution_count": 5
  },
  {
   "cell_type": "markdown",
   "source": [
    "数据整齐度"
   ],
   "metadata": {
    "collapsed": false
   }
  },
  {
   "cell_type": "code",
   "outputs": [
    {
     "data": {
      "text/plain": "         id                                title   type  \\\n0  ts300399  Five Came Back: The Reference Films   SHOW   \n1   tm84618                          Taxi Driver  MOVIE   \n2  tm154986                          Deliverance  MOVIE   \n3  tm127384      Monty Python and the Holy Grail  MOVIE   \n4  tm120801                      The Dirty Dozen  MOVIE   \n5   ts22164         Monty Python's Flying Circus   SHOW   \n6   tm70993                        Life of Brian  MOVIE   \n7   tm14873                          Dirty Harry  MOVIE   \n8  tm119281                     Bonnie and Clyde  MOVIE   \n9   tm98978                      The Blue Lagoon  MOVIE   \n\n                                         description  release_year  \\\n0  This collection includes 12 World War II-era p...          1945   \n1  A mentally unstable Vietnam War veteran works ...          1976   \n2  Intent on seeing the Cahulawassee River before...          1972   \n3  King Arthur, accompanied by his squire, recrui...          1975   \n4  12 American military prisoners in World War II...          1967   \n5  A British sketch comedy series with the shows ...          1969   \n6  Brian Cohen is an average young Jewish man, bu...          1979   \n7  When a madman dubbed 'Scorpio' terrorizes San ...          1971   \n8  In the 1930s, bored waitress Bonnie Parker fal...          1967   \n9  Two small children and a ship's cook survive a...          1980   \n\n  age_certification  runtime                                       genres  \\\n0             TV-MA       51                            ['documentation']   \n1                 R      114                           ['drama', 'crime']   \n2                 R      109  ['drama', 'action', 'thriller', 'european']   \n3                PG       91              ['fantasy', 'action', 'comedy']   \n4               NaN      150                            ['war', 'action']   \n5             TV-14       30                       ['comedy', 'european']   \n6                 R       94                                   ['comedy']   \n7                 R      102              ['thriller', 'action', 'crime']   \n8                 R      110                 ['crime', 'drama', 'action']   \n9                 R      104               ['romance', 'action', 'drama']   \n\n  production_countries  seasons    imdb_id  imdb_score  imdb_votes  \\\n0               ['US']      1.0        NaN         NaN         NaN   \n1               ['US']      NaN  tt0075314         8.2    808582.0   \n2               ['US']      NaN  tt0068473         7.7    107673.0   \n3               ['GB']      NaN  tt0071853         8.2    534486.0   \n4         ['GB', 'US']      NaN  tt0061578         7.7     72662.0   \n5               ['GB']      4.0  tt0063929         8.8     73424.0   \n6               ['GB']      NaN  tt0079470         8.0    395024.0   \n7               ['US']      NaN  tt0066999         7.7    155051.0   \n8               ['US']      NaN  tt0061418         7.7    112048.0   \n9               ['US']      NaN  tt0080453         5.8     69844.0   \n\n   tmdb_popularity  tmdb_score  \n0            0.600         NaN  \n1           40.965       8.179  \n2           10.010       7.300  \n3           15.461       7.811  \n4           20.398       7.600  \n5           17.617       8.306  \n6           17.770       7.800  \n7           12.817       7.500  \n8           15.687       7.500  \n9           50.324       6.156  ",
      "text/html": "<div>\n<style scoped>\n    .dataframe tbody tr th:only-of-type {\n        vertical-align: middle;\n    }\n\n    .dataframe tbody tr th {\n        vertical-align: top;\n    }\n\n    .dataframe thead th {\n        text-align: right;\n    }\n</style>\n<table border=\"1\" class=\"dataframe\">\n  <thead>\n    <tr style=\"text-align: right;\">\n      <th></th>\n      <th>id</th>\n      <th>title</th>\n      <th>type</th>\n      <th>description</th>\n      <th>release_year</th>\n      <th>age_certification</th>\n      <th>runtime</th>\n      <th>genres</th>\n      <th>production_countries</th>\n      <th>seasons</th>\n      <th>imdb_id</th>\n      <th>imdb_score</th>\n      <th>imdb_votes</th>\n      <th>tmdb_popularity</th>\n      <th>tmdb_score</th>\n    </tr>\n  </thead>\n  <tbody>\n    <tr>\n      <th>0</th>\n      <td>ts300399</td>\n      <td>Five Came Back: The Reference Films</td>\n      <td>SHOW</td>\n      <td>This collection includes 12 World War II-era p...</td>\n      <td>1945</td>\n      <td>TV-MA</td>\n      <td>51</td>\n      <td>['documentation']</td>\n      <td>['US']</td>\n      <td>1.0</td>\n      <td>NaN</td>\n      <td>NaN</td>\n      <td>NaN</td>\n      <td>0.600</td>\n      <td>NaN</td>\n    </tr>\n    <tr>\n      <th>1</th>\n      <td>tm84618</td>\n      <td>Taxi Driver</td>\n      <td>MOVIE</td>\n      <td>A mentally unstable Vietnam War veteran works ...</td>\n      <td>1976</td>\n      <td>R</td>\n      <td>114</td>\n      <td>['drama', 'crime']</td>\n      <td>['US']</td>\n      <td>NaN</td>\n      <td>tt0075314</td>\n      <td>8.2</td>\n      <td>808582.0</td>\n      <td>40.965</td>\n      <td>8.179</td>\n    </tr>\n    <tr>\n      <th>2</th>\n      <td>tm154986</td>\n      <td>Deliverance</td>\n      <td>MOVIE</td>\n      <td>Intent on seeing the Cahulawassee River before...</td>\n      <td>1972</td>\n      <td>R</td>\n      <td>109</td>\n      <td>['drama', 'action', 'thriller', 'european']</td>\n      <td>['US']</td>\n      <td>NaN</td>\n      <td>tt0068473</td>\n      <td>7.7</td>\n      <td>107673.0</td>\n      <td>10.010</td>\n      <td>7.300</td>\n    </tr>\n    <tr>\n      <th>3</th>\n      <td>tm127384</td>\n      <td>Monty Python and the Holy Grail</td>\n      <td>MOVIE</td>\n      <td>King Arthur, accompanied by his squire, recrui...</td>\n      <td>1975</td>\n      <td>PG</td>\n      <td>91</td>\n      <td>['fantasy', 'action', 'comedy']</td>\n      <td>['GB']</td>\n      <td>NaN</td>\n      <td>tt0071853</td>\n      <td>8.2</td>\n      <td>534486.0</td>\n      <td>15.461</td>\n      <td>7.811</td>\n    </tr>\n    <tr>\n      <th>4</th>\n      <td>tm120801</td>\n      <td>The Dirty Dozen</td>\n      <td>MOVIE</td>\n      <td>12 American military prisoners in World War II...</td>\n      <td>1967</td>\n      <td>NaN</td>\n      <td>150</td>\n      <td>['war', 'action']</td>\n      <td>['GB', 'US']</td>\n      <td>NaN</td>\n      <td>tt0061578</td>\n      <td>7.7</td>\n      <td>72662.0</td>\n      <td>20.398</td>\n      <td>7.600</td>\n    </tr>\n    <tr>\n      <th>5</th>\n      <td>ts22164</td>\n      <td>Monty Python's Flying Circus</td>\n      <td>SHOW</td>\n      <td>A British sketch comedy series with the shows ...</td>\n      <td>1969</td>\n      <td>TV-14</td>\n      <td>30</td>\n      <td>['comedy', 'european']</td>\n      <td>['GB']</td>\n      <td>4.0</td>\n      <td>tt0063929</td>\n      <td>8.8</td>\n      <td>73424.0</td>\n      <td>17.617</td>\n      <td>8.306</td>\n    </tr>\n    <tr>\n      <th>6</th>\n      <td>tm70993</td>\n      <td>Life of Brian</td>\n      <td>MOVIE</td>\n      <td>Brian Cohen is an average young Jewish man, bu...</td>\n      <td>1979</td>\n      <td>R</td>\n      <td>94</td>\n      <td>['comedy']</td>\n      <td>['GB']</td>\n      <td>NaN</td>\n      <td>tt0079470</td>\n      <td>8.0</td>\n      <td>395024.0</td>\n      <td>17.770</td>\n      <td>7.800</td>\n    </tr>\n    <tr>\n      <th>7</th>\n      <td>tm14873</td>\n      <td>Dirty Harry</td>\n      <td>MOVIE</td>\n      <td>When a madman dubbed 'Scorpio' terrorizes San ...</td>\n      <td>1971</td>\n      <td>R</td>\n      <td>102</td>\n      <td>['thriller', 'action', 'crime']</td>\n      <td>['US']</td>\n      <td>NaN</td>\n      <td>tt0066999</td>\n      <td>7.7</td>\n      <td>155051.0</td>\n      <td>12.817</td>\n      <td>7.500</td>\n    </tr>\n    <tr>\n      <th>8</th>\n      <td>tm119281</td>\n      <td>Bonnie and Clyde</td>\n      <td>MOVIE</td>\n      <td>In the 1930s, bored waitress Bonnie Parker fal...</td>\n      <td>1967</td>\n      <td>R</td>\n      <td>110</td>\n      <td>['crime', 'drama', 'action']</td>\n      <td>['US']</td>\n      <td>NaN</td>\n      <td>tt0061418</td>\n      <td>7.7</td>\n      <td>112048.0</td>\n      <td>15.687</td>\n      <td>7.500</td>\n    </tr>\n    <tr>\n      <th>9</th>\n      <td>tm98978</td>\n      <td>The Blue Lagoon</td>\n      <td>MOVIE</td>\n      <td>Two small children and a ship's cook survive a...</td>\n      <td>1980</td>\n      <td>R</td>\n      <td>104</td>\n      <td>['romance', 'action', 'drama']</td>\n      <td>['US']</td>\n      <td>NaN</td>\n      <td>tt0080453</td>\n      <td>5.8</td>\n      <td>69844.0</td>\n      <td>50.324</td>\n      <td>6.156</td>\n    </tr>\n  </tbody>\n</table>\n</div>"
     },
     "execution_count": 6,
     "metadata": {},
     "output_type": "execute_result"
    }
   ],
   "source": [
    "cleaned_titles.head(10)"
   ],
   "metadata": {
    "collapsed": false,
    "ExecuteTime": {
     "end_time": "2024-01-17T09:49:49.276101Z",
     "start_time": "2024-01-17T09:49:49.133238100Z"
    }
   },
   "execution_count": 6
  },
  {
   "cell_type": "markdown",
   "source": [
    "genres和production_countries内含多各数值，需要提取出来\n",
    "先提取一个变量观察"
   ],
   "metadata": {
    "collapsed": false
   }
  },
  {
   "cell_type": "code",
   "outputs": [
    {
     "data": {
      "text/plain": "\"['drama', 'crime']\""
     },
     "execution_count": 7,
     "metadata": {},
     "output_type": "execute_result"
    }
   ],
   "source": [
    "cleaned_titles[\"genres\"][1]"
   ],
   "metadata": {
    "collapsed": false,
    "ExecuteTime": {
     "end_time": "2024-01-17T09:49:49.297005100Z",
     "start_time": "2024-01-17T09:49:49.153996700Z"
    }
   },
   "execution_count": 7
  },
  {
   "cell_type": "markdown",
   "source": [
    "genres虽然是列表表达，但不是字符串列表，而是字符串，无法用value_counts统计值出现次数，可以用python内置函数exal，把字符串转换成表达式，可以把列表的字符串转换成列表本身。"
   ],
   "metadata": {
    "collapsed": false
   }
  },
  {
   "cell_type": "code",
   "outputs": [
    {
     "data": {
      "text/plain": "['drama', 'crime']"
     },
     "execution_count": 8,
     "metadata": {},
     "output_type": "execute_result"
    }
   ],
   "source": [
    "cleaned_titles['genres'] = cleaned_titles['genres'].apply(lambda s:eval(s))\n",
    "cleaned_titles['genres'][1]"
   ],
   "metadata": {
    "collapsed": false,
    "ExecuteTime": {
     "end_time": "2024-01-17T09:49:49.467345800Z",
     "start_time": "2024-01-17T09:49:49.159965100Z"
    }
   },
   "execution_count": 8
  },
  {
   "cell_type": "markdown",
   "source": [
    "转换成列表之后，用DataFramer的explode方法，把列表拆开"
   ],
   "metadata": {
    "collapsed": false
   }
  },
  {
   "cell_type": "code",
   "outputs": [
    {
     "data": {
      "text/plain": "         id                                title   type  \\\n0  ts300399  Five Came Back: The Reference Films   SHOW   \n1   tm84618                          Taxi Driver  MOVIE   \n1   tm84618                          Taxi Driver  MOVIE   \n2  tm154986                          Deliverance  MOVIE   \n2  tm154986                          Deliverance  MOVIE   \n2  tm154986                          Deliverance  MOVIE   \n2  tm154986                          Deliverance  MOVIE   \n3  tm127384      Monty Python and the Holy Grail  MOVIE   \n3  tm127384      Monty Python and the Holy Grail  MOVIE   \n3  tm127384      Monty Python and the Holy Grail  MOVIE   \n\n                                         description  release_year  \\\n0  This collection includes 12 World War II-era p...          1945   \n1  A mentally unstable Vietnam War veteran works ...          1976   \n1  A mentally unstable Vietnam War veteran works ...          1976   \n2  Intent on seeing the Cahulawassee River before...          1972   \n2  Intent on seeing the Cahulawassee River before...          1972   \n2  Intent on seeing the Cahulawassee River before...          1972   \n2  Intent on seeing the Cahulawassee River before...          1972   \n3  King Arthur, accompanied by his squire, recrui...          1975   \n3  King Arthur, accompanied by his squire, recrui...          1975   \n3  King Arthur, accompanied by his squire, recrui...          1975   \n\n  age_certification  runtime         genres production_countries  seasons  \\\n0             TV-MA       51  documentation               ['US']      1.0   \n1                 R      114          drama               ['US']      NaN   \n1                 R      114          crime               ['US']      NaN   \n2                 R      109          drama               ['US']      NaN   \n2                 R      109         action               ['US']      NaN   \n2                 R      109       thriller               ['US']      NaN   \n2                 R      109       european               ['US']      NaN   \n3                PG       91        fantasy               ['GB']      NaN   \n3                PG       91         action               ['GB']      NaN   \n3                PG       91         comedy               ['GB']      NaN   \n\n     imdb_id  imdb_score  imdb_votes  tmdb_popularity  tmdb_score  \n0        NaN         NaN         NaN            0.600         NaN  \n1  tt0075314         8.2    808582.0           40.965       8.179  \n1  tt0075314         8.2    808582.0           40.965       8.179  \n2  tt0068473         7.7    107673.0           10.010       7.300  \n2  tt0068473         7.7    107673.0           10.010       7.300  \n2  tt0068473         7.7    107673.0           10.010       7.300  \n2  tt0068473         7.7    107673.0           10.010       7.300  \n3  tt0071853         8.2    534486.0           15.461       7.811  \n3  tt0071853         8.2    534486.0           15.461       7.811  \n3  tt0071853         8.2    534486.0           15.461       7.811  ",
      "text/html": "<div>\n<style scoped>\n    .dataframe tbody tr th:only-of-type {\n        vertical-align: middle;\n    }\n\n    .dataframe tbody tr th {\n        vertical-align: top;\n    }\n\n    .dataframe thead th {\n        text-align: right;\n    }\n</style>\n<table border=\"1\" class=\"dataframe\">\n  <thead>\n    <tr style=\"text-align: right;\">\n      <th></th>\n      <th>id</th>\n      <th>title</th>\n      <th>type</th>\n      <th>description</th>\n      <th>release_year</th>\n      <th>age_certification</th>\n      <th>runtime</th>\n      <th>genres</th>\n      <th>production_countries</th>\n      <th>seasons</th>\n      <th>imdb_id</th>\n      <th>imdb_score</th>\n      <th>imdb_votes</th>\n      <th>tmdb_popularity</th>\n      <th>tmdb_score</th>\n    </tr>\n  </thead>\n  <tbody>\n    <tr>\n      <th>0</th>\n      <td>ts300399</td>\n      <td>Five Came Back: The Reference Films</td>\n      <td>SHOW</td>\n      <td>This collection includes 12 World War II-era p...</td>\n      <td>1945</td>\n      <td>TV-MA</td>\n      <td>51</td>\n      <td>documentation</td>\n      <td>['US']</td>\n      <td>1.0</td>\n      <td>NaN</td>\n      <td>NaN</td>\n      <td>NaN</td>\n      <td>0.600</td>\n      <td>NaN</td>\n    </tr>\n    <tr>\n      <th>1</th>\n      <td>tm84618</td>\n      <td>Taxi Driver</td>\n      <td>MOVIE</td>\n      <td>A mentally unstable Vietnam War veteran works ...</td>\n      <td>1976</td>\n      <td>R</td>\n      <td>114</td>\n      <td>drama</td>\n      <td>['US']</td>\n      <td>NaN</td>\n      <td>tt0075314</td>\n      <td>8.2</td>\n      <td>808582.0</td>\n      <td>40.965</td>\n      <td>8.179</td>\n    </tr>\n    <tr>\n      <th>1</th>\n      <td>tm84618</td>\n      <td>Taxi Driver</td>\n      <td>MOVIE</td>\n      <td>A mentally unstable Vietnam War veteran works ...</td>\n      <td>1976</td>\n      <td>R</td>\n      <td>114</td>\n      <td>crime</td>\n      <td>['US']</td>\n      <td>NaN</td>\n      <td>tt0075314</td>\n      <td>8.2</td>\n      <td>808582.0</td>\n      <td>40.965</td>\n      <td>8.179</td>\n    </tr>\n    <tr>\n      <th>2</th>\n      <td>tm154986</td>\n      <td>Deliverance</td>\n      <td>MOVIE</td>\n      <td>Intent on seeing the Cahulawassee River before...</td>\n      <td>1972</td>\n      <td>R</td>\n      <td>109</td>\n      <td>drama</td>\n      <td>['US']</td>\n      <td>NaN</td>\n      <td>tt0068473</td>\n      <td>7.7</td>\n      <td>107673.0</td>\n      <td>10.010</td>\n      <td>7.300</td>\n    </tr>\n    <tr>\n      <th>2</th>\n      <td>tm154986</td>\n      <td>Deliverance</td>\n      <td>MOVIE</td>\n      <td>Intent on seeing the Cahulawassee River before...</td>\n      <td>1972</td>\n      <td>R</td>\n      <td>109</td>\n      <td>action</td>\n      <td>['US']</td>\n      <td>NaN</td>\n      <td>tt0068473</td>\n      <td>7.7</td>\n      <td>107673.0</td>\n      <td>10.010</td>\n      <td>7.300</td>\n    </tr>\n    <tr>\n      <th>2</th>\n      <td>tm154986</td>\n      <td>Deliverance</td>\n      <td>MOVIE</td>\n      <td>Intent on seeing the Cahulawassee River before...</td>\n      <td>1972</td>\n      <td>R</td>\n      <td>109</td>\n      <td>thriller</td>\n      <td>['US']</td>\n      <td>NaN</td>\n      <td>tt0068473</td>\n      <td>7.7</td>\n      <td>107673.0</td>\n      <td>10.010</td>\n      <td>7.300</td>\n    </tr>\n    <tr>\n      <th>2</th>\n      <td>tm154986</td>\n      <td>Deliverance</td>\n      <td>MOVIE</td>\n      <td>Intent on seeing the Cahulawassee River before...</td>\n      <td>1972</td>\n      <td>R</td>\n      <td>109</td>\n      <td>european</td>\n      <td>['US']</td>\n      <td>NaN</td>\n      <td>tt0068473</td>\n      <td>7.7</td>\n      <td>107673.0</td>\n      <td>10.010</td>\n      <td>7.300</td>\n    </tr>\n    <tr>\n      <th>3</th>\n      <td>tm127384</td>\n      <td>Monty Python and the Holy Grail</td>\n      <td>MOVIE</td>\n      <td>King Arthur, accompanied by his squire, recrui...</td>\n      <td>1975</td>\n      <td>PG</td>\n      <td>91</td>\n      <td>fantasy</td>\n      <td>['GB']</td>\n      <td>NaN</td>\n      <td>tt0071853</td>\n      <td>8.2</td>\n      <td>534486.0</td>\n      <td>15.461</td>\n      <td>7.811</td>\n    </tr>\n    <tr>\n      <th>3</th>\n      <td>tm127384</td>\n      <td>Monty Python and the Holy Grail</td>\n      <td>MOVIE</td>\n      <td>King Arthur, accompanied by his squire, recrui...</td>\n      <td>1975</td>\n      <td>PG</td>\n      <td>91</td>\n      <td>action</td>\n      <td>['GB']</td>\n      <td>NaN</td>\n      <td>tt0071853</td>\n      <td>8.2</td>\n      <td>534486.0</td>\n      <td>15.461</td>\n      <td>7.811</td>\n    </tr>\n    <tr>\n      <th>3</th>\n      <td>tm127384</td>\n      <td>Monty Python and the Holy Grail</td>\n      <td>MOVIE</td>\n      <td>King Arthur, accompanied by his squire, recrui...</td>\n      <td>1975</td>\n      <td>PG</td>\n      <td>91</td>\n      <td>comedy</td>\n      <td>['GB']</td>\n      <td>NaN</td>\n      <td>tt0071853</td>\n      <td>8.2</td>\n      <td>534486.0</td>\n      <td>15.461</td>\n      <td>7.811</td>\n    </tr>\n  </tbody>\n</table>\n</div>"
     },
     "execution_count": 9,
     "metadata": {},
     "output_type": "execute_result"
    }
   ],
   "source": [
    "cleaned_titles = cleaned_titles.explode(\"genres\")\n",
    "cleaned_titles.head(10)"
   ],
   "metadata": {
    "collapsed": false,
    "ExecuteTime": {
     "end_time": "2024-01-17T09:49:49.753853Z",
     "start_time": "2024-01-17T09:49:49.301595Z"
    }
   },
   "execution_count": 9
  },
  {
   "cell_type": "markdown",
   "source": [
    "接下来，针对`production_countries`列也是一样的流程。"
   ],
   "metadata": {
    "collapsed": false
   }
  },
  {
   "cell_type": "code",
   "outputs": [
    {
     "data": {
      "text/plain": "1    ['US']\n1    ['US']\nName: production_countries, dtype: object"
     },
     "execution_count": 10,
     "metadata": {},
     "output_type": "execute_result"
    }
   ],
   "source": [
    "cleaned_titles['production_countries'][1]"
   ],
   "metadata": {
    "collapsed": false,
    "ExecuteTime": {
     "end_time": "2024-01-17T09:52:32.982075100Z",
     "start_time": "2024-01-17T09:52:32.917104500Z"
    }
   },
   "execution_count": 10
  },
  {
   "cell_type": "markdown",
   "source": [
    "`production_countries`也是一样的问题，虽然表示形式是列表，但其实际类型并非字符串列表，而是字符串，难以进行拆分。\n",
    "我们可以再次利用`eval`函数进行类型转换，并检查转换后确实是列表类型。"
   ],
   "metadata": {
    "collapsed": false
   }
  },
  {
   "cell_type": "code",
   "outputs": [
    {
     "data": {
      "text/plain": "1    [US]\n1    [US]\nName: production_countries, dtype: object"
     },
     "execution_count": 11,
     "metadata": {},
     "output_type": "execute_result"
    }
   ],
   "source": [
    "cleaned_titles['production_countries'] = cleaned_titles['production_countries'].apply(lambda s:eval(s))\n",
    "cleaned_titles['production_countries'][1]"
   ],
   "metadata": {
    "collapsed": false,
    "ExecuteTime": {
     "end_time": "2024-01-17T09:53:32.391352700Z",
     "start_time": "2024-01-17T09:53:32.098725200Z"
    }
   },
   "execution_count": 11
  },
  {
   "cell_type": "code",
   "outputs": [
    {
     "data": {
      "text/plain": "         id                                title   type  \\\n0  ts300399  Five Came Back: The Reference Films   SHOW   \n1   tm84618                          Taxi Driver  MOVIE   \n1   tm84618                          Taxi Driver  MOVIE   \n2  tm154986                          Deliverance  MOVIE   \n2  tm154986                          Deliverance  MOVIE   \n2  tm154986                          Deliverance  MOVIE   \n2  tm154986                          Deliverance  MOVIE   \n3  tm127384      Monty Python and the Holy Grail  MOVIE   \n3  tm127384      Monty Python and the Holy Grail  MOVIE   \n3  tm127384      Monty Python and the Holy Grail  MOVIE   \n\n                                         description  release_year  \\\n0  This collection includes 12 World War II-era p...          1945   \n1  A mentally unstable Vietnam War veteran works ...          1976   \n1  A mentally unstable Vietnam War veteran works ...          1976   \n2  Intent on seeing the Cahulawassee River before...          1972   \n2  Intent on seeing the Cahulawassee River before...          1972   \n2  Intent on seeing the Cahulawassee River before...          1972   \n2  Intent on seeing the Cahulawassee River before...          1972   \n3  King Arthur, accompanied by his squire, recrui...          1975   \n3  King Arthur, accompanied by his squire, recrui...          1975   \n3  King Arthur, accompanied by his squire, recrui...          1975   \n\n  age_certification  runtime         genres production_countries  seasons  \\\n0             TV-MA       51  documentation                   US      1.0   \n1                 R      114          drama                   US      NaN   \n1                 R      114          crime                   US      NaN   \n2                 R      109          drama                   US      NaN   \n2                 R      109         action                   US      NaN   \n2                 R      109       thriller                   US      NaN   \n2                 R      109       european                   US      NaN   \n3                PG       91        fantasy                   GB      NaN   \n3                PG       91         action                   GB      NaN   \n3                PG       91         comedy                   GB      NaN   \n\n     imdb_id  imdb_score  imdb_votes  tmdb_popularity  tmdb_score  \n0        NaN         NaN         NaN            0.600         NaN  \n1  tt0075314         8.2    808582.0           40.965       8.179  \n1  tt0075314         8.2    808582.0           40.965       8.179  \n2  tt0068473         7.7    107673.0           10.010       7.300  \n2  tt0068473         7.7    107673.0           10.010       7.300  \n2  tt0068473         7.7    107673.0           10.010       7.300  \n2  tt0068473         7.7    107673.0           10.010       7.300  \n3  tt0071853         8.2    534486.0           15.461       7.811  \n3  tt0071853         8.2    534486.0           15.461       7.811  \n3  tt0071853         8.2    534486.0           15.461       7.811  ",
      "text/html": "<div>\n<style scoped>\n    .dataframe tbody tr th:only-of-type {\n        vertical-align: middle;\n    }\n\n    .dataframe tbody tr th {\n        vertical-align: top;\n    }\n\n    .dataframe thead th {\n        text-align: right;\n    }\n</style>\n<table border=\"1\" class=\"dataframe\">\n  <thead>\n    <tr style=\"text-align: right;\">\n      <th></th>\n      <th>id</th>\n      <th>title</th>\n      <th>type</th>\n      <th>description</th>\n      <th>release_year</th>\n      <th>age_certification</th>\n      <th>runtime</th>\n      <th>genres</th>\n      <th>production_countries</th>\n      <th>seasons</th>\n      <th>imdb_id</th>\n      <th>imdb_score</th>\n      <th>imdb_votes</th>\n      <th>tmdb_popularity</th>\n      <th>tmdb_score</th>\n    </tr>\n  </thead>\n  <tbody>\n    <tr>\n      <th>0</th>\n      <td>ts300399</td>\n      <td>Five Came Back: The Reference Films</td>\n      <td>SHOW</td>\n      <td>This collection includes 12 World War II-era p...</td>\n      <td>1945</td>\n      <td>TV-MA</td>\n      <td>51</td>\n      <td>documentation</td>\n      <td>US</td>\n      <td>1.0</td>\n      <td>NaN</td>\n      <td>NaN</td>\n      <td>NaN</td>\n      <td>0.600</td>\n      <td>NaN</td>\n    </tr>\n    <tr>\n      <th>1</th>\n      <td>tm84618</td>\n      <td>Taxi Driver</td>\n      <td>MOVIE</td>\n      <td>A mentally unstable Vietnam War veteran works ...</td>\n      <td>1976</td>\n      <td>R</td>\n      <td>114</td>\n      <td>drama</td>\n      <td>US</td>\n      <td>NaN</td>\n      <td>tt0075314</td>\n      <td>8.2</td>\n      <td>808582.0</td>\n      <td>40.965</td>\n      <td>8.179</td>\n    </tr>\n    <tr>\n      <th>1</th>\n      <td>tm84618</td>\n      <td>Taxi Driver</td>\n      <td>MOVIE</td>\n      <td>A mentally unstable Vietnam War veteran works ...</td>\n      <td>1976</td>\n      <td>R</td>\n      <td>114</td>\n      <td>crime</td>\n      <td>US</td>\n      <td>NaN</td>\n      <td>tt0075314</td>\n      <td>8.2</td>\n      <td>808582.0</td>\n      <td>40.965</td>\n      <td>8.179</td>\n    </tr>\n    <tr>\n      <th>2</th>\n      <td>tm154986</td>\n      <td>Deliverance</td>\n      <td>MOVIE</td>\n      <td>Intent on seeing the Cahulawassee River before...</td>\n      <td>1972</td>\n      <td>R</td>\n      <td>109</td>\n      <td>drama</td>\n      <td>US</td>\n      <td>NaN</td>\n      <td>tt0068473</td>\n      <td>7.7</td>\n      <td>107673.0</td>\n      <td>10.010</td>\n      <td>7.300</td>\n    </tr>\n    <tr>\n      <th>2</th>\n      <td>tm154986</td>\n      <td>Deliverance</td>\n      <td>MOVIE</td>\n      <td>Intent on seeing the Cahulawassee River before...</td>\n      <td>1972</td>\n      <td>R</td>\n      <td>109</td>\n      <td>action</td>\n      <td>US</td>\n      <td>NaN</td>\n      <td>tt0068473</td>\n      <td>7.7</td>\n      <td>107673.0</td>\n      <td>10.010</td>\n      <td>7.300</td>\n    </tr>\n    <tr>\n      <th>2</th>\n      <td>tm154986</td>\n      <td>Deliverance</td>\n      <td>MOVIE</td>\n      <td>Intent on seeing the Cahulawassee River before...</td>\n      <td>1972</td>\n      <td>R</td>\n      <td>109</td>\n      <td>thriller</td>\n      <td>US</td>\n      <td>NaN</td>\n      <td>tt0068473</td>\n      <td>7.7</td>\n      <td>107673.0</td>\n      <td>10.010</td>\n      <td>7.300</td>\n    </tr>\n    <tr>\n      <th>2</th>\n      <td>tm154986</td>\n      <td>Deliverance</td>\n      <td>MOVIE</td>\n      <td>Intent on seeing the Cahulawassee River before...</td>\n      <td>1972</td>\n      <td>R</td>\n      <td>109</td>\n      <td>european</td>\n      <td>US</td>\n      <td>NaN</td>\n      <td>tt0068473</td>\n      <td>7.7</td>\n      <td>107673.0</td>\n      <td>10.010</td>\n      <td>7.300</td>\n    </tr>\n    <tr>\n      <th>3</th>\n      <td>tm127384</td>\n      <td>Monty Python and the Holy Grail</td>\n      <td>MOVIE</td>\n      <td>King Arthur, accompanied by his squire, recrui...</td>\n      <td>1975</td>\n      <td>PG</td>\n      <td>91</td>\n      <td>fantasy</td>\n      <td>GB</td>\n      <td>NaN</td>\n      <td>tt0071853</td>\n      <td>8.2</td>\n      <td>534486.0</td>\n      <td>15.461</td>\n      <td>7.811</td>\n    </tr>\n    <tr>\n      <th>3</th>\n      <td>tm127384</td>\n      <td>Monty Python and the Holy Grail</td>\n      <td>MOVIE</td>\n      <td>King Arthur, accompanied by his squire, recrui...</td>\n      <td>1975</td>\n      <td>PG</td>\n      <td>91</td>\n      <td>action</td>\n      <td>GB</td>\n      <td>NaN</td>\n      <td>tt0071853</td>\n      <td>8.2</td>\n      <td>534486.0</td>\n      <td>15.461</td>\n      <td>7.811</td>\n    </tr>\n    <tr>\n      <th>3</th>\n      <td>tm127384</td>\n      <td>Monty Python and the Holy Grail</td>\n      <td>MOVIE</td>\n      <td>King Arthur, accompanied by his squire, recrui...</td>\n      <td>1975</td>\n      <td>PG</td>\n      <td>91</td>\n      <td>comedy</td>\n      <td>GB</td>\n      <td>NaN</td>\n      <td>tt0071853</td>\n      <td>8.2</td>\n      <td>534486.0</td>\n      <td>15.461</td>\n      <td>7.811</td>\n    </tr>\n  </tbody>\n</table>\n</div>"
     },
     "execution_count": 12,
     "metadata": {},
     "output_type": "execute_result"
    }
   ],
   "source": [
    "cleaned_titles = cleaned_titles.explode(\"production_countries\")\n",
    "cleaned_titles.head(10)"
   ],
   "metadata": {
    "collapsed": false,
    "ExecuteTime": {
     "end_time": "2024-01-17T09:53:48.163100400Z",
     "start_time": "2024-01-17T09:53:48.116890300Z"
    }
   },
   "execution_count": 12
  },
  {
   "cell_type": "code",
   "outputs": [
    {
     "data": {
      "text/plain": "   person_id       id             name                character   role\n0       3748  tm84618   Robert De Niro            Travis Bickle  ACTOR\n1      14658  tm84618     Jodie Foster            Iris Steensma  ACTOR\n2       7064  tm84618    Albert Brooks                      Tom  ACTOR\n3       3739  tm84618    Harvey Keitel  Matthew 'Sport' Higgins  ACTOR\n4      48933  tm84618  Cybill Shepherd                    Betsy  ACTOR",
      "text/html": "<div>\n<style scoped>\n    .dataframe tbody tr th:only-of-type {\n        vertical-align: middle;\n    }\n\n    .dataframe tbody tr th {\n        vertical-align: top;\n    }\n\n    .dataframe thead th {\n        text-align: right;\n    }\n</style>\n<table border=\"1\" class=\"dataframe\">\n  <thead>\n    <tr style=\"text-align: right;\">\n      <th></th>\n      <th>person_id</th>\n      <th>id</th>\n      <th>name</th>\n      <th>character</th>\n      <th>role</th>\n    </tr>\n  </thead>\n  <tbody>\n    <tr>\n      <th>0</th>\n      <td>3748</td>\n      <td>tm84618</td>\n      <td>Robert De Niro</td>\n      <td>Travis Bickle</td>\n      <td>ACTOR</td>\n    </tr>\n    <tr>\n      <th>1</th>\n      <td>14658</td>\n      <td>tm84618</td>\n      <td>Jodie Foster</td>\n      <td>Iris Steensma</td>\n      <td>ACTOR</td>\n    </tr>\n    <tr>\n      <th>2</th>\n      <td>7064</td>\n      <td>tm84618</td>\n      <td>Albert Brooks</td>\n      <td>Tom</td>\n      <td>ACTOR</td>\n    </tr>\n    <tr>\n      <th>3</th>\n      <td>3739</td>\n      <td>tm84618</td>\n      <td>Harvey Keitel</td>\n      <td>Matthew 'Sport' Higgins</td>\n      <td>ACTOR</td>\n    </tr>\n    <tr>\n      <th>4</th>\n      <td>48933</td>\n      <td>tm84618</td>\n      <td>Cybill Shepherd</td>\n      <td>Betsy</td>\n      <td>ACTOR</td>\n    </tr>\n  </tbody>\n</table>\n</div>"
     },
     "execution_count": 13,
     "metadata": {},
     "output_type": "execute_result"
    }
   ],
   "source": [
    "cleaned_credits.head()"
   ],
   "metadata": {
    "collapsed": false,
    "ExecuteTime": {
     "end_time": "2024-01-17T09:54:30.602271900Z",
     "start_time": "2024-01-17T09:54:30.529470800Z"
    }
   },
   "execution_count": 13
  },
  {
   "cell_type": "markdown",
   "source": [
    "cleaned_credits没有结构问题"
   ],
   "metadata": {
    "collapsed": false
   }
  },
  {
   "cell_type": "markdown",
   "source": [
    "### 数据干净度"
   ],
   "metadata": {
    "collapsed": false
   }
  },
  {
   "cell_type": "code",
   "outputs": [
    {
     "name": "stdout",
     "output_type": "stream",
     "text": [
      "<class 'pandas.core.frame.DataFrame'>\n",
      "Index: 17818 entries, 0 to 5849\n",
      "Data columns (total 15 columns):\n",
      " #   Column                Non-Null Count  Dtype  \n",
      "---  ------                --------------  -----  \n",
      " 0   id                    17818 non-null  object \n",
      " 1   title                 17817 non-null  object \n",
      " 2   type                  17818 non-null  object \n",
      " 3   description           17790 non-null  object \n",
      " 4   release_year          17818 non-null  int64  \n",
      " 5   age_certification     10889 non-null  object \n",
      " 6   runtime               17818 non-null  int64  \n",
      " 7   genres                17755 non-null  object \n",
      " 8   production_countries  17439 non-null  object \n",
      " 9   seasons               6224 non-null   float64\n",
      " 10  imdb_id               17116 non-null  object \n",
      " 11  imdb_score            16976 non-null  float64\n",
      " 12  imdb_votes            16945 non-null  float64\n",
      " 13  tmdb_popularity       17663 non-null  float64\n",
      " 14  tmdb_score            17241 non-null  float64\n",
      "dtypes: float64(5), int64(2), object(8)\n",
      "memory usage: 2.2+ MB\n"
     ]
    }
   ],
   "source": [
    "cleaned_titles.info()"
   ],
   "metadata": {
    "collapsed": false,
    "ExecuteTime": {
     "end_time": "2024-01-17T09:55:21.632352500Z",
     "start_time": "2024-01-17T09:55:21.596407400Z"
    }
   },
   "execution_count": 14
  },
  {
   "cell_type": "markdown",
   "source": [
    "从输出结果来看，`cleaned_titles`数据共有17818条观察值，`title`、`description`、`age_certification`、`genres`、`production_countries`、`seasons`、`imdb_id`、`imdb_score`、`tmdb_popularity`、`tmdb_score`、`imdb_votes`、`tmdb_popularity`、`tmdb_score`变量均存在缺失值，将在后续进行评估和清理。\n",
    "\n",
    "此外，`release_year`表示年份，数据类型不应为数字，应为日期，所以需要进行数据格式转换。"
   ],
   "metadata": {
    "collapsed": false
   }
  },
  {
   "cell_type": "code",
   "outputs": [
    {
     "data": {
      "text/plain": "0      1945-01-01\n1      1976-01-01\n1      1976-01-01\n2      1972-01-01\n2      1972-01-01\n          ...    \n5847   2021-01-01\n5848   2021-01-01\n5849   2021-01-01\n5849   2021-01-01\n5849   2021-01-01\nName: release_year, Length: 17818, dtype: datetime64[ns]"
     },
     "execution_count": 15,
     "metadata": {},
     "output_type": "execute_result"
    }
   ],
   "source": [
    "cleaned_titles['release_year'] = pd.to_datetime(cleaned_titles['release_year'],format = '%Y')\n",
    "cleaned_titles['release_year']"
   ],
   "metadata": {
    "collapsed": false,
    "ExecuteTime": {
     "end_time": "2024-01-17T09:58:08.520107400Z",
     "start_time": "2024-01-17T09:58:08.483427800Z"
    }
   },
   "execution_count": 15
  },
  {
   "cell_type": "code",
   "outputs": [
    {
     "name": "stdout",
     "output_type": "stream",
     "text": [
      "<class 'pandas.core.frame.DataFrame'>\n",
      "RangeIndex: 77801 entries, 0 to 77800\n",
      "Data columns (total 5 columns):\n",
      " #   Column     Non-Null Count  Dtype \n",
      "---  ------     --------------  ----- \n",
      " 0   person_id  77801 non-null  int64 \n",
      " 1   id         77801 non-null  object\n",
      " 2   name       77801 non-null  object\n",
      " 3   character  68029 non-null  object\n",
      " 4   role       77801 non-null  object\n",
      "dtypes: int64(1), object(4)\n",
      "memory usage: 3.0+ MB\n"
     ]
    }
   ],
   "source": [
    "cleaned_credits.info()"
   ],
   "metadata": {
    "collapsed": false,
    "ExecuteTime": {
     "end_time": "2024-01-17T09:58:41.432252900Z",
     "start_time": "2024-01-17T09:58:41.388222300Z"
    }
   },
   "execution_count": 16
  },
  {
   "cell_type": "markdown",
   "source": [
    "从输出结果来看，`cleaned_credits`数据共有77801条观察值，其中`character`变量存在缺失值，将在后续进行评估和清理。\n",
    "\n",
    "此外，`person_id`表示演职员ID，数据类型不应为数字，应为字符串，所以需要进行数据格式转换。"
   ],
   "metadata": {
    "collapsed": false
   }
  },
  {
   "cell_type": "code",
   "outputs": [
    {
     "data": {
      "text/plain": "0           3748\n1          14658\n2           7064\n3           3739\n4          48933\n          ...   \n77796     736339\n77797     399499\n77798     373198\n77799     378132\n77800    1950416\nName: person_id, Length: 77801, dtype: object"
     },
     "execution_count": 18,
     "metadata": {},
     "output_type": "execute_result"
    }
   ],
   "source": [
    "cleaned_credits['person_id'] = cleaned_credits['person_id'].astype('str')\n",
    "cleaned_credits['person_id']"
   ],
   "metadata": {
    "collapsed": false,
    "ExecuteTime": {
     "end_time": "2024-01-17T10:00:16.270914700Z",
     "start_time": "2024-01-17T10:00:16.235798600Z"
    }
   },
   "execution_count": 18
  },
  {
   "cell_type": "markdown",
   "source": [
    "### 处理缺失数据"
   ],
   "metadata": {
    "collapsed": false
   }
  },
  {
   "cell_type": "markdown",
   "source": [
    "在`cleaned_titles`中，`title`、`description`、`age_certification`、`genres`、`production_countries`、`seasons`、`imdb_id`、`imdb_score`、`tmdb_popularity`、`tmdb_score`、`imdb_votes`、`tmdb_popularity`、`tmdb_score`变量存在缺失值。\n",
    "\n",
    "由于影视作品的标题、描述、适龄认证、发行国家、电视剧季数、IMDB的ID、TMDB的流行度、TMDB的评分，并不影响我们挖掘各个流派中的高IMDB评分作品演员，所以可以保留`title`、`description`、`age_certification`、`production_countries`、`seasons`、`imdb_id`、`tmdb_popularity`、`tmdb_score`、`imdb_votes`、`tmdb_popularity`、`tmdb_score`变量值存在空缺的观察值。\n",
    "\n",
    "但`imdb_score`和`genres`，即IMDB评分和流派，和我们后续要做的分析息息相关。\n",
    "\n",
    "先提取出`imdb_score`缺失观察值进行查看。"
   ],
   "metadata": {
    "collapsed": false
   }
  },
  {
   "cell_type": "code",
   "outputs": [
    {
     "data": {
      "text/plain": "             id                                      title   type  \\\n0      ts300399        Five Came Back: The Reference Films   SHOW   \n75     tm132164                       Bill Hicks: Sane Man  MOVIE   \n145    ts251477                            My First Errand   SHOW   \n145    ts251477                            My First Errand   SHOW   \n145    ts251477                            My First Errand   SHOW   \n...         ...                                        ...    ...   \n5810  tm1225897                                 Social Man  MOVIE   \n5833   ts307884                                 HQ Barbers   SHOW   \n5840  tm1216735                            Sun of the Soil  MOVIE   \n5844  tm1074617              Bling Empire - The Afterparty  MOVIE   \n5848  tm1035612  Dad Stop Embarrassing Me - The Afterparty  MOVIE   \n\n                                            description release_year  \\\n0     This collection includes 12 World War II-era p...   1945-01-01   \n75    Sane Man was filmed before Bill recorded ‘Dang...   1989-01-01   \n145   “Hajimete no Otsukai” (First Errand) is a Japa...   1991-01-01   \n145   “Hajimete no Otsukai” (First Errand) is a Japa...   1991-01-01   \n145   “Hajimete no Otsukai” (First Errand) is a Japa...   1991-01-01   \n...                                                 ...          ...   \n5810  Two competitive social media Influencers go he...   2021-01-01   \n5833  When a family run barber shop in the heart of ...   2021-01-01   \n5840  In 14th-century Mali, an ambitious young royal...   2022-01-01   \n5844  The stars of \"Bling Empire\" discuss the show's...   2021-01-01   \n5848  Jamie Foxx, David Alan Grier and more from the...   2021-01-01   \n\n     age_certification  runtime         genres production_countries  seasons  \\\n0                TV-MA       51  documentation                   US      1.0   \n75                   R       80         comedy                   US      NaN   \n145               TV-G       18  documentation                   JP     12.0   \n145               TV-G       18         family                   JP     12.0   \n145               TV-G       18        reality                   JP     12.0   \n...                ...      ...            ...                  ...      ...   \n5810               NaN       96          drama                  NaN      NaN   \n5833             TV-14       24         comedy                   NG      1.0   \n5840               NaN       26            NaN                  NaN      NaN   \n5844               NaN       35            NaN                   US      NaN   \n5848             PG-13       37            NaN                   US      NaN   \n\n         imdb_id  imdb_score  imdb_votes  tmdb_popularity  tmdb_score  \n0            NaN         NaN         NaN            0.600         NaN  \n75           NaN         NaN         NaN            3.377         7.5  \n145          NaN         NaN         NaN            7.730         7.8  \n145          NaN         NaN         NaN            7.730         7.8  \n145          NaN         NaN         NaN            7.730         7.8  \n...          ...         ...         ...              ...         ...  \n5810  tt20198164         NaN         NaN              NaN         NaN  \n5833         NaN         NaN         NaN            0.840         NaN  \n5840         NaN         NaN         NaN            1.179         7.0  \n5844         NaN         NaN         NaN              NaN         NaN  \n5848         NaN         NaN         NaN            1.296        10.0  \n\n[842 rows x 15 columns]",
      "text/html": "<div>\n<style scoped>\n    .dataframe tbody tr th:only-of-type {\n        vertical-align: middle;\n    }\n\n    .dataframe tbody tr th {\n        vertical-align: top;\n    }\n\n    .dataframe thead th {\n        text-align: right;\n    }\n</style>\n<table border=\"1\" class=\"dataframe\">\n  <thead>\n    <tr style=\"text-align: right;\">\n      <th></th>\n      <th>id</th>\n      <th>title</th>\n      <th>type</th>\n      <th>description</th>\n      <th>release_year</th>\n      <th>age_certification</th>\n      <th>runtime</th>\n      <th>genres</th>\n      <th>production_countries</th>\n      <th>seasons</th>\n      <th>imdb_id</th>\n      <th>imdb_score</th>\n      <th>imdb_votes</th>\n      <th>tmdb_popularity</th>\n      <th>tmdb_score</th>\n    </tr>\n  </thead>\n  <tbody>\n    <tr>\n      <th>0</th>\n      <td>ts300399</td>\n      <td>Five Came Back: The Reference Films</td>\n      <td>SHOW</td>\n      <td>This collection includes 12 World War II-era p...</td>\n      <td>1945-01-01</td>\n      <td>TV-MA</td>\n      <td>51</td>\n      <td>documentation</td>\n      <td>US</td>\n      <td>1.0</td>\n      <td>NaN</td>\n      <td>NaN</td>\n      <td>NaN</td>\n      <td>0.600</td>\n      <td>NaN</td>\n    </tr>\n    <tr>\n      <th>75</th>\n      <td>tm132164</td>\n      <td>Bill Hicks: Sane Man</td>\n      <td>MOVIE</td>\n      <td>Sane Man was filmed before Bill recorded ‘Dang...</td>\n      <td>1989-01-01</td>\n      <td>R</td>\n      <td>80</td>\n      <td>comedy</td>\n      <td>US</td>\n      <td>NaN</td>\n      <td>NaN</td>\n      <td>NaN</td>\n      <td>NaN</td>\n      <td>3.377</td>\n      <td>7.5</td>\n    </tr>\n    <tr>\n      <th>145</th>\n      <td>ts251477</td>\n      <td>My First Errand</td>\n      <td>SHOW</td>\n      <td>“Hajimete no Otsukai” (First Errand) is a Japa...</td>\n      <td>1991-01-01</td>\n      <td>TV-G</td>\n      <td>18</td>\n      <td>documentation</td>\n      <td>JP</td>\n      <td>12.0</td>\n      <td>NaN</td>\n      <td>NaN</td>\n      <td>NaN</td>\n      <td>7.730</td>\n      <td>7.8</td>\n    </tr>\n    <tr>\n      <th>145</th>\n      <td>ts251477</td>\n      <td>My First Errand</td>\n      <td>SHOW</td>\n      <td>“Hajimete no Otsukai” (First Errand) is a Japa...</td>\n      <td>1991-01-01</td>\n      <td>TV-G</td>\n      <td>18</td>\n      <td>family</td>\n      <td>JP</td>\n      <td>12.0</td>\n      <td>NaN</td>\n      <td>NaN</td>\n      <td>NaN</td>\n      <td>7.730</td>\n      <td>7.8</td>\n    </tr>\n    <tr>\n      <th>145</th>\n      <td>ts251477</td>\n      <td>My First Errand</td>\n      <td>SHOW</td>\n      <td>“Hajimete no Otsukai” (First Errand) is a Japa...</td>\n      <td>1991-01-01</td>\n      <td>TV-G</td>\n      <td>18</td>\n      <td>reality</td>\n      <td>JP</td>\n      <td>12.0</td>\n      <td>NaN</td>\n      <td>NaN</td>\n      <td>NaN</td>\n      <td>7.730</td>\n      <td>7.8</td>\n    </tr>\n    <tr>\n      <th>...</th>\n      <td>...</td>\n      <td>...</td>\n      <td>...</td>\n      <td>...</td>\n      <td>...</td>\n      <td>...</td>\n      <td>...</td>\n      <td>...</td>\n      <td>...</td>\n      <td>...</td>\n      <td>...</td>\n      <td>...</td>\n      <td>...</td>\n      <td>...</td>\n      <td>...</td>\n    </tr>\n    <tr>\n      <th>5810</th>\n      <td>tm1225897</td>\n      <td>Social Man</td>\n      <td>MOVIE</td>\n      <td>Two competitive social media Influencers go he...</td>\n      <td>2021-01-01</td>\n      <td>NaN</td>\n      <td>96</td>\n      <td>drama</td>\n      <td>NaN</td>\n      <td>NaN</td>\n      <td>tt20198164</td>\n      <td>NaN</td>\n      <td>NaN</td>\n      <td>NaN</td>\n      <td>NaN</td>\n    </tr>\n    <tr>\n      <th>5833</th>\n      <td>ts307884</td>\n      <td>HQ Barbers</td>\n      <td>SHOW</td>\n      <td>When a family run barber shop in the heart of ...</td>\n      <td>2021-01-01</td>\n      <td>TV-14</td>\n      <td>24</td>\n      <td>comedy</td>\n      <td>NG</td>\n      <td>1.0</td>\n      <td>NaN</td>\n      <td>NaN</td>\n      <td>NaN</td>\n      <td>0.840</td>\n      <td>NaN</td>\n    </tr>\n    <tr>\n      <th>5840</th>\n      <td>tm1216735</td>\n      <td>Sun of the Soil</td>\n      <td>MOVIE</td>\n      <td>In 14th-century Mali, an ambitious young royal...</td>\n      <td>2022-01-01</td>\n      <td>NaN</td>\n      <td>26</td>\n      <td>NaN</td>\n      <td>NaN</td>\n      <td>NaN</td>\n      <td>NaN</td>\n      <td>NaN</td>\n      <td>NaN</td>\n      <td>1.179</td>\n      <td>7.0</td>\n    </tr>\n    <tr>\n      <th>5844</th>\n      <td>tm1074617</td>\n      <td>Bling Empire - The Afterparty</td>\n      <td>MOVIE</td>\n      <td>The stars of \"Bling Empire\" discuss the show's...</td>\n      <td>2021-01-01</td>\n      <td>NaN</td>\n      <td>35</td>\n      <td>NaN</td>\n      <td>US</td>\n      <td>NaN</td>\n      <td>NaN</td>\n      <td>NaN</td>\n      <td>NaN</td>\n      <td>NaN</td>\n      <td>NaN</td>\n    </tr>\n    <tr>\n      <th>5848</th>\n      <td>tm1035612</td>\n      <td>Dad Stop Embarrassing Me - The Afterparty</td>\n      <td>MOVIE</td>\n      <td>Jamie Foxx, David Alan Grier and more from the...</td>\n      <td>2021-01-01</td>\n      <td>PG-13</td>\n      <td>37</td>\n      <td>NaN</td>\n      <td>US</td>\n      <td>NaN</td>\n      <td>NaN</td>\n      <td>NaN</td>\n      <td>NaN</td>\n      <td>1.296</td>\n      <td>10.0</td>\n    </tr>\n  </tbody>\n</table>\n<p>842 rows × 15 columns</p>\n</div>"
     },
     "execution_count": 21,
     "metadata": {},
     "output_type": "execute_result"
    }
   ],
   "source": [
    "cleaned_titles[cleaned_titles[\"imdb_score\"].isnull()]"
   ],
   "metadata": {
    "collapsed": false,
    "ExecuteTime": {
     "end_time": "2024-01-17T10:03:50.303846900Z",
     "start_time": "2024-01-17T10:03:50.256071400Z"
    }
   },
   "execution_count": 21
  },
  {
   "cell_type": "markdown",
   "source": [
    "由于空缺imdb_score值，所以先删除在观察其他空缺"
   ],
   "metadata": {
    "collapsed": false
   }
  },
  {
   "cell_type": "code",
   "outputs": [
    {
     "data": {
      "text/plain": "0"
     },
     "execution_count": 25,
     "metadata": {},
     "output_type": "execute_result"
    }
   ],
   "source": [
    "cleaned_titles = cleaned_titles.dropna(subset = [\"imdb_score\"])\n",
    "cleaned_titles[\"imdb_score\"].isnull().sum()"
   ],
   "metadata": {
    "collapsed": false,
    "ExecuteTime": {
     "end_time": "2024-01-17T10:08:01.794010400Z",
     "start_time": "2024-01-17T10:08:01.751295200Z"
    }
   },
   "execution_count": 25
  },
  {
   "cell_type": "markdown",
   "source": [
    "然后提取出`genres`缺失观察值进行查看。"
   ],
   "metadata": {
    "collapsed": false
   }
  },
  {
   "cell_type": "code",
   "outputs": [
    {
     "data": {
      "text/plain": "             id                                              title   type  \\\n1813    ts77824  My Next Guest Needs No Introduction With David...   SHOW   \n1939   ts215037                              Minecraft: Story Mode   SHOW   \n2386    ts74805                   A Little Help with Carol Burnett   SHOW   \n2658   ts265844                                           #ABtalks   SHOW   \n4274  tm1172010                                  The Lockdown Plan  MOVIE   \n4648  tm1113921                                           In Vitro  MOVIE   \n\n                                            description release_year  \\\n1813  TV legend David Letterman teams up with fascin...   2018-01-01   \n1939  MInecraft: Story Mode is an interactive, anima...   2018-01-01   \n2386  In this unscripted series starring comedy lege...   2018-01-01   \n2658  #ABtalks is a YouTube interview show hosted by...   2018-01-01   \n4274                                                NaN   2020-01-01   \n4648  'In Vitro' is an otherworldly rumination on me...   2019-01-01   \n\n     age_certification  runtime genres production_countries  seasons  \\\n1813             TV-MA       50    NaN                   US      4.0   \n1939             TV-PG       52    NaN                   US      1.0   \n2386              TV-G       24    NaN                   US      1.0   \n2658             TV-PG       68    NaN                  NaN      1.0   \n4274               NaN       49    NaN                  NaN      NaN   \n4648               NaN       27    NaN                  NaN      NaN   \n\n         imdb_id  imdb_score  imdb_votes  tmdb_popularity  tmdb_score  \n1813   tt7829834         7.8      5581.0            8.217         7.6  \n1939  tt10498322         5.6       347.0              NaN         NaN  \n2386   tt7204366         6.3       237.0            1.621         6.2  \n2658  tt12635254         9.6         7.0              NaN         NaN  \n4274  tt13079112         6.5         NaN              NaN         NaN  \n4648  tt10545994         7.7         NaN              NaN         NaN  ",
      "text/html": "<div>\n<style scoped>\n    .dataframe tbody tr th:only-of-type {\n        vertical-align: middle;\n    }\n\n    .dataframe tbody tr th {\n        vertical-align: top;\n    }\n\n    .dataframe thead th {\n        text-align: right;\n    }\n</style>\n<table border=\"1\" class=\"dataframe\">\n  <thead>\n    <tr style=\"text-align: right;\">\n      <th></th>\n      <th>id</th>\n      <th>title</th>\n      <th>type</th>\n      <th>description</th>\n      <th>release_year</th>\n      <th>age_certification</th>\n      <th>runtime</th>\n      <th>genres</th>\n      <th>production_countries</th>\n      <th>seasons</th>\n      <th>imdb_id</th>\n      <th>imdb_score</th>\n      <th>imdb_votes</th>\n      <th>tmdb_popularity</th>\n      <th>tmdb_score</th>\n    </tr>\n  </thead>\n  <tbody>\n    <tr>\n      <th>1813</th>\n      <td>ts77824</td>\n      <td>My Next Guest Needs No Introduction With David...</td>\n      <td>SHOW</td>\n      <td>TV legend David Letterman teams up with fascin...</td>\n      <td>2018-01-01</td>\n      <td>TV-MA</td>\n      <td>50</td>\n      <td>NaN</td>\n      <td>US</td>\n      <td>4.0</td>\n      <td>tt7829834</td>\n      <td>7.8</td>\n      <td>5581.0</td>\n      <td>8.217</td>\n      <td>7.6</td>\n    </tr>\n    <tr>\n      <th>1939</th>\n      <td>ts215037</td>\n      <td>Minecraft: Story Mode</td>\n      <td>SHOW</td>\n      <td>MInecraft: Story Mode is an interactive, anima...</td>\n      <td>2018-01-01</td>\n      <td>TV-PG</td>\n      <td>52</td>\n      <td>NaN</td>\n      <td>US</td>\n      <td>1.0</td>\n      <td>tt10498322</td>\n      <td>5.6</td>\n      <td>347.0</td>\n      <td>NaN</td>\n      <td>NaN</td>\n    </tr>\n    <tr>\n      <th>2386</th>\n      <td>ts74805</td>\n      <td>A Little Help with Carol Burnett</td>\n      <td>SHOW</td>\n      <td>In this unscripted series starring comedy lege...</td>\n      <td>2018-01-01</td>\n      <td>TV-G</td>\n      <td>24</td>\n      <td>NaN</td>\n      <td>US</td>\n      <td>1.0</td>\n      <td>tt7204366</td>\n      <td>6.3</td>\n      <td>237.0</td>\n      <td>1.621</td>\n      <td>6.2</td>\n    </tr>\n    <tr>\n      <th>2658</th>\n      <td>ts265844</td>\n      <td>#ABtalks</td>\n      <td>SHOW</td>\n      <td>#ABtalks is a YouTube interview show hosted by...</td>\n      <td>2018-01-01</td>\n      <td>TV-PG</td>\n      <td>68</td>\n      <td>NaN</td>\n      <td>NaN</td>\n      <td>1.0</td>\n      <td>tt12635254</td>\n      <td>9.6</td>\n      <td>7.0</td>\n      <td>NaN</td>\n      <td>NaN</td>\n    </tr>\n    <tr>\n      <th>4274</th>\n      <td>tm1172010</td>\n      <td>The Lockdown Plan</td>\n      <td>MOVIE</td>\n      <td>NaN</td>\n      <td>2020-01-01</td>\n      <td>NaN</td>\n      <td>49</td>\n      <td>NaN</td>\n      <td>NaN</td>\n      <td>NaN</td>\n      <td>tt13079112</td>\n      <td>6.5</td>\n      <td>NaN</td>\n      <td>NaN</td>\n      <td>NaN</td>\n    </tr>\n    <tr>\n      <th>4648</th>\n      <td>tm1113921</td>\n      <td>In Vitro</td>\n      <td>MOVIE</td>\n      <td>'In Vitro' is an otherworldly rumination on me...</td>\n      <td>2019-01-01</td>\n      <td>NaN</td>\n      <td>27</td>\n      <td>NaN</td>\n      <td>NaN</td>\n      <td>NaN</td>\n      <td>tt10545994</td>\n      <td>7.7</td>\n      <td>NaN</td>\n      <td>NaN</td>\n      <td>NaN</td>\n    </tr>\n  </tbody>\n</table>\n</div>"
     },
     "execution_count": 26,
     "metadata": {},
     "output_type": "execute_result"
    }
   ],
   "source": [
    "cleaned_titles[cleaned_titles[\"genres\"].isnull()]"
   ],
   "metadata": {
    "collapsed": false,
    "ExecuteTime": {
     "end_time": "2024-01-17T10:08:35.037861100Z",
     "start_time": "2024-01-17T10:08:34.966897100Z"
    }
   },
   "execution_count": 26
  },
  {
   "cell_type": "code",
   "outputs": [
    {
     "data": {
      "text/plain": "0"
     },
     "execution_count": 27,
     "metadata": {},
     "output_type": "execute_result"
    }
   ],
   "source": [
    "cleaned_titles = cleaned_titles.dropna(subset = [\"genres\"])\n",
    "cleaned_titles[\"genres\"].isnull().sum()"
   ],
   "metadata": {
    "collapsed": false,
    "ExecuteTime": {
     "end_time": "2024-01-17T10:09:20.113046Z",
     "start_time": "2024-01-17T10:09:20.056500600Z"
    }
   },
   "execution_count": 27
  },
  {
   "cell_type": "markdown",
   "source": [
    "接下来评估`cleaned_credits`的缺失数据，其中只有`character`变量存在缺失值。\n",
    "\n",
    "角色名并不影响我们挖掘各个流派中的高IMDB评分作品演员，并且此变量缺失也有可能因为演职员类别是导演，没有对应角色，因此可以保留`character`变量值存在空缺的观察值。"
   ],
   "metadata": {
    "collapsed": false
   }
  },
  {
   "cell_type": "markdown",
   "source": [
    "### 查看重复数"
   ],
   "metadata": {
    "collapsed": false
   }
  },
  {
   "cell_type": "markdown",
   "source": [
    "根据数据变量的含义以及内容来看，`cleaned_titles`里不应该存在每个变量值都相同的观察值，因此查看是否存在重复值。"
   ],
   "metadata": {
    "collapsed": false
   }
  },
  {
   "cell_type": "code",
   "outputs": [
    {
     "data": {
      "text/plain": "0"
     },
     "execution_count": 30,
     "metadata": {},
     "output_type": "execute_result"
    }
   ],
   "source": [
    "cleaned_titles.duplicated().sum()"
   ],
   "metadata": {
    "collapsed": false,
    "ExecuteTime": {
     "end_time": "2024-01-17T10:10:58.760353600Z",
     "start_time": "2024-01-17T10:10:58.540738700Z"
    }
   },
   "execution_count": 30
  },
  {
   "cell_type": "markdown",
   "source": [
    "输出结果为0，说明不存在重复值。\n",
    "\n",
    "接下来查看`cleaned_credits`数据表是否存在重复值。"
   ],
   "metadata": {
    "collapsed": false
   }
  },
  {
   "cell_type": "code",
   "outputs": [
    {
     "data": {
      "text/plain": "0"
     },
     "execution_count": 31,
     "metadata": {},
     "output_type": "execute_result"
    }
   ],
   "source": [
    "cleaned_credits.duplicated().sum()"
   ],
   "metadata": {
    "collapsed": false,
    "ExecuteTime": {
     "end_time": "2024-01-17T10:11:25.818715100Z",
     "start_time": "2024-01-17T10:11:25.755757600Z"
    }
   },
   "execution_count": 31
  },
  {
   "cell_type": "markdown",
   "source": [
    "输出结果为0，说明不存在重复值"
   ],
   "metadata": {
    "collapsed": false
   }
  },
  {
   "cell_type": "markdown",
   "source": [
    "### 处理不一致数据"
   ],
   "metadata": {
    "collapsed": false
   }
  },
  {
   "cell_type": "markdown",
   "source": [
    "针对`cleaned_titles`，不一致数据可能存在于`genres`和`character`变量中，我们将查看是否存在多个不同值指代同一流派，以及多个不同值指代同一国家的情况。"
   ],
   "metadata": {
    "collapsed": false
   }
  },
  {
   "cell_type": "code",
   "outputs": [
    {
     "data": {
      "text/plain": "genres\ndrama            3357\ncomedy           2419\nthriller         1446\naction           1339\nromance          1080\ncrime            1066\ndocumentation     981\nfamily            769\nanimation         732\nfantasy           727\neuropean          679\nscifi             647\nhorror            438\nhistory           336\nmusic             266\nreality           226\nwar               221\nsport             188\nwestern            53\nName: count, dtype: int64"
     },
     "execution_count": 32,
     "metadata": {},
     "output_type": "execute_result"
    }
   ],
   "source": [
    "cleaned_titles['genres'].value_counts()"
   ],
   "metadata": {
    "collapsed": false,
    "ExecuteTime": {
     "end_time": "2024-01-17T10:12:45.854577200Z",
     "start_time": "2024-01-17T10:12:45.810829600Z"
    }
   },
   "execution_count": 32
  },
  {
   "cell_type": "markdown",
   "source": [
    "从上面看出，`genres`列里并不存在不一致数据，各个值都在指代不同的流派。但是里面还存在空字符串表示的流派，并非有效数据，因此可以进行删除。\n",
    "\n",
    "删除后，查看`cleaned_titles`里是否还存在`genres`为空字符串的行："
   ],
   "metadata": {
    "collapsed": false
   }
  },
  {
   "cell_type": "code",
   "outputs": [
    {
     "data": {
      "text/plain": "Empty DataFrame\nColumns: [id, title, type, description, release_year, age_certification, runtime, genres, production_countries, seasons, imdb_id, imdb_score, imdb_votes, tmdb_popularity, tmdb_score]\nIndex: []",
      "text/html": "<div>\n<style scoped>\n    .dataframe tbody tr th:only-of-type {\n        vertical-align: middle;\n    }\n\n    .dataframe tbody tr th {\n        vertical-align: top;\n    }\n\n    .dataframe thead th {\n        text-align: right;\n    }\n</style>\n<table border=\"1\" class=\"dataframe\">\n  <thead>\n    <tr style=\"text-align: right;\">\n      <th></th>\n      <th>id</th>\n      <th>title</th>\n      <th>type</th>\n      <th>description</th>\n      <th>release_year</th>\n      <th>age_certification</th>\n      <th>runtime</th>\n      <th>genres</th>\n      <th>production_countries</th>\n      <th>seasons</th>\n      <th>imdb_id</th>\n      <th>imdb_score</th>\n      <th>imdb_votes</th>\n      <th>tmdb_popularity</th>\n      <th>tmdb_score</th>\n    </tr>\n  </thead>\n  <tbody>\n  </tbody>\n</table>\n</div>"
     },
     "execution_count": 33,
     "metadata": {},
     "output_type": "execute_result"
    }
   ],
   "source": [
    "cleaned_titles =cleaned_titles.query('genres != \"\"')\n",
    "cleaned_titles.query('genres == \"\"')"
   ],
   "metadata": {
    "collapsed": false,
    "ExecuteTime": {
     "end_time": "2024-01-17T10:15:28.607426800Z",
     "start_time": "2024-01-17T10:15:28.577282700Z"
    }
   },
   "execution_count": 33
  },
  {
   "cell_type": "markdown",
   "source": [
    "接下来，针对`production_countries`列也是一样的流程，利用`value_counts`方法，得到`production_countries`的列表里面各个值的出现次数。"
   ],
   "metadata": {
    "collapsed": false
   }
  },
  {
   "cell_type": "code",
   "outputs": [
    {
     "data": {
      "text/plain": "production_countries\nUS    5648\nIN    1610\nGB    1068\nJP    1046\nFR     720\n      ... \nGT       1\nCU       1\nLK       1\nNP       1\nFO       1\nName: count, Length: 108, dtype: int64"
     },
     "execution_count": 35,
     "metadata": {},
     "output_type": "execute_result"
    }
   ],
   "source": [
    "cleaned_titles['production_countries'].value_counts()"
   ],
   "metadata": {
    "collapsed": false,
    "ExecuteTime": {
     "end_time": "2024-01-17T10:16:40.374419400Z",
     "start_time": "2024-01-17T10:16:40.313607100Z"
    }
   },
   "execution_count": 35
  },
  {
   "cell_type": "markdown",
   "source": [
    "由于`value_counts`执行结果中有太多值，Pandas只会默认显示开头和结尾的一些值。要完整展示结果，可以把`display.max_rows`设置为`None`，即取消展示行数上限。\n",
    "\n",
    "但因为我们只是在当前调用`value_counts`时才需要看完整结果，所以可以结合`option_context`，只更改临时上限。"
   ],
   "metadata": {
    "collapsed": false
   }
  },
  {
   "cell_type": "code",
   "outputs": [
    {
     "name": "stdout",
     "output_type": "stream",
     "text": [
      "production_countries\n",
      "US         5648\n",
      "IN         1610\n",
      "GB         1068\n",
      "JP         1046\n",
      "FR          720\n",
      "KR          637\n",
      "ES          637\n",
      "CA          608\n",
      "DE          383\n",
      "CN          295\n",
      "MX          264\n",
      "IT          224\n",
      "BR          221\n",
      "AU          217\n",
      "TR          195\n",
      "PH          192\n",
      "AR          150\n",
      "ID          149\n",
      "BE          148\n",
      "TW          133\n",
      "NG          131\n",
      "PL          126\n",
      "ZA          103\n",
      "NL          102\n",
      "HK          102\n",
      "CO           94\n",
      "EG           93\n",
      "DK           89\n",
      "TH           87\n",
      "SE           81\n",
      "LB           70\n",
      "NO           68\n",
      "AE           52\n",
      "IE           49\n",
      "SG           47\n",
      "XX           43\n",
      "IL           42\n",
      "RU           41\n",
      "CL           35\n",
      "CH           33\n",
      "PS           32\n",
      "BG           31\n",
      "MY           30\n",
      "SA           28\n",
      "AT           28\n",
      "IS           28\n",
      "LU           27\n",
      "NZ           27\n",
      "PE           26\n",
      "RO           25\n",
      "QA           24\n",
      "CZ           22\n",
      "JO           19\n",
      "FI           18\n",
      "HU           18\n",
      "UY           15\n",
      "MA           15\n",
      "PT           14\n",
      "KH           10\n",
      "KW           10\n",
      "PR            9\n",
      "PK            9\n",
      "MT            8\n",
      "UA            8\n",
      "VN            8\n",
      "LT            7\n",
      "IR            7\n",
      "SU            7\n",
      "CD            7\n",
      "TN            7\n",
      "SN            6\n",
      "AL            6\n",
      "KE            6\n",
      "GH            6\n",
      "IQ            5\n",
      "MU            5\n",
      "CY            5\n",
      "KN            4\n",
      "GR            4\n",
      "IO            4\n",
      "SY            4\n",
      "MC            4\n",
      "TZ            4\n",
      "GL            3\n",
      "HR            3\n",
      "AO            3\n",
      "BD            3\n",
      "CM            3\n",
      "PY            3\n",
      "BS            3\n",
      "DZ            3\n",
      "ZW            2\n",
      "KG            2\n",
      "BT            2\n",
      "VE            2\n",
      "RS            2\n",
      "MW            2\n",
      "VA            2\n",
      "BY            2\n",
      "BF            2\n",
      "GE            1\n",
      "AF            1\n",
      "Lebanon       1\n",
      "GT            1\n",
      "CU            1\n",
      "LK            1\n",
      "NP            1\n",
      "FO            1\n",
      "Name: count, dtype: int64\n"
     ]
    }
   ],
   "source": [
    "with pd.option_context('display.max_rows', None):\n",
    "    print(cleaned_titles['production_countries'].value_counts())"
   ],
   "metadata": {
    "collapsed": false,
    "ExecuteTime": {
     "end_time": "2024-01-17T10:18:13.542262500Z",
     "start_time": "2024-01-17T10:18:13.493571Z"
    }
   },
   "execution_count": 36
  },
  {
   "cell_type": "markdown",
   "source": [
    "从以上输出结果来看，出品国家都用两位的国家代码来表示，除了里面存在一个的`Lebanon`值。\n",
    "\n",
    "`Lebanon`的国家代码是`LB`，出现了39次，说明此处数据不一致。`LB`和`Lebanon`都在表示同一国家，需要进行统一。"
   ],
   "metadata": {
    "collapsed": false
   }
  },
  {
   "cell_type": "markdown",
   "source": [
    "把`cleaned_titles`里，`production_countries`的`\"LB\"`和`\"Lebanon\"`统一为`LB`，并检查替换后是否还存在`\"LB\"`："
   ],
   "metadata": {
    "collapsed": false
   }
  },
  {
   "cell_type": "code",
   "outputs": [
    {
     "name": "stdout",
     "output_type": "stream",
     "text": [
      "production_countries\n",
      "US    5648\n",
      "IN    1610\n",
      "GB    1068\n",
      "JP    1046\n",
      "FR     720\n",
      "KR     637\n",
      "ES     637\n",
      "CA     608\n",
      "DE     383\n",
      "CN     295\n",
      "MX     264\n",
      "IT     224\n",
      "BR     221\n",
      "AU     217\n",
      "TR     195\n",
      "PH     192\n",
      "AR     150\n",
      "ID     149\n",
      "BE     148\n",
      "TW     133\n",
      "NG     131\n",
      "PL     126\n",
      "ZA     103\n",
      "HK     102\n",
      "NL     102\n",
      "CO      94\n",
      "EG      93\n",
      "DK      89\n",
      "TH      87\n",
      "SE      81\n",
      "LB      71\n",
      "NO      68\n",
      "AE      52\n",
      "IE      49\n",
      "SG      47\n",
      "XX      43\n",
      "IL      42\n",
      "RU      41\n",
      "CL      35\n",
      "CH      33\n",
      "PS      32\n",
      "BG      31\n",
      "MY      30\n",
      "AT      28\n",
      "SA      28\n",
      "IS      28\n",
      "LU      27\n",
      "NZ      27\n",
      "PE      26\n",
      "RO      25\n",
      "QA      24\n",
      "CZ      22\n",
      "JO      19\n",
      "FI      18\n",
      "HU      18\n",
      "UY      15\n",
      "MA      15\n",
      "PT      14\n",
      "KW      10\n",
      "KH      10\n",
      "PK       9\n",
      "PR       9\n",
      "UA       8\n",
      "MT       8\n",
      "VN       8\n",
      "LT       7\n",
      "IR       7\n",
      "CD       7\n",
      "SU       7\n",
      "TN       7\n",
      "SN       6\n",
      "AL       6\n",
      "KE       6\n",
      "GH       6\n",
      "IQ       5\n",
      "MU       5\n",
      "CY       5\n",
      "KN       4\n",
      "GR       4\n",
      "IO       4\n",
      "SY       4\n",
      "TZ       4\n",
      "MC       4\n",
      "GL       3\n",
      "CM       3\n",
      "AO       3\n",
      "BS       3\n",
      "HR       3\n",
      "BD       3\n",
      "PY       3\n",
      "DZ       3\n",
      "KG       2\n",
      "BT       2\n",
      "BF       2\n",
      "MW       2\n",
      "RS       2\n",
      "VE       2\n",
      "ZW       2\n",
      "VA       2\n",
      "BY       2\n",
      "NP       1\n",
      "GE       1\n",
      "AF       1\n",
      "LK       1\n",
      "GT       1\n",
      "CU       1\n",
      "FO       1\n",
      "Name: count, dtype: int64\n"
     ]
    }
   ],
   "source": [
    "cleaned_titles['production_countries'] = cleaned_titles['production_countries'].replace({\"Lebanon\":\"LB\"})\n",
    "with pd.option_context('display.max_rows', None):\n",
    "    print(cleaned_titles['production_countries'].value_counts())"
   ],
   "metadata": {
    "collapsed": false,
    "ExecuteTime": {
     "end_time": "2024-01-17T10:20:05.835433900Z",
     "start_time": "2024-01-17T10:20:05.782233800Z"
    }
   },
   "execution_count": 37
  },
  {
   "cell_type": "markdown",
   "source": [
    "另外，里面还存在空字符串表示的国家代码，并非有效数据。但由于出品国家并非分析所需的关键信息，所以可以保留出品国家为空的观察值。"
   ],
   "metadata": {
    "collapsed": false
   }
  },
  {
   "cell_type": "markdown",
   "source": [
    "针对`original_credits`，不一致数据可能存在于`role`中，我们将查看是否存在多个不同值指代同一演职员类型的情况。"
   ],
   "metadata": {
    "collapsed": false
   }
  },
  {
   "cell_type": "code",
   "outputs": [
    {
     "data": {
      "text/plain": "role\nACTOR       73251\nDIRECTOR     4550\nName: count, dtype: int64"
     },
     "execution_count": 38,
     "metadata": {},
     "output_type": "execute_result"
    }
   ],
   "source": [
    "cleaned_credits['role'].value_counts()"
   ],
   "metadata": {
    "collapsed": false,
    "ExecuteTime": {
     "end_time": "2024-01-17T10:21:28.004540400Z",
     "start_time": "2024-01-17T10:21:27.957022900Z"
    }
   },
   "execution_count": 38
  },
  {
   "cell_type": "markdown",
   "source": [
    "从以上输出结果来看，`role`只有两种可能的值，`ACTOR`或`DIRECTOR`，不存在不一致数据。我们可以把这列的类型转换为`Category`，好处是比字符串类型更节约内存空间，也能表明说值的类型有限。"
   ],
   "metadata": {
    "collapsed": false
   }
  },
  {
   "cell_type": "code",
   "outputs": [
    {
     "data": {
      "text/plain": "0           ACTOR\n1           ACTOR\n2           ACTOR\n3           ACTOR\n4           ACTOR\n           ...   \n77796       ACTOR\n77797       ACTOR\n77798       ACTOR\n77799       ACTOR\n77800    DIRECTOR\nName: role, Length: 77801, dtype: category\nCategories (2, object): ['ACTOR', 'DIRECTOR']"
     },
     "execution_count": 39,
     "metadata": {},
     "output_type": "execute_result"
    }
   ],
   "source": [
    "cleaned_credits['role'] = cleaned_credits['role'].astype('category')\n",
    "cleaned_credits['role']"
   ],
   "metadata": {
    "collapsed": false,
    "ExecuteTime": {
     "end_time": "2024-01-17T10:23:11.237418200Z",
     "start_time": "2024-01-17T10:23:11.139375Z"
    }
   },
   "execution_count": 39
  },
  {
   "cell_type": "markdown",
   "source": [
    "### 处理无效错误数据"
   ],
   "metadata": {
    "collapsed": false
   }
  },
  {
   "cell_type": "code",
   "outputs": [
    {
     "data": {
      "text/plain": "                        release_year       runtime      seasons    imdb_score  \\\ncount                          16970  16970.000000  5954.000000  16970.000000   \nmean   2015-11-14 22:42:51.974072064     80.912552     2.455492      6.514207   \nmin              1954-01-01 00:00:00      0.000000     1.000000      1.500000   \n25%              2015-01-01 00:00:00     45.000000     1.000000      5.800000   \n50%              2018-01-01 00:00:00     90.000000     2.000000      6.600000   \n75%              2020-01-01 00:00:00    107.000000     3.000000      7.300000   \nmax              2022-01-01 00:00:00    225.000000    42.000000      9.500000   \nstd                              NaN     39.596172     2.869428      1.131095   \n\n         imdb_votes  tmdb_popularity    tmdb_score  \ncount  1.694100e+04     16842.000000  16515.000000  \nmean   3.281655e+04        29.396307      6.846933  \nmin    5.000000e+00         0.600000      1.000000  \n25%    7.800000e+02         4.070000      6.200000  \n50%    3.508000e+03        10.195000      6.900000  \n75%    1.697800e+04        23.639000      7.500000  \nmax    2.294231e+06      2274.044000     10.000000  \nstd    1.141492e+05        93.178235      1.078831  ",
      "text/html": "<div>\n<style scoped>\n    .dataframe tbody tr th:only-of-type {\n        vertical-align: middle;\n    }\n\n    .dataframe tbody tr th {\n        vertical-align: top;\n    }\n\n    .dataframe thead th {\n        text-align: right;\n    }\n</style>\n<table border=\"1\" class=\"dataframe\">\n  <thead>\n    <tr style=\"text-align: right;\">\n      <th></th>\n      <th>release_year</th>\n      <th>runtime</th>\n      <th>seasons</th>\n      <th>imdb_score</th>\n      <th>imdb_votes</th>\n      <th>tmdb_popularity</th>\n      <th>tmdb_score</th>\n    </tr>\n  </thead>\n  <tbody>\n    <tr>\n      <th>count</th>\n      <td>16970</td>\n      <td>16970.000000</td>\n      <td>5954.000000</td>\n      <td>16970.000000</td>\n      <td>1.694100e+04</td>\n      <td>16842.000000</td>\n      <td>16515.000000</td>\n    </tr>\n    <tr>\n      <th>mean</th>\n      <td>2015-11-14 22:42:51.974072064</td>\n      <td>80.912552</td>\n      <td>2.455492</td>\n      <td>6.514207</td>\n      <td>3.281655e+04</td>\n      <td>29.396307</td>\n      <td>6.846933</td>\n    </tr>\n    <tr>\n      <th>min</th>\n      <td>1954-01-01 00:00:00</td>\n      <td>0.000000</td>\n      <td>1.000000</td>\n      <td>1.500000</td>\n      <td>5.000000e+00</td>\n      <td>0.600000</td>\n      <td>1.000000</td>\n    </tr>\n    <tr>\n      <th>25%</th>\n      <td>2015-01-01 00:00:00</td>\n      <td>45.000000</td>\n      <td>1.000000</td>\n      <td>5.800000</td>\n      <td>7.800000e+02</td>\n      <td>4.070000</td>\n      <td>6.200000</td>\n    </tr>\n    <tr>\n      <th>50%</th>\n      <td>2018-01-01 00:00:00</td>\n      <td>90.000000</td>\n      <td>2.000000</td>\n      <td>6.600000</td>\n      <td>3.508000e+03</td>\n      <td>10.195000</td>\n      <td>6.900000</td>\n    </tr>\n    <tr>\n      <th>75%</th>\n      <td>2020-01-01 00:00:00</td>\n      <td>107.000000</td>\n      <td>3.000000</td>\n      <td>7.300000</td>\n      <td>1.697800e+04</td>\n      <td>23.639000</td>\n      <td>7.500000</td>\n    </tr>\n    <tr>\n      <th>max</th>\n      <td>2022-01-01 00:00:00</td>\n      <td>225.000000</td>\n      <td>42.000000</td>\n      <td>9.500000</td>\n      <td>2.294231e+06</td>\n      <td>2274.044000</td>\n      <td>10.000000</td>\n    </tr>\n    <tr>\n      <th>std</th>\n      <td>NaN</td>\n      <td>39.596172</td>\n      <td>2.869428</td>\n      <td>1.131095</td>\n      <td>1.141492e+05</td>\n      <td>93.178235</td>\n      <td>1.078831</td>\n    </tr>\n  </tbody>\n</table>\n</div>"
     },
     "execution_count": 41,
     "metadata": {},
     "output_type": "execute_result"
    }
   ],
   "source": [
    "cleaned_titles.describe()"
   ],
   "metadata": {
    "collapsed": false,
    "ExecuteTime": {
     "end_time": "2024-01-17T10:24:15.016584Z",
     "start_time": "2024-01-17T10:24:14.962604Z"
    }
   },
   "execution_count": 41
  },
  {
   "cell_type": "markdown",
   "source": [
    "从以上统计信息来看，`original_titles`里不存在脱离现实意义的数值。\n",
    "\n",
    "`original_credits`由于不包含表示数值含义的变量，因此无需用`describe`检查。"
   ],
   "metadata": {
    "collapsed": false
   }
  },
  {
   "cell_type": "markdown",
   "source": [
    "# 整理数据"
   ],
   "metadata": {
    "collapsed": false
   }
  },
  {
   "cell_type": "code",
   "outputs": [
    {
     "data": {
      "text/plain": "             id                               title   type  \\\n1       tm84618                         Taxi Driver  MOVIE   \n1       tm84618                         Taxi Driver  MOVIE   \n2      tm154986                         Deliverance  MOVIE   \n2      tm154986                         Deliverance  MOVIE   \n2      tm154986                         Deliverance  MOVIE   \n...         ...                                 ...    ...   \n5846   tm898842                         C/O Kaadhal  MOVIE   \n5847  tm1059008                             Lokillo  MOVIE   \n5849   ts271048  Mighty Little Bheem: Kite Festival   SHOW   \n5849   ts271048  Mighty Little Bheem: Kite Festival   SHOW   \n5849   ts271048  Mighty Little Bheem: Kite Festival   SHOW   \n\n                                            description release_year  \\\n1     A mentally unstable Vietnam War veteran works ...   1976-01-01   \n1     A mentally unstable Vietnam War veteran works ...   1976-01-01   \n2     Intent on seeing the Cahulawassee River before...   1972-01-01   \n2     Intent on seeing the Cahulawassee River before...   1972-01-01   \n2     Intent on seeing the Cahulawassee River before...   1972-01-01   \n...                                                 ...          ...   \n5846  A heart warming film that explores the concept...   2021-01-01   \n5847  A controversial TV host and comedian who has b...   2021-01-01   \n5849  With winter behind them, Bheem and his townspe...   2021-01-01   \n5849  With winter behind them, Bheem and his townspe...   2021-01-01   \n5849  With winter behind them, Bheem and his townspe...   2021-01-01   \n\n     age_certification  runtime     genres production_countries  seasons  \\\n1                    R      114      drama                   US      NaN   \n1                    R      114      crime                   US      NaN   \n2                    R      109      drama                   US      NaN   \n2                    R      109     action                   US      NaN   \n2                    R      109   thriller                   US      NaN   \n...                ...      ...        ...                  ...      ...   \n5846               NaN      134      drama                  NaN      NaN   \n5847               NaN       90     comedy                   CO      NaN   \n5849               NaN        7     family                  NaN      1.0   \n5849               NaN        7  animation                  NaN      1.0   \n5849               NaN        7     comedy                  NaN      1.0   \n\n         imdb_id  imdb_score  imdb_votes  tmdb_popularity  tmdb_score  \n1      tt0075314         8.2    808582.0           40.965       8.179  \n1      tt0075314         8.2    808582.0           40.965       8.179  \n2      tt0068473         7.7    107673.0           10.010       7.300  \n2      tt0068473         7.7    107673.0           10.010       7.300  \n2      tt0068473         7.7    107673.0           10.010       7.300  \n...          ...         ...         ...              ...         ...  \n5846  tt11803618         7.7       348.0              NaN         NaN  \n5847  tt14585902         3.8        68.0           26.005       6.300  \n5849  tt13711094         7.8        18.0            2.289      10.000  \n5849  tt13711094         7.8        18.0            2.289      10.000  \n5849  tt13711094         7.8        18.0            2.289      10.000  \n\n[16970 rows x 15 columns]",
      "text/html": "<div>\n<style scoped>\n    .dataframe tbody tr th:only-of-type {\n        vertical-align: middle;\n    }\n\n    .dataframe tbody tr th {\n        vertical-align: top;\n    }\n\n    .dataframe thead th {\n        text-align: right;\n    }\n</style>\n<table border=\"1\" class=\"dataframe\">\n  <thead>\n    <tr style=\"text-align: right;\">\n      <th></th>\n      <th>id</th>\n      <th>title</th>\n      <th>type</th>\n      <th>description</th>\n      <th>release_year</th>\n      <th>age_certification</th>\n      <th>runtime</th>\n      <th>genres</th>\n      <th>production_countries</th>\n      <th>seasons</th>\n      <th>imdb_id</th>\n      <th>imdb_score</th>\n      <th>imdb_votes</th>\n      <th>tmdb_popularity</th>\n      <th>tmdb_score</th>\n    </tr>\n  </thead>\n  <tbody>\n    <tr>\n      <th>1</th>\n      <td>tm84618</td>\n      <td>Taxi Driver</td>\n      <td>MOVIE</td>\n      <td>A mentally unstable Vietnam War veteran works ...</td>\n      <td>1976-01-01</td>\n      <td>R</td>\n      <td>114</td>\n      <td>drama</td>\n      <td>US</td>\n      <td>NaN</td>\n      <td>tt0075314</td>\n      <td>8.2</td>\n      <td>808582.0</td>\n      <td>40.965</td>\n      <td>8.179</td>\n    </tr>\n    <tr>\n      <th>1</th>\n      <td>tm84618</td>\n      <td>Taxi Driver</td>\n      <td>MOVIE</td>\n      <td>A mentally unstable Vietnam War veteran works ...</td>\n      <td>1976-01-01</td>\n      <td>R</td>\n      <td>114</td>\n      <td>crime</td>\n      <td>US</td>\n      <td>NaN</td>\n      <td>tt0075314</td>\n      <td>8.2</td>\n      <td>808582.0</td>\n      <td>40.965</td>\n      <td>8.179</td>\n    </tr>\n    <tr>\n      <th>2</th>\n      <td>tm154986</td>\n      <td>Deliverance</td>\n      <td>MOVIE</td>\n      <td>Intent on seeing the Cahulawassee River before...</td>\n      <td>1972-01-01</td>\n      <td>R</td>\n      <td>109</td>\n      <td>drama</td>\n      <td>US</td>\n      <td>NaN</td>\n      <td>tt0068473</td>\n      <td>7.7</td>\n      <td>107673.0</td>\n      <td>10.010</td>\n      <td>7.300</td>\n    </tr>\n    <tr>\n      <th>2</th>\n      <td>tm154986</td>\n      <td>Deliverance</td>\n      <td>MOVIE</td>\n      <td>Intent on seeing the Cahulawassee River before...</td>\n      <td>1972-01-01</td>\n      <td>R</td>\n      <td>109</td>\n      <td>action</td>\n      <td>US</td>\n      <td>NaN</td>\n      <td>tt0068473</td>\n      <td>7.7</td>\n      <td>107673.0</td>\n      <td>10.010</td>\n      <td>7.300</td>\n    </tr>\n    <tr>\n      <th>2</th>\n      <td>tm154986</td>\n      <td>Deliverance</td>\n      <td>MOVIE</td>\n      <td>Intent on seeing the Cahulawassee River before...</td>\n      <td>1972-01-01</td>\n      <td>R</td>\n      <td>109</td>\n      <td>thriller</td>\n      <td>US</td>\n      <td>NaN</td>\n      <td>tt0068473</td>\n      <td>7.7</td>\n      <td>107673.0</td>\n      <td>10.010</td>\n      <td>7.300</td>\n    </tr>\n    <tr>\n      <th>...</th>\n      <td>...</td>\n      <td>...</td>\n      <td>...</td>\n      <td>...</td>\n      <td>...</td>\n      <td>...</td>\n      <td>...</td>\n      <td>...</td>\n      <td>...</td>\n      <td>...</td>\n      <td>...</td>\n      <td>...</td>\n      <td>...</td>\n      <td>...</td>\n      <td>...</td>\n    </tr>\n    <tr>\n      <th>5846</th>\n      <td>tm898842</td>\n      <td>C/O Kaadhal</td>\n      <td>MOVIE</td>\n      <td>A heart warming film that explores the concept...</td>\n      <td>2021-01-01</td>\n      <td>NaN</td>\n      <td>134</td>\n      <td>drama</td>\n      <td>NaN</td>\n      <td>NaN</td>\n      <td>tt11803618</td>\n      <td>7.7</td>\n      <td>348.0</td>\n      <td>NaN</td>\n      <td>NaN</td>\n    </tr>\n    <tr>\n      <th>5847</th>\n      <td>tm1059008</td>\n      <td>Lokillo</td>\n      <td>MOVIE</td>\n      <td>A controversial TV host and comedian who has b...</td>\n      <td>2021-01-01</td>\n      <td>NaN</td>\n      <td>90</td>\n      <td>comedy</td>\n      <td>CO</td>\n      <td>NaN</td>\n      <td>tt14585902</td>\n      <td>3.8</td>\n      <td>68.0</td>\n      <td>26.005</td>\n      <td>6.300</td>\n    </tr>\n    <tr>\n      <th>5849</th>\n      <td>ts271048</td>\n      <td>Mighty Little Bheem: Kite Festival</td>\n      <td>SHOW</td>\n      <td>With winter behind them, Bheem and his townspe...</td>\n      <td>2021-01-01</td>\n      <td>NaN</td>\n      <td>7</td>\n      <td>family</td>\n      <td>NaN</td>\n      <td>1.0</td>\n      <td>tt13711094</td>\n      <td>7.8</td>\n      <td>18.0</td>\n      <td>2.289</td>\n      <td>10.000</td>\n    </tr>\n    <tr>\n      <th>5849</th>\n      <td>ts271048</td>\n      <td>Mighty Little Bheem: Kite Festival</td>\n      <td>SHOW</td>\n      <td>With winter behind them, Bheem and his townspe...</td>\n      <td>2021-01-01</td>\n      <td>NaN</td>\n      <td>7</td>\n      <td>animation</td>\n      <td>NaN</td>\n      <td>1.0</td>\n      <td>tt13711094</td>\n      <td>7.8</td>\n      <td>18.0</td>\n      <td>2.289</td>\n      <td>10.000</td>\n    </tr>\n    <tr>\n      <th>5849</th>\n      <td>ts271048</td>\n      <td>Mighty Little Bheem: Kite Festival</td>\n      <td>SHOW</td>\n      <td>With winter behind them, Bheem and his townspe...</td>\n      <td>2021-01-01</td>\n      <td>NaN</td>\n      <td>7</td>\n      <td>comedy</td>\n      <td>NaN</td>\n      <td>1.0</td>\n      <td>tt13711094</td>\n      <td>7.8</td>\n      <td>18.0</td>\n      <td>2.289</td>\n      <td>10.000</td>\n    </tr>\n  </tbody>\n</table>\n<p>16970 rows × 15 columns</p>\n</div>"
     },
     "execution_count": 42,
     "metadata": {},
     "output_type": "execute_result"
    }
   ],
   "source": [
    "cleaned_titles"
   ],
   "metadata": {
    "collapsed": false,
    "ExecuteTime": {
     "end_time": "2024-01-17T10:25:52.467789300Z",
     "start_time": "2024-01-17T10:25:52.367243300Z"
    }
   },
   "execution_count": 42
  },
  {
   "cell_type": "code",
   "outputs": [
    {
     "data": {
      "text/plain": "      person_id         id                name                character  \\\n0          3748    tm84618      Robert De Niro            Travis Bickle   \n1         14658    tm84618        Jodie Foster            Iris Steensma   \n2          7064    tm84618       Albert Brooks                      Tom   \n3          3739    tm84618       Harvey Keitel  Matthew 'Sport' Higgins   \n4         48933    tm84618     Cybill Shepherd                    Betsy   \n...         ...        ...                 ...                      ...   \n77796    736339  tm1059008    Adelaida Buscato                María Paz   \n77797    399499  tm1059008  Luz Stella Luengas             Karen Bayona   \n77798    373198  tm1059008         Inés Prieto                    Fanny   \n77799    378132  tm1059008        Isabel Gaona                   Cacica   \n77800   1950416  tm1059008      Julian Gaviria                      NaN   \n\n           role  \n0         ACTOR  \n1         ACTOR  \n2         ACTOR  \n3         ACTOR  \n4         ACTOR  \n...         ...  \n77796     ACTOR  \n77797     ACTOR  \n77798     ACTOR  \n77799     ACTOR  \n77800  DIRECTOR  \n\n[77801 rows x 5 columns]",
      "text/html": "<div>\n<style scoped>\n    .dataframe tbody tr th:only-of-type {\n        vertical-align: middle;\n    }\n\n    .dataframe tbody tr th {\n        vertical-align: top;\n    }\n\n    .dataframe thead th {\n        text-align: right;\n    }\n</style>\n<table border=\"1\" class=\"dataframe\">\n  <thead>\n    <tr style=\"text-align: right;\">\n      <th></th>\n      <th>person_id</th>\n      <th>id</th>\n      <th>name</th>\n      <th>character</th>\n      <th>role</th>\n    </tr>\n  </thead>\n  <tbody>\n    <tr>\n      <th>0</th>\n      <td>3748</td>\n      <td>tm84618</td>\n      <td>Robert De Niro</td>\n      <td>Travis Bickle</td>\n      <td>ACTOR</td>\n    </tr>\n    <tr>\n      <th>1</th>\n      <td>14658</td>\n      <td>tm84618</td>\n      <td>Jodie Foster</td>\n      <td>Iris Steensma</td>\n      <td>ACTOR</td>\n    </tr>\n    <tr>\n      <th>2</th>\n      <td>7064</td>\n      <td>tm84618</td>\n      <td>Albert Brooks</td>\n      <td>Tom</td>\n      <td>ACTOR</td>\n    </tr>\n    <tr>\n      <th>3</th>\n      <td>3739</td>\n      <td>tm84618</td>\n      <td>Harvey Keitel</td>\n      <td>Matthew 'Sport' Higgins</td>\n      <td>ACTOR</td>\n    </tr>\n    <tr>\n      <th>4</th>\n      <td>48933</td>\n      <td>tm84618</td>\n      <td>Cybill Shepherd</td>\n      <td>Betsy</td>\n      <td>ACTOR</td>\n    </tr>\n    <tr>\n      <th>...</th>\n      <td>...</td>\n      <td>...</td>\n      <td>...</td>\n      <td>...</td>\n      <td>...</td>\n    </tr>\n    <tr>\n      <th>77796</th>\n      <td>736339</td>\n      <td>tm1059008</td>\n      <td>Adelaida Buscato</td>\n      <td>María Paz</td>\n      <td>ACTOR</td>\n    </tr>\n    <tr>\n      <th>77797</th>\n      <td>399499</td>\n      <td>tm1059008</td>\n      <td>Luz Stella Luengas</td>\n      <td>Karen Bayona</td>\n      <td>ACTOR</td>\n    </tr>\n    <tr>\n      <th>77798</th>\n      <td>373198</td>\n      <td>tm1059008</td>\n      <td>Inés Prieto</td>\n      <td>Fanny</td>\n      <td>ACTOR</td>\n    </tr>\n    <tr>\n      <th>77799</th>\n      <td>378132</td>\n      <td>tm1059008</td>\n      <td>Isabel Gaona</td>\n      <td>Cacica</td>\n      <td>ACTOR</td>\n    </tr>\n    <tr>\n      <th>77800</th>\n      <td>1950416</td>\n      <td>tm1059008</td>\n      <td>Julian Gaviria</td>\n      <td>NaN</td>\n      <td>DIRECTOR</td>\n    </tr>\n  </tbody>\n</table>\n<p>77801 rows × 5 columns</p>\n</div>"
     },
     "execution_count": 43,
     "metadata": {},
     "output_type": "execute_result"
    }
   ],
   "source": [
    "cleaned_credits"
   ],
   "metadata": {
    "collapsed": false,
    "ExecuteTime": {
     "end_time": "2024-01-17T10:25:56.478771600Z",
     "start_time": "2024-01-17T10:25:56.425933500Z"
    }
   },
   "execution_count": 43
  },
  {
   "cell_type": "markdown",
   "source": [
    "对数据的整理，与分析方向紧密相关。此次数据分析目标是，整理不同流派影视作品，比如喜剧片、动作片、科幻片中，演员出演作品的平均IMDB评分，从而挖掘出各个流派中的高评分作品演员。\n",
    "\n",
    "那为了能同时获得流派与演员数据，我们需要把`cleaned_titles`和`cleaned_credits`，通过`id`作为键进行连接，因为两个数据表中`id`都是影视作品ID。"
   ],
   "metadata": {
    "collapsed": false
   }
  },
  {
   "cell_type": "code",
   "outputs": [],
   "source": [
    "credits_with_titles = pd.merge(cleaned_credits,cleaned_titles,on = 'id' ,how = 'inner')"
   ],
   "metadata": {
    "collapsed": false,
    "ExecuteTime": {
     "end_time": "2024-01-17T10:29:25.548862800Z",
     "start_time": "2024-01-17T10:29:25.359029300Z"
    }
   },
   "execution_count": 45
  },
  {
   "cell_type": "markdown",
   "source": [
    "连接后，我们就能知道各个演职员参与过的影视作品的具体信息。"
   ],
   "metadata": {
    "collapsed": false
   }
  },
  {
   "cell_type": "code",
   "outputs": [
    {
     "data": {
      "text/plain": "  person_id       id            name      character   role        title  \\\n0      3748  tm84618  Robert De Niro  Travis Bickle  ACTOR  Taxi Driver   \n1      3748  tm84618  Robert De Niro  Travis Bickle  ACTOR  Taxi Driver   \n2     14658  tm84618    Jodie Foster  Iris Steensma  ACTOR  Taxi Driver   \n3     14658  tm84618    Jodie Foster  Iris Steensma  ACTOR  Taxi Driver   \n4      7064  tm84618   Albert Brooks            Tom  ACTOR  Taxi Driver   \n\n    type                                        description release_year  \\\n0  MOVIE  A mentally unstable Vietnam War veteran works ...   1976-01-01   \n1  MOVIE  A mentally unstable Vietnam War veteran works ...   1976-01-01   \n2  MOVIE  A mentally unstable Vietnam War veteran works ...   1976-01-01   \n3  MOVIE  A mentally unstable Vietnam War veteran works ...   1976-01-01   \n4  MOVIE  A mentally unstable Vietnam War veteran works ...   1976-01-01   \n\n  age_certification  runtime genres production_countries  seasons    imdb_id  \\\n0                 R      114  drama                   US      NaN  tt0075314   \n1                 R      114  crime                   US      NaN  tt0075314   \n2                 R      114  drama                   US      NaN  tt0075314   \n3                 R      114  crime                   US      NaN  tt0075314   \n4                 R      114  drama                   US      NaN  tt0075314   \n\n   imdb_score  imdb_votes  tmdb_popularity  tmdb_score  \n0         8.2    808582.0           40.965       8.179  \n1         8.2    808582.0           40.965       8.179  \n2         8.2    808582.0           40.965       8.179  \n3         8.2    808582.0           40.965       8.179  \n4         8.2    808582.0           40.965       8.179  ",
      "text/html": "<div>\n<style scoped>\n    .dataframe tbody tr th:only-of-type {\n        vertical-align: middle;\n    }\n\n    .dataframe tbody tr th {\n        vertical-align: top;\n    }\n\n    .dataframe thead th {\n        text-align: right;\n    }\n</style>\n<table border=\"1\" class=\"dataframe\">\n  <thead>\n    <tr style=\"text-align: right;\">\n      <th></th>\n      <th>person_id</th>\n      <th>id</th>\n      <th>name</th>\n      <th>character</th>\n      <th>role</th>\n      <th>title</th>\n      <th>type</th>\n      <th>description</th>\n      <th>release_year</th>\n      <th>age_certification</th>\n      <th>runtime</th>\n      <th>genres</th>\n      <th>production_countries</th>\n      <th>seasons</th>\n      <th>imdb_id</th>\n      <th>imdb_score</th>\n      <th>imdb_votes</th>\n      <th>tmdb_popularity</th>\n      <th>tmdb_score</th>\n    </tr>\n  </thead>\n  <tbody>\n    <tr>\n      <th>0</th>\n      <td>3748</td>\n      <td>tm84618</td>\n      <td>Robert De Niro</td>\n      <td>Travis Bickle</td>\n      <td>ACTOR</td>\n      <td>Taxi Driver</td>\n      <td>MOVIE</td>\n      <td>A mentally unstable Vietnam War veteran works ...</td>\n      <td>1976-01-01</td>\n      <td>R</td>\n      <td>114</td>\n      <td>drama</td>\n      <td>US</td>\n      <td>NaN</td>\n      <td>tt0075314</td>\n      <td>8.2</td>\n      <td>808582.0</td>\n      <td>40.965</td>\n      <td>8.179</td>\n    </tr>\n    <tr>\n      <th>1</th>\n      <td>3748</td>\n      <td>tm84618</td>\n      <td>Robert De Niro</td>\n      <td>Travis Bickle</td>\n      <td>ACTOR</td>\n      <td>Taxi Driver</td>\n      <td>MOVIE</td>\n      <td>A mentally unstable Vietnam War veteran works ...</td>\n      <td>1976-01-01</td>\n      <td>R</td>\n      <td>114</td>\n      <td>crime</td>\n      <td>US</td>\n      <td>NaN</td>\n      <td>tt0075314</td>\n      <td>8.2</td>\n      <td>808582.0</td>\n      <td>40.965</td>\n      <td>8.179</td>\n    </tr>\n    <tr>\n      <th>2</th>\n      <td>14658</td>\n      <td>tm84618</td>\n      <td>Jodie Foster</td>\n      <td>Iris Steensma</td>\n      <td>ACTOR</td>\n      <td>Taxi Driver</td>\n      <td>MOVIE</td>\n      <td>A mentally unstable Vietnam War veteran works ...</td>\n      <td>1976-01-01</td>\n      <td>R</td>\n      <td>114</td>\n      <td>drama</td>\n      <td>US</td>\n      <td>NaN</td>\n      <td>tt0075314</td>\n      <td>8.2</td>\n      <td>808582.0</td>\n      <td>40.965</td>\n      <td>8.179</td>\n    </tr>\n    <tr>\n      <th>3</th>\n      <td>14658</td>\n      <td>tm84618</td>\n      <td>Jodie Foster</td>\n      <td>Iris Steensma</td>\n      <td>ACTOR</td>\n      <td>Taxi Driver</td>\n      <td>MOVIE</td>\n      <td>A mentally unstable Vietnam War veteran works ...</td>\n      <td>1976-01-01</td>\n      <td>R</td>\n      <td>114</td>\n      <td>crime</td>\n      <td>US</td>\n      <td>NaN</td>\n      <td>tt0075314</td>\n      <td>8.2</td>\n      <td>808582.0</td>\n      <td>40.965</td>\n      <td>8.179</td>\n    </tr>\n    <tr>\n      <th>4</th>\n      <td>7064</td>\n      <td>tm84618</td>\n      <td>Albert Brooks</td>\n      <td>Tom</td>\n      <td>ACTOR</td>\n      <td>Taxi Driver</td>\n      <td>MOVIE</td>\n      <td>A mentally unstable Vietnam War veteran works ...</td>\n      <td>1976-01-01</td>\n      <td>R</td>\n      <td>114</td>\n      <td>drama</td>\n      <td>US</td>\n      <td>NaN</td>\n      <td>tt0075314</td>\n      <td>8.2</td>\n      <td>808582.0</td>\n      <td>40.965</td>\n      <td>8.179</td>\n    </tr>\n  </tbody>\n</table>\n</div>"
     },
     "execution_count": 46,
     "metadata": {},
     "output_type": "execute_result"
    }
   ],
   "source": [
    "credits_with_titles.head()"
   ],
   "metadata": {
    "collapsed": false,
    "ExecuteTime": {
     "end_time": "2024-01-17T10:30:02.991932200Z",
     "start_time": "2024-01-17T10:30:02.950200100Z"
    }
   },
   "execution_count": 46
  },
  {
   "cell_type": "markdown",
   "source": [
    "由于我们只对挖掘演员的参演作品口碑感兴趣，导演不在我们的分析范围内，因此根据`role`，筛选出类型为`ACTOR`的观察值，供后续分析。"
   ],
   "metadata": {
    "collapsed": false
   }
  },
  {
   "cell_type": "code",
   "outputs": [],
   "source": [
    "actor_with_titles = credits_with_titles.query('role == \"ACTOR\"')"
   ],
   "metadata": {
    "collapsed": false,
    "ExecuteTime": {
     "end_time": "2024-01-17T10:31:56.118396300Z",
     "start_time": "2024-01-17T10:31:56.031807200Z"
    }
   },
   "execution_count": 49
  },
  {
   "cell_type": "markdown",
   "source": [
    "为了挖掘出各个流派中的高IMDB评分作品演员，我们需要先根据流派和演员进行分组。\n",
    "\n",
    "对演员进行分组的时候，选择的是用`person_id`而不是`name`变量，原因是名字容易出现错拼或者重名的情况，演职员ID会比演员姓名更加准确地反映是哪位演员。"
   ],
   "metadata": {
    "collapsed": false
   }
  },
  {
   "cell_type": "code",
   "outputs": [],
   "source": [
    "groupby_genres_person_id = actor_with_titles.groupby([\"genres\",\"person_id\"])"
   ],
   "metadata": {
    "collapsed": false,
    "ExecuteTime": {
     "end_time": "2024-01-17T10:34:29.791943100Z",
     "start_time": "2024-01-17T10:34:29.717016200Z"
    }
   },
   "execution_count": 50
  },
  {
   "cell_type": "markdown",
   "source": [
    "分组后，我们只需要对`imdb_score`的值进行聚合计算，因此只提取`imdb_score`变量，然后调用`mean`，来计算各个流派影视作品中，每位演员参演作品的平均IMDB评分。"
   ],
   "metadata": {
    "collapsed": false
   }
  },
  {
   "cell_type": "code",
   "outputs": [
    {
     "data": {
      "text/plain": "genres   person_id\naction   1000         6.866667\n         100007       7.000000\n         100013       6.400000\n         100019       6.500000\n         100020       6.500000\n                        ...   \nwestern  993735       6.500000\n         998673       7.300000\n         998674       7.300000\n         998675       7.300000\n         99940        4.000000\nName: imdb_score, Length: 168881, dtype: float64"
     },
     "execution_count": 52,
     "metadata": {},
     "output_type": "execute_result"
    }
   ],
   "source": [
    "imdb_score_groupby_genres_person_id = groupby_genres_person_id['imdb_score'].mean()\n",
    "imdb_score_groupby_genres_person_id "
   ],
   "metadata": {
    "collapsed": false,
    "ExecuteTime": {
     "end_time": "2024-01-17T10:36:10.933305300Z",
     "start_time": "2024-01-17T10:36:10.880477600Z"
    }
   },
   "execution_count": 52
  },
  {
   "cell_type": "markdown",
   "source": [
    "我们可以调用`reset_index`，对层次化索引进行重置，得到更加规整的DataFrame。"
   ],
   "metadata": {
    "collapsed": false
   }
  },
  {
   "cell_type": "code",
   "outputs": [
    {
     "data": {
      "text/plain": "         genres person_id  imdb_score\n0        action      1000    6.866667\n1        action    100007    7.000000\n2        action    100013    6.400000\n3        action    100019    6.500000\n4        action    100020    6.500000\n...         ...       ...         ...\n168876  western    993735    6.500000\n168877  western    998673    7.300000\n168878  western    998674    7.300000\n168879  western    998675    7.300000\n168880  western     99940    4.000000\n\n[168881 rows x 3 columns]",
      "text/html": "<div>\n<style scoped>\n    .dataframe tbody tr th:only-of-type {\n        vertical-align: middle;\n    }\n\n    .dataframe tbody tr th {\n        vertical-align: top;\n    }\n\n    .dataframe thead th {\n        text-align: right;\n    }\n</style>\n<table border=\"1\" class=\"dataframe\">\n  <thead>\n    <tr style=\"text-align: right;\">\n      <th></th>\n      <th>genres</th>\n      <th>person_id</th>\n      <th>imdb_score</th>\n    </tr>\n  </thead>\n  <tbody>\n    <tr>\n      <th>0</th>\n      <td>action</td>\n      <td>1000</td>\n      <td>6.866667</td>\n    </tr>\n    <tr>\n      <th>1</th>\n      <td>action</td>\n      <td>100007</td>\n      <td>7.000000</td>\n    </tr>\n    <tr>\n      <th>2</th>\n      <td>action</td>\n      <td>100013</td>\n      <td>6.400000</td>\n    </tr>\n    <tr>\n      <th>3</th>\n      <td>action</td>\n      <td>100019</td>\n      <td>6.500000</td>\n    </tr>\n    <tr>\n      <th>4</th>\n      <td>action</td>\n      <td>100020</td>\n      <td>6.500000</td>\n    </tr>\n    <tr>\n      <th>...</th>\n      <td>...</td>\n      <td>...</td>\n      <td>...</td>\n    </tr>\n    <tr>\n      <th>168876</th>\n      <td>western</td>\n      <td>993735</td>\n      <td>6.500000</td>\n    </tr>\n    <tr>\n      <th>168877</th>\n      <td>western</td>\n      <td>998673</td>\n      <td>7.300000</td>\n    </tr>\n    <tr>\n      <th>168878</th>\n      <td>western</td>\n      <td>998674</td>\n      <td>7.300000</td>\n    </tr>\n    <tr>\n      <th>168879</th>\n      <td>western</td>\n      <td>998675</td>\n      <td>7.300000</td>\n    </tr>\n    <tr>\n      <th>168880</th>\n      <td>western</td>\n      <td>99940</td>\n      <td>4.000000</td>\n    </tr>\n  </tbody>\n</table>\n<p>168881 rows × 3 columns</p>\n</div>"
     },
     "execution_count": 53,
     "metadata": {},
     "output_type": "execute_result"
    }
   ],
   "source": [
    "imdb_score_groupby_genres_person_id_df =imdb_score_groupby_genres_person_id.reset_index()\n",
    "imdb_score_groupby_genres_person_id_df"
   ],
   "metadata": {
    "collapsed": false,
    "ExecuteTime": {
     "end_time": "2024-01-17T10:37:36.591025100Z",
     "start_time": "2024-01-17T10:37:36.505008600Z"
    }
   },
   "execution_count": 53
  },
  {
   "cell_type": "markdown",
   "source": [
    "现在针对流派和演员分组的IMDB评分数据已经整理好，可以进入后续的分析步骤了。\n",
    "\n",
    "但我们当前可以继续做一些数据整理，比如对上面的结果再次进行分组，找出各个流派里演员作品最高的平均评分是多少、最高评分对应的演员名字是什么。\n",
    "\n",
    "要得到这一结果，我们需要再次用`genres`进行分组，然后提取出`imdb_score`变量，计算其最大值。"
   ],
   "metadata": {
    "collapsed": false
   }
  },
  {
   "cell_type": "code",
   "outputs": [
    {
     "data": {
      "text/plain": "genres\naction           9.3\nanimation        9.3\ncomedy           9.2\ncrime            9.5\ndocumentation    9.1\ndrama            9.5\neuropean         8.9\nfamily           9.3\nfantasy          9.3\nhistory          9.1\nhorror           9.0\nmusic            8.8\nreality          8.9\nromance          9.2\nscifi            9.3\nsport            9.1\nthriller         9.5\nwar              8.8\nwestern          8.9\nName: imdb_score, dtype: float64"
     },
     "execution_count": 54,
     "metadata": {},
     "output_type": "execute_result"
    }
   ],
   "source": [
    "genres_max_score = imdb_score_groupby_genres_person_id_df.groupby('genres')['imdb_score'].max()\n",
    "genres_max_score"
   ],
   "metadata": {
    "collapsed": false,
    "ExecuteTime": {
     "end_time": "2024-01-17T10:39:58.865612Z",
     "start_time": "2024-01-17T10:39:58.776645300Z"
    }
   },
   "execution_count": 54
  },
  {
   "cell_type": "markdown",
   "source": [
    "在我们知道最高分后，可以把以上结果和之前得到的`imdb_score_groupby_genres_and_person_id_df`再次进行连接，得到最高分对应的各个演员ID是什么，也就是这个最高平均分是哪位演员拿到的。"
   ],
   "metadata": {
    "collapsed": false
   }
  },
  {
   "cell_type": "code",
   "outputs": [
    {
     "data": {
      "text/plain": "      genres person_id  imdb_score\n0     action     12790         9.3\n1     action      1303         9.3\n2     action     21033         9.3\n3     action    336830         9.3\n4     action     86591         9.3\n..       ...       ...         ...\n131      war    826547         8.8\n132  western     22311         8.9\n133  western     28166         8.9\n134  western     28180         8.9\n135  western     93017         8.9\n\n[136 rows x 3 columns]",
      "text/html": "<div>\n<style scoped>\n    .dataframe tbody tr th:only-of-type {\n        vertical-align: middle;\n    }\n\n    .dataframe tbody tr th {\n        vertical-align: top;\n    }\n\n    .dataframe thead th {\n        text-align: right;\n    }\n</style>\n<table border=\"1\" class=\"dataframe\">\n  <thead>\n    <tr style=\"text-align: right;\">\n      <th></th>\n      <th>genres</th>\n      <th>person_id</th>\n      <th>imdb_score</th>\n    </tr>\n  </thead>\n  <tbody>\n    <tr>\n      <th>0</th>\n      <td>action</td>\n      <td>12790</td>\n      <td>9.3</td>\n    </tr>\n    <tr>\n      <th>1</th>\n      <td>action</td>\n      <td>1303</td>\n      <td>9.3</td>\n    </tr>\n    <tr>\n      <th>2</th>\n      <td>action</td>\n      <td>21033</td>\n      <td>9.3</td>\n    </tr>\n    <tr>\n      <th>3</th>\n      <td>action</td>\n      <td>336830</td>\n      <td>9.3</td>\n    </tr>\n    <tr>\n      <th>4</th>\n      <td>action</td>\n      <td>86591</td>\n      <td>9.3</td>\n    </tr>\n    <tr>\n      <th>...</th>\n      <td>...</td>\n      <td>...</td>\n      <td>...</td>\n    </tr>\n    <tr>\n      <th>131</th>\n      <td>war</td>\n      <td>826547</td>\n      <td>8.8</td>\n    </tr>\n    <tr>\n      <th>132</th>\n      <td>western</td>\n      <td>22311</td>\n      <td>8.9</td>\n    </tr>\n    <tr>\n      <th>133</th>\n      <td>western</td>\n      <td>28166</td>\n      <td>8.9</td>\n    </tr>\n    <tr>\n      <th>134</th>\n      <td>western</td>\n      <td>28180</td>\n      <td>8.9</td>\n    </tr>\n    <tr>\n      <th>135</th>\n      <td>western</td>\n      <td>93017</td>\n      <td>8.9</td>\n    </tr>\n  </tbody>\n</table>\n<p>136 rows × 3 columns</p>\n</div>"
     },
     "execution_count": 56,
     "metadata": {},
     "output_type": "execute_result"
    }
   ],
   "source": [
    "genres_max_score_with_person_id = pd.merge(imdb_score_groupby_genres_person_id_df,genres_max_score,on = ['genres','imdb_score'],how = 'inner')\n",
    "genres_max_score_with_person_id"
   ],
   "metadata": {
    "collapsed": false,
    "ExecuteTime": {
     "end_time": "2024-01-17T10:43:46.093614400Z",
     "start_time": "2024-01-17T10:43:45.980664800Z"
    }
   },
   "execution_count": 56
  },
  {
   "cell_type": "markdown",
   "source": [
    "从以上结果可以看出，最高分对应的演员不一定只有一位，可能有多位演员的平均得分相同。\n",
    "\n",
    "为了得到演员ID所对应的演员名字，我们可以和`cleaned_credits`这个DataFrame进行连接。这个DataFrame还有其它列，我们只需要得到`person_id`和`name`的对应，所以可以先提取出那两列，并把重复行删除。"
   ],
   "metadata": {
    "collapsed": false
   }
  },
  {
   "cell_type": "code",
   "outputs": [
    {
     "data": {
      "text/plain": "  person_id             name\n0      3748   Robert De Niro\n1     14658     Jodie Foster\n2      7064    Albert Brooks\n3      3739    Harvey Keitel\n4     48933  Cybill Shepherd\n5     32267      Peter Boyle\n6    519612   Leonard Harris\n7     29068   Diahnne Abbott\n8    519613      Gino Ardito\n9      3308  Martin Scorsese",
      "text/html": "<div>\n<style scoped>\n    .dataframe tbody tr th:only-of-type {\n        vertical-align: middle;\n    }\n\n    .dataframe tbody tr th {\n        vertical-align: top;\n    }\n\n    .dataframe thead th {\n        text-align: right;\n    }\n</style>\n<table border=\"1\" class=\"dataframe\">\n  <thead>\n    <tr style=\"text-align: right;\">\n      <th></th>\n      <th>person_id</th>\n      <th>name</th>\n    </tr>\n  </thead>\n  <tbody>\n    <tr>\n      <th>0</th>\n      <td>3748</td>\n      <td>Robert De Niro</td>\n    </tr>\n    <tr>\n      <th>1</th>\n      <td>14658</td>\n      <td>Jodie Foster</td>\n    </tr>\n    <tr>\n      <th>2</th>\n      <td>7064</td>\n      <td>Albert Brooks</td>\n    </tr>\n    <tr>\n      <th>3</th>\n      <td>3739</td>\n      <td>Harvey Keitel</td>\n    </tr>\n    <tr>\n      <th>4</th>\n      <td>48933</td>\n      <td>Cybill Shepherd</td>\n    </tr>\n    <tr>\n      <th>5</th>\n      <td>32267</td>\n      <td>Peter Boyle</td>\n    </tr>\n    <tr>\n      <th>6</th>\n      <td>519612</td>\n      <td>Leonard Harris</td>\n    </tr>\n    <tr>\n      <th>7</th>\n      <td>29068</td>\n      <td>Diahnne Abbott</td>\n    </tr>\n    <tr>\n      <th>8</th>\n      <td>519613</td>\n      <td>Gino Ardito</td>\n    </tr>\n    <tr>\n      <th>9</th>\n      <td>3308</td>\n      <td>Martin Scorsese</td>\n    </tr>\n  </tbody>\n</table>\n</div>"
     },
     "execution_count": 57,
     "metadata": {},
     "output_type": "execute_result"
    }
   ],
   "source": [
    "actor_id_with_names = cleaned_credits[['person_id', 'name']].drop_duplicates()\n",
    "actor_id_with_names.head(10)"
   ],
   "metadata": {
    "collapsed": false,
    "ExecuteTime": {
     "end_time": "2024-01-17T10:45:20.711110900Z",
     "start_time": "2024-01-17T10:45:20.622952100Z"
    }
   },
   "execution_count": 57
  },
  {
   "cell_type": "code",
   "outputs": [
    {
     "data": {
      "text/plain": "    person_id                name         genres  imdb_score\n0       22311     Koichi Yamadera        western         8.9\n1        1652          Lukas Haas          music         8.8\n2        1641   Leonardo DiCaprio          music         8.8\n3       28180      Unsho Ishizuka        western         8.9\n4       28166  Megumi Hayashibara        western         8.9\n..        ...                 ...            ...         ...\n131    439923          Steve Kerr        history         9.1\n132    439923          Steve Kerr          sport         9.1\n133    408553        Phil Jackson  documentation         9.1\n134    408553        Phil Jackson        history         9.1\n135    408553        Phil Jackson          sport         9.1\n\n[136 rows x 4 columns]",
      "text/html": "<div>\n<style scoped>\n    .dataframe tbody tr th:only-of-type {\n        vertical-align: middle;\n    }\n\n    .dataframe tbody tr th {\n        vertical-align: top;\n    }\n\n    .dataframe thead th {\n        text-align: right;\n    }\n</style>\n<table border=\"1\" class=\"dataframe\">\n  <thead>\n    <tr style=\"text-align: right;\">\n      <th></th>\n      <th>person_id</th>\n      <th>name</th>\n      <th>genres</th>\n      <th>imdb_score</th>\n    </tr>\n  </thead>\n  <tbody>\n    <tr>\n      <th>0</th>\n      <td>22311</td>\n      <td>Koichi Yamadera</td>\n      <td>western</td>\n      <td>8.9</td>\n    </tr>\n    <tr>\n      <th>1</th>\n      <td>1652</td>\n      <td>Lukas Haas</td>\n      <td>music</td>\n      <td>8.8</td>\n    </tr>\n    <tr>\n      <th>2</th>\n      <td>1641</td>\n      <td>Leonardo DiCaprio</td>\n      <td>music</td>\n      <td>8.8</td>\n    </tr>\n    <tr>\n      <th>3</th>\n      <td>28180</td>\n      <td>Unsho Ishizuka</td>\n      <td>western</td>\n      <td>8.9</td>\n    </tr>\n    <tr>\n      <th>4</th>\n      <td>28166</td>\n      <td>Megumi Hayashibara</td>\n      <td>western</td>\n      <td>8.9</td>\n    </tr>\n    <tr>\n      <th>...</th>\n      <td>...</td>\n      <td>...</td>\n      <td>...</td>\n      <td>...</td>\n    </tr>\n    <tr>\n      <th>131</th>\n      <td>439923</td>\n      <td>Steve Kerr</td>\n      <td>history</td>\n      <td>9.1</td>\n    </tr>\n    <tr>\n      <th>132</th>\n      <td>439923</td>\n      <td>Steve Kerr</td>\n      <td>sport</td>\n      <td>9.1</td>\n    </tr>\n    <tr>\n      <th>133</th>\n      <td>408553</td>\n      <td>Phil Jackson</td>\n      <td>documentation</td>\n      <td>9.1</td>\n    </tr>\n    <tr>\n      <th>134</th>\n      <td>408553</td>\n      <td>Phil Jackson</td>\n      <td>history</td>\n      <td>9.1</td>\n    </tr>\n    <tr>\n      <th>135</th>\n      <td>408553</td>\n      <td>Phil Jackson</td>\n      <td>sport</td>\n      <td>9.1</td>\n    </tr>\n  </tbody>\n</table>\n<p>136 rows × 4 columns</p>\n</div>"
     },
     "execution_count": 60,
     "metadata": {},
     "output_type": "execute_result"
    }
   ],
   "source": [
    "genres_max_score_with_person_id_name = pd.merge(actor_id_with_names,genres_max_score_with_person_id,on =['person_id'],how = 'inner')\n",
    "genres_max_score_with_person_id_name"
   ],
   "metadata": {
    "collapsed": false,
    "ExecuteTime": {
     "end_time": "2024-01-17T10:47:54.814656200Z",
     "start_time": "2024-01-17T10:47:54.722127Z"
    }
   },
   "execution_count": 60
  },
  {
   "cell_type": "code",
   "outputs": [
    {
     "data": {
      "text/plain": "    person_id                name   genres  imdb_score\n0       12790         Olivia Hack   action         9.3\n1       86591       Cricket Leigh   action         9.3\n2      336830     André Sogliuzzo   action         9.3\n3       21033          Zach Tyler   action         9.3\n4        1303       Jessie Flower   action         9.3\n..        ...                 ...      ...         ...\n131    140181        Naoya Uchida      war         8.8\n132     93017            Aoi Tada  western         8.9\n133     28166  Megumi Hayashibara  western         8.9\n134     28180      Unsho Ishizuka  western         8.9\n135     22311     Koichi Yamadera  western         8.9\n\n[136 rows x 4 columns]",
      "text/html": "<div>\n<style scoped>\n    .dataframe tbody tr th:only-of-type {\n        vertical-align: middle;\n    }\n\n    .dataframe tbody tr th {\n        vertical-align: top;\n    }\n\n    .dataframe thead th {\n        text-align: right;\n    }\n</style>\n<table border=\"1\" class=\"dataframe\">\n  <thead>\n    <tr style=\"text-align: right;\">\n      <th></th>\n      <th>person_id</th>\n      <th>name</th>\n      <th>genres</th>\n      <th>imdb_score</th>\n    </tr>\n  </thead>\n  <tbody>\n    <tr>\n      <th>0</th>\n      <td>12790</td>\n      <td>Olivia Hack</td>\n      <td>action</td>\n      <td>9.3</td>\n    </tr>\n    <tr>\n      <th>1</th>\n      <td>86591</td>\n      <td>Cricket Leigh</td>\n      <td>action</td>\n      <td>9.3</td>\n    </tr>\n    <tr>\n      <th>2</th>\n      <td>336830</td>\n      <td>André Sogliuzzo</td>\n      <td>action</td>\n      <td>9.3</td>\n    </tr>\n    <tr>\n      <th>3</th>\n      <td>21033</td>\n      <td>Zach Tyler</td>\n      <td>action</td>\n      <td>9.3</td>\n    </tr>\n    <tr>\n      <th>4</th>\n      <td>1303</td>\n      <td>Jessie Flower</td>\n      <td>action</td>\n      <td>9.3</td>\n    </tr>\n    <tr>\n      <th>...</th>\n      <td>...</td>\n      <td>...</td>\n      <td>...</td>\n      <td>...</td>\n    </tr>\n    <tr>\n      <th>131</th>\n      <td>140181</td>\n      <td>Naoya Uchida</td>\n      <td>war</td>\n      <td>8.8</td>\n    </tr>\n    <tr>\n      <th>132</th>\n      <td>93017</td>\n      <td>Aoi Tada</td>\n      <td>western</td>\n      <td>8.9</td>\n    </tr>\n    <tr>\n      <th>133</th>\n      <td>28166</td>\n      <td>Megumi Hayashibara</td>\n      <td>western</td>\n      <td>8.9</td>\n    </tr>\n    <tr>\n      <th>134</th>\n      <td>28180</td>\n      <td>Unsho Ishizuka</td>\n      <td>western</td>\n      <td>8.9</td>\n    </tr>\n    <tr>\n      <th>135</th>\n      <td>22311</td>\n      <td>Koichi Yamadera</td>\n      <td>western</td>\n      <td>8.9</td>\n    </tr>\n  </tbody>\n</table>\n<p>136 rows × 4 columns</p>\n</div>"
     },
     "execution_count": 64,
     "metadata": {},
     "output_type": "execute_result"
    }
   ],
   "source": [
    "genres_max_score_with_actor_name = genres_max_score_with_person_id_name.sort_values('genres').reset_index().drop('index', axis = 1)\n",
    "genres_max_score_with_actor_name"
   ],
   "metadata": {
    "collapsed": false,
    "ExecuteTime": {
     "end_time": "2024-01-17T10:50:17.248745900Z",
     "start_time": "2024-01-17T10:50:17.163914300Z"
    }
   },
   "execution_count": 64
  },
  {
   "cell_type": "code",
   "outputs": [],
   "source": [],
   "metadata": {
    "collapsed": false
   }
  }
 ],
 "metadata": {
  "kernelspec": {
   "display_name": "Python 3",
   "language": "python",
   "name": "python3"
  },
  "language_info": {
   "codemirror_mode": {
    "name": "ipython",
    "version": 3
   },
   "file_extension": ".py",
   "mimetype": "text/x-python",
   "name": "python",
   "nbconvert_exporter": "python",
   "pygments_lexer": "ipython3",
   "version": "3.8.1"
  }
 },
 "nbformat": 4,
 "nbformat_minor": 4
}
