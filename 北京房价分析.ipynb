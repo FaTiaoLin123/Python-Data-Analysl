{
 "cells": [
  {
   "cell_type": "markdown",
   "id": "38a0720209446b2b",
   "metadata": {
    "collapsed": false,
    "jupyter": {
     "outputs_hidden": false
    }
   },
   "source": [
    "# 项目：某平台北京2021年二手房价数据"
   ]
  },
  {
   "cell_type": "markdown",
   "id": "f1a7b6d5f1e14ade",
   "metadata": {
    "collapsed": false,
    "jupyter": {
     "outputs_hidden": false
    }
   },
   "source": [
    "#### 背景描述：某平台北京市二手房信息，用于数据分析、可视化"
   ]
  },
  {
   "cell_type": "markdown",
   "id": "a80a665b52aacc45",
   "metadata": {
    "collapsed": false,
    "jupyter": {
     "outputs_hidden": false
    }
   },
   "source": [
    "#### 数据说明：字段：市区、 小区、 户型、 朝向、 楼层、 装修情况、 电梯、 面积(㎡)、 价格(万元)、 年份"
   ]
  },
  {
   "cell_type": "markdown",
   "id": "bd7692d004e2026c",
   "metadata": {
    "collapsed": false,
    "jupyter": {
     "outputs_hidden": false
    }
   },
   "source": [
    "#### 问题描述： \n",
    "1、北京二手房地理分布 \n",
    "2、二手房价格分析 \n",
    "3、二手房面积分布 \n",
    "4、二手房价格预测 \n",
    "5、相关性分析"
   ]
  },
  {
   "cell_type": "code",
   "execution_count": 1,
   "id": "794a23e10aeb3e4",
   "metadata": {
    "ExecuteTime": {
     "end_time": "2024-02-02T11:55:05.055220500Z",
     "start_time": "2024-02-02T11:55:05.048828Z"
    },
    "collapsed": false,
    "jupyter": {
     "outputs_hidden": false
    },
    "scrolled": true
   },
   "outputs": [
    {
     "name": "stderr",
     "output_type": "stream",
     "text": [
      "C:\\Users\\林涵\\AppData\\Local\\Temp\\ipykernel_5088\\1139514244.py:1: DeprecationWarning: \n",
      "Pyarrow will become a required dependency of pandas in the next major release of pandas (pandas 3.0),\n",
      "(to allow more performant data types, such as the Arrow string type, and better interoperability with other libraries)\n",
      "but was not found to be installed on your system.\n",
      "If this would cause problems for you,\n",
      "please provide us feedback at https://github.com/pandas-dev/pandas/issues/54466\n",
      "        \n",
      "  import pandas as pd\n"
     ]
    }
   ],
   "source": [
    "import pandas as pd\n",
    "import pyecharts.options as opts\n",
    "from pyecharts.charts import Map\n",
    "from pyecharts.faker import Faker\n",
    "from IPython.display import IFrame\n",
    "from IPython.display import Image\n",
    "from pyecharts.charts import Bar\n",
    "from pyecharts.charts import Line\n",
    "from pyecharts.charts import Grid\n",
    "from pyecharts.charts import Pie\n",
    "from pyecharts.charts import Scatter\n",
    "from pyecharts import options as opts"
   ]
  },
  {
   "cell_type": "markdown",
   "id": "9b724d11d068c805",
   "metadata": {
    "collapsed": false,
    "jupyter": {
     "outputs_hidden": false
    }
   },
   "source": [
    "导入数据表，赋值为beijing_list"
   ]
  },
  {
   "cell_type": "code",
   "execution_count": 2,
   "id": "981cc7f6b88f32fb",
   "metadata": {
    "ExecuteTime": {
     "end_time": "2024-02-02T11:55:05.145335200Z",
     "start_time": "2024-02-02T11:55:05.054224500Z"
    },
    "collapsed": false,
    "jupyter": {
     "outputs_hidden": false
    }
   },
   "outputs": [
    {
     "data": {
      "text/html": [
       "<div>\n",
       "<style scoped>\n",
       "    .dataframe tbody tr th:only-of-type {\n",
       "        vertical-align: middle;\n",
       "    }\n",
       "\n",
       "    .dataframe tbody tr th {\n",
       "        vertical-align: top;\n",
       "    }\n",
       "\n",
       "    .dataframe thead th {\n",
       "        text-align: right;\n",
       "    }\n",
       "</style>\n",
       "<table border=\"1\" class=\"dataframe\">\n",
       "  <thead>\n",
       "    <tr style=\"text-align: right;\">\n",
       "      <th></th>\n",
       "      <th>市区</th>\n",
       "      <th>小区</th>\n",
       "      <th>户型</th>\n",
       "      <th>朝向</th>\n",
       "      <th>楼层</th>\n",
       "      <th>装修情况</th>\n",
       "      <th>电梯</th>\n",
       "      <th>面积(㎡)</th>\n",
       "      <th>价格(万元)</th>\n",
       "      <th>年份</th>\n",
       "      <th>Id</th>\n",
       "      <th>Unnamed: 11</th>\n",
       "    </tr>\n",
       "  </thead>\n",
       "  <tbody>\n",
       "    <tr>\n",
       "      <th>0</th>\n",
       "      <td>朝阳</td>\n",
       "      <td>育慧里一区</td>\n",
       "      <td>1室0厅</td>\n",
       "      <td>西</td>\n",
       "      <td>7</td>\n",
       "      <td>精装</td>\n",
       "      <td>有电梯</td>\n",
       "      <td>52</td>\n",
       "      <td>343</td>\n",
       "      <td>2001</td>\n",
       "      <td>1.01E+11</td>\n",
       "      <td>NaN</td>\n",
       "    </tr>\n",
       "    <tr>\n",
       "      <th>1</th>\n",
       "      <td>朝阳</td>\n",
       "      <td>大西洋新城A区</td>\n",
       "      <td>2室2厅</td>\n",
       "      <td>南北</td>\n",
       "      <td>10</td>\n",
       "      <td>精装</td>\n",
       "      <td>有电梯</td>\n",
       "      <td>86</td>\n",
       "      <td>835</td>\n",
       "      <td>1999</td>\n",
       "      <td>1.01E+11</td>\n",
       "      <td>NaN</td>\n",
       "    </tr>\n",
       "    <tr>\n",
       "      <th>2</th>\n",
       "      <td>朝阳</td>\n",
       "      <td>团结湖路</td>\n",
       "      <td>2室1厅</td>\n",
       "      <td>东西</td>\n",
       "      <td>6</td>\n",
       "      <td>精装</td>\n",
       "      <td>无电梯</td>\n",
       "      <td>65</td>\n",
       "      <td>430</td>\n",
       "      <td>1980</td>\n",
       "      <td>1.01E+11</td>\n",
       "      <td>NaN</td>\n",
       "    </tr>\n",
       "    <tr>\n",
       "      <th>3</th>\n",
       "      <td>朝阳</td>\n",
       "      <td>尚家楼48号院</td>\n",
       "      <td>2室1厅</td>\n",
       "      <td>南北</td>\n",
       "      <td>12</td>\n",
       "      <td>精装</td>\n",
       "      <td>有电梯</td>\n",
       "      <td>75</td>\n",
       "      <td>610</td>\n",
       "      <td>1998</td>\n",
       "      <td>1.01E+11</td>\n",
       "      <td>NaN</td>\n",
       "    </tr>\n",
       "    <tr>\n",
       "      <th>4</th>\n",
       "      <td>朝阳</td>\n",
       "      <td>望京西园一区</td>\n",
       "      <td>3室2厅</td>\n",
       "      <td>南北</td>\n",
       "      <td>6</td>\n",
       "      <td>精装</td>\n",
       "      <td>无电梯</td>\n",
       "      <td>115</td>\n",
       "      <td>710</td>\n",
       "      <td>1997</td>\n",
       "      <td>1.01E+11</td>\n",
       "      <td>NaN</td>\n",
       "    </tr>\n",
       "  </tbody>\n",
       "</table>\n",
       "</div>"
      ],
      "text/plain": [
       "   市区       小区    户型  朝向  楼层 装修情况   电梯 面积(㎡) 价格(万元)    年份        Id  \\\n",
       "0  朝阳    育慧里一区  1室0厅   西   7   精装  有电梯    52    343  2001  1.01E+11   \n",
       "1  朝阳  大西洋新城A区  2室2厅  南北  10   精装  有电梯    86    835  1999  1.01E+11   \n",
       "2  朝阳     团结湖路  2室1厅  东西   6   精装  无电梯    65    430  1980  1.01E+11   \n",
       "3  朝阳  尚家楼48号院  2室1厅  南北  12   精装  有电梯    75    610  1998  1.01E+11   \n",
       "4  朝阳   望京西园一区  3室2厅  南北   6   精装  无电梯   115    710  1997  1.01E+11   \n",
       "\n",
       "  Unnamed: 11  \n",
       "0         NaN  \n",
       "1         NaN  \n",
       "2         NaN  \n",
       "3         NaN  \n",
       "4         NaN  "
      ]
     },
     "execution_count": 2,
     "metadata": {},
     "output_type": "execute_result"
    }
   ],
   "source": [
    "beijing_list = pd.read_csv(\"二手房数据.csv\",encoding = 'gb18030')\n",
    "beijing_list.head()"
   ]
  },
  {
   "cell_type": "markdown",
   "id": "75a8470c60585caf",
   "metadata": {
    "collapsed": false,
    "jupyter": {
     "outputs_hidden": false
    }
   },
   "source": [
    "##### 评估数据\n",
    "###### 查看数据整齐和清洁度\n",
    "首先复制一个新的表，作为清洗前后区分"
   ]
  },
  {
   "cell_type": "code",
   "execution_count": 3,
   "id": "877d679968a42cc6",
   "metadata": {
    "ExecuteTime": {
     "end_time": "2024-02-02T11:55:05.188788100Z",
     "start_time": "2024-02-02T11:55:05.145335200Z"
    },
    "collapsed": false,
    "jupyter": {
     "outputs_hidden": false
    }
   },
   "outputs": [
    {
     "data": {
      "text/html": [
       "<div>\n",
       "<style scoped>\n",
       "    .dataframe tbody tr th:only-of-type {\n",
       "        vertical-align: middle;\n",
       "    }\n",
       "\n",
       "    .dataframe tbody tr th {\n",
       "        vertical-align: top;\n",
       "    }\n",
       "\n",
       "    .dataframe thead th {\n",
       "        text-align: right;\n",
       "    }\n",
       "</style>\n",
       "<table border=\"1\" class=\"dataframe\">\n",
       "  <thead>\n",
       "    <tr style=\"text-align: right;\">\n",
       "      <th></th>\n",
       "      <th>市区</th>\n",
       "      <th>小区</th>\n",
       "      <th>户型</th>\n",
       "      <th>朝向</th>\n",
       "      <th>楼层</th>\n",
       "      <th>装修情况</th>\n",
       "      <th>电梯</th>\n",
       "      <th>面积(㎡)</th>\n",
       "      <th>价格(万元)</th>\n",
       "      <th>年份</th>\n",
       "      <th>Id</th>\n",
       "      <th>Unnamed: 11</th>\n",
       "    </tr>\n",
       "  </thead>\n",
       "  <tbody>\n",
       "    <tr>\n",
       "      <th>0</th>\n",
       "      <td>朝阳</td>\n",
       "      <td>育慧里一区</td>\n",
       "      <td>1室0厅</td>\n",
       "      <td>西</td>\n",
       "      <td>7</td>\n",
       "      <td>精装</td>\n",
       "      <td>有电梯</td>\n",
       "      <td>52</td>\n",
       "      <td>343</td>\n",
       "      <td>2001</td>\n",
       "      <td>1.01E+11</td>\n",
       "      <td>NaN</td>\n",
       "    </tr>\n",
       "    <tr>\n",
       "      <th>1</th>\n",
       "      <td>朝阳</td>\n",
       "      <td>大西洋新城A区</td>\n",
       "      <td>2室2厅</td>\n",
       "      <td>南北</td>\n",
       "      <td>10</td>\n",
       "      <td>精装</td>\n",
       "      <td>有电梯</td>\n",
       "      <td>86</td>\n",
       "      <td>835</td>\n",
       "      <td>1999</td>\n",
       "      <td>1.01E+11</td>\n",
       "      <td>NaN</td>\n",
       "    </tr>\n",
       "    <tr>\n",
       "      <th>2</th>\n",
       "      <td>朝阳</td>\n",
       "      <td>团结湖路</td>\n",
       "      <td>2室1厅</td>\n",
       "      <td>东西</td>\n",
       "      <td>6</td>\n",
       "      <td>精装</td>\n",
       "      <td>无电梯</td>\n",
       "      <td>65</td>\n",
       "      <td>430</td>\n",
       "      <td>1980</td>\n",
       "      <td>1.01E+11</td>\n",
       "      <td>NaN</td>\n",
       "    </tr>\n",
       "    <tr>\n",
       "      <th>3</th>\n",
       "      <td>朝阳</td>\n",
       "      <td>尚家楼48号院</td>\n",
       "      <td>2室1厅</td>\n",
       "      <td>南北</td>\n",
       "      <td>12</td>\n",
       "      <td>精装</td>\n",
       "      <td>有电梯</td>\n",
       "      <td>75</td>\n",
       "      <td>610</td>\n",
       "      <td>1998</td>\n",
       "      <td>1.01E+11</td>\n",
       "      <td>NaN</td>\n",
       "    </tr>\n",
       "    <tr>\n",
       "      <th>4</th>\n",
       "      <td>朝阳</td>\n",
       "      <td>望京西园一区</td>\n",
       "      <td>3室2厅</td>\n",
       "      <td>南北</td>\n",
       "      <td>6</td>\n",
       "      <td>精装</td>\n",
       "      <td>无电梯</td>\n",
       "      <td>115</td>\n",
       "      <td>710</td>\n",
       "      <td>1997</td>\n",
       "      <td>1.01E+11</td>\n",
       "      <td>NaN</td>\n",
       "    </tr>\n",
       "    <tr>\n",
       "      <th>...</th>\n",
       "      <td>...</td>\n",
       "      <td>...</td>\n",
       "      <td>...</td>\n",
       "      <td>...</td>\n",
       "      <td>...</td>\n",
       "      <td>...</td>\n",
       "      <td>...</td>\n",
       "      <td>...</td>\n",
       "      <td>...</td>\n",
       "      <td>...</td>\n",
       "      <td>...</td>\n",
       "      <td>...</td>\n",
       "    </tr>\n",
       "    <tr>\n",
       "      <th>23672</th>\n",
       "      <td>西城</td>\n",
       "      <td>真武庙六里</td>\n",
       "      <td>2室1厅</td>\n",
       "      <td>南北</td>\n",
       "      <td>18</td>\n",
       "      <td>精装</td>\n",
       "      <td>有电梯</td>\n",
       "      <td>78</td>\n",
       "      <td>888</td>\n",
       "      <td>1988</td>\n",
       "      <td>1.01E+11</td>\n",
       "      <td>NaN</td>\n",
       "    </tr>\n",
       "    <tr>\n",
       "      <th>23673</th>\n",
       "      <td>西城</td>\n",
       "      <td>右安门内大街</td>\n",
       "      <td>1室1厅</td>\n",
       "      <td>西北</td>\n",
       "      <td>7</td>\n",
       "      <td>其他</td>\n",
       "      <td>无电梯</td>\n",
       "      <td>45</td>\n",
       "      <td>405</td>\n",
       "      <td>1991</td>\n",
       "      <td>1.01E+11</td>\n",
       "      <td>NaN</td>\n",
       "    </tr>\n",
       "    <tr>\n",
       "      <th>23674</th>\n",
       "      <td>西城</td>\n",
       "      <td>玉桃园二区</td>\n",
       "      <td>2室1厅</td>\n",
       "      <td>南北</td>\n",
       "      <td>6</td>\n",
       "      <td>简装</td>\n",
       "      <td>无电梯</td>\n",
       "      <td>60</td>\n",
       "      <td>650</td>\n",
       "      <td>1997</td>\n",
       "      <td>1.01E+11</td>\n",
       "      <td>NaN</td>\n",
       "    </tr>\n",
       "    <tr>\n",
       "      <th>23675</th>\n",
       "      <td>西城</td>\n",
       "      <td>红莲南里</td>\n",
       "      <td>2室1厅</td>\n",
       "      <td>南北</td>\n",
       "      <td>7</td>\n",
       "      <td>精装</td>\n",
       "      <td>无电梯</td>\n",
       "      <td>61</td>\n",
       "      <td>470</td>\n",
       "      <td>1992</td>\n",
       "      <td>1.01E+11</td>\n",
       "      <td>NaN</td>\n",
       "    </tr>\n",
       "    <tr>\n",
       "      <th>23676</th>\n",
       "      <td>西城</td>\n",
       "      <td>白广路6号院</td>\n",
       "      <td>3室0厅</td>\n",
       "      <td>南</td>\n",
       "      <td>6</td>\n",
       "      <td>简装</td>\n",
       "      <td>NaN</td>\n",
       "      <td>84</td>\n",
       "      <td>635</td>\n",
       "      <td>1955</td>\n",
       "      <td>1.01E+11</td>\n",
       "      <td>NaN</td>\n",
       "    </tr>\n",
       "  </tbody>\n",
       "</table>\n",
       "<p>23677 rows × 12 columns</p>\n",
       "</div>"
      ],
      "text/plain": [
       "       市区       小区    户型  朝向  楼层 装修情况   电梯 面积(㎡) 价格(万元)    年份        Id  \\\n",
       "0      朝阳    育慧里一区  1室0厅   西   7   精装  有电梯    52    343  2001  1.01E+11   \n",
       "1      朝阳  大西洋新城A区  2室2厅  南北  10   精装  有电梯    86    835  1999  1.01E+11   \n",
       "2      朝阳     团结湖路  2室1厅  东西   6   精装  无电梯    65    430  1980  1.01E+11   \n",
       "3      朝阳  尚家楼48号院  2室1厅  南北  12   精装  有电梯    75    610  1998  1.01E+11   \n",
       "4      朝阳   望京西园一区  3室2厅  南北   6   精装  无电梯   115    710  1997  1.01E+11   \n",
       "...    ..      ...   ...  ..  ..  ...  ...   ...    ...   ...       ...   \n",
       "23672  西城    真武庙六里  2室1厅  南北  18   精装  有电梯    78    888  1988  1.01E+11   \n",
       "23673  西城   右安门内大街  1室1厅  西北   7   其他  无电梯    45    405  1991  1.01E+11   \n",
       "23674  西城    玉桃园二区  2室1厅  南北   6   简装  无电梯    60    650  1997  1.01E+11   \n",
       "23675  西城     红莲南里  2室1厅  南北   7   精装  无电梯    61    470  1992  1.01E+11   \n",
       "23676  西城   白广路6号院  3室0厅   南   6   简装  NaN    84    635  1955  1.01E+11   \n",
       "\n",
       "      Unnamed: 11  \n",
       "0             NaN  \n",
       "1             NaN  \n",
       "2             NaN  \n",
       "3             NaN  \n",
       "4             NaN  \n",
       "...           ...  \n",
       "23672         NaN  \n",
       "23673         NaN  \n",
       "23674         NaN  \n",
       "23675         NaN  \n",
       "23676         NaN  \n",
       "\n",
       "[23677 rows x 12 columns]"
      ]
     },
     "execution_count": 3,
     "metadata": {},
     "output_type": "execute_result"
    }
   ],
   "source": [
    "beijing_list1 = beijing_list\n",
    "beijing_list1"
   ]
  },
  {
   "cell_type": "markdown",
   "id": "e1591367b4c63996",
   "metadata": {
    "collapsed": false,
    "jupyter": {
     "outputs_hidden": false
    }
   },
   "source": [
    "首先去掉去后一列无数据的列"
   ]
  },
  {
   "cell_type": "code",
   "execution_count": 4,
   "id": "88a52af1abaec099",
   "metadata": {
    "ExecuteTime": {
     "end_time": "2024-02-02T11:55:05.228741700Z",
     "start_time": "2024-02-02T11:55:05.166152500Z"
    },
    "collapsed": false,
    "jupyter": {
     "outputs_hidden": false
    }
   },
   "outputs": [
    {
     "data": {
      "text/html": [
       "<div>\n",
       "<style scoped>\n",
       "    .dataframe tbody tr th:only-of-type {\n",
       "        vertical-align: middle;\n",
       "    }\n",
       "\n",
       "    .dataframe tbody tr th {\n",
       "        vertical-align: top;\n",
       "    }\n",
       "\n",
       "    .dataframe thead th {\n",
       "        text-align: right;\n",
       "    }\n",
       "</style>\n",
       "<table border=\"1\" class=\"dataframe\">\n",
       "  <thead>\n",
       "    <tr style=\"text-align: right;\">\n",
       "      <th></th>\n",
       "      <th>市区</th>\n",
       "      <th>小区</th>\n",
       "      <th>户型</th>\n",
       "      <th>朝向</th>\n",
       "      <th>楼层</th>\n",
       "      <th>装修情况</th>\n",
       "      <th>电梯</th>\n",
       "      <th>面积(㎡)</th>\n",
       "      <th>价格(万元)</th>\n",
       "      <th>年份</th>\n",
       "      <th>Id</th>\n",
       "    </tr>\n",
       "  </thead>\n",
       "  <tbody>\n",
       "    <tr>\n",
       "      <th>0</th>\n",
       "      <td>朝阳</td>\n",
       "      <td>育慧里一区</td>\n",
       "      <td>1室0厅</td>\n",
       "      <td>西</td>\n",
       "      <td>7</td>\n",
       "      <td>精装</td>\n",
       "      <td>有电梯</td>\n",
       "      <td>52</td>\n",
       "      <td>343</td>\n",
       "      <td>2001</td>\n",
       "      <td>1.01E+11</td>\n",
       "    </tr>\n",
       "    <tr>\n",
       "      <th>1</th>\n",
       "      <td>朝阳</td>\n",
       "      <td>大西洋新城A区</td>\n",
       "      <td>2室2厅</td>\n",
       "      <td>南北</td>\n",
       "      <td>10</td>\n",
       "      <td>精装</td>\n",
       "      <td>有电梯</td>\n",
       "      <td>86</td>\n",
       "      <td>835</td>\n",
       "      <td>1999</td>\n",
       "      <td>1.01E+11</td>\n",
       "    </tr>\n",
       "    <tr>\n",
       "      <th>2</th>\n",
       "      <td>朝阳</td>\n",
       "      <td>团结湖路</td>\n",
       "      <td>2室1厅</td>\n",
       "      <td>东西</td>\n",
       "      <td>6</td>\n",
       "      <td>精装</td>\n",
       "      <td>无电梯</td>\n",
       "      <td>65</td>\n",
       "      <td>430</td>\n",
       "      <td>1980</td>\n",
       "      <td>1.01E+11</td>\n",
       "    </tr>\n",
       "    <tr>\n",
       "      <th>3</th>\n",
       "      <td>朝阳</td>\n",
       "      <td>尚家楼48号院</td>\n",
       "      <td>2室1厅</td>\n",
       "      <td>南北</td>\n",
       "      <td>12</td>\n",
       "      <td>精装</td>\n",
       "      <td>有电梯</td>\n",
       "      <td>75</td>\n",
       "      <td>610</td>\n",
       "      <td>1998</td>\n",
       "      <td>1.01E+11</td>\n",
       "    </tr>\n",
       "    <tr>\n",
       "      <th>4</th>\n",
       "      <td>朝阳</td>\n",
       "      <td>望京西园一区</td>\n",
       "      <td>3室2厅</td>\n",
       "      <td>南北</td>\n",
       "      <td>6</td>\n",
       "      <td>精装</td>\n",
       "      <td>无电梯</td>\n",
       "      <td>115</td>\n",
       "      <td>710</td>\n",
       "      <td>1997</td>\n",
       "      <td>1.01E+11</td>\n",
       "    </tr>\n",
       "    <tr>\n",
       "      <th>...</th>\n",
       "      <td>...</td>\n",
       "      <td>...</td>\n",
       "      <td>...</td>\n",
       "      <td>...</td>\n",
       "      <td>...</td>\n",
       "      <td>...</td>\n",
       "      <td>...</td>\n",
       "      <td>...</td>\n",
       "      <td>...</td>\n",
       "      <td>...</td>\n",
       "      <td>...</td>\n",
       "    </tr>\n",
       "    <tr>\n",
       "      <th>23672</th>\n",
       "      <td>西城</td>\n",
       "      <td>真武庙六里</td>\n",
       "      <td>2室1厅</td>\n",
       "      <td>南北</td>\n",
       "      <td>18</td>\n",
       "      <td>精装</td>\n",
       "      <td>有电梯</td>\n",
       "      <td>78</td>\n",
       "      <td>888</td>\n",
       "      <td>1988</td>\n",
       "      <td>1.01E+11</td>\n",
       "    </tr>\n",
       "    <tr>\n",
       "      <th>23673</th>\n",
       "      <td>西城</td>\n",
       "      <td>右安门内大街</td>\n",
       "      <td>1室1厅</td>\n",
       "      <td>西北</td>\n",
       "      <td>7</td>\n",
       "      <td>其他</td>\n",
       "      <td>无电梯</td>\n",
       "      <td>45</td>\n",
       "      <td>405</td>\n",
       "      <td>1991</td>\n",
       "      <td>1.01E+11</td>\n",
       "    </tr>\n",
       "    <tr>\n",
       "      <th>23674</th>\n",
       "      <td>西城</td>\n",
       "      <td>玉桃园二区</td>\n",
       "      <td>2室1厅</td>\n",
       "      <td>南北</td>\n",
       "      <td>6</td>\n",
       "      <td>简装</td>\n",
       "      <td>无电梯</td>\n",
       "      <td>60</td>\n",
       "      <td>650</td>\n",
       "      <td>1997</td>\n",
       "      <td>1.01E+11</td>\n",
       "    </tr>\n",
       "    <tr>\n",
       "      <th>23675</th>\n",
       "      <td>西城</td>\n",
       "      <td>红莲南里</td>\n",
       "      <td>2室1厅</td>\n",
       "      <td>南北</td>\n",
       "      <td>7</td>\n",
       "      <td>精装</td>\n",
       "      <td>无电梯</td>\n",
       "      <td>61</td>\n",
       "      <td>470</td>\n",
       "      <td>1992</td>\n",
       "      <td>1.01E+11</td>\n",
       "    </tr>\n",
       "    <tr>\n",
       "      <th>23676</th>\n",
       "      <td>西城</td>\n",
       "      <td>白广路6号院</td>\n",
       "      <td>3室0厅</td>\n",
       "      <td>南</td>\n",
       "      <td>6</td>\n",
       "      <td>简装</td>\n",
       "      <td>NaN</td>\n",
       "      <td>84</td>\n",
       "      <td>635</td>\n",
       "      <td>1955</td>\n",
       "      <td>1.01E+11</td>\n",
       "    </tr>\n",
       "  </tbody>\n",
       "</table>\n",
       "<p>23677 rows × 11 columns</p>\n",
       "</div>"
      ],
      "text/plain": [
       "       市区       小区    户型  朝向  楼层 装修情况   电梯 面积(㎡) 价格(万元)    年份        Id\n",
       "0      朝阳    育慧里一区  1室0厅   西   7   精装  有电梯    52    343  2001  1.01E+11\n",
       "1      朝阳  大西洋新城A区  2室2厅  南北  10   精装  有电梯    86    835  1999  1.01E+11\n",
       "2      朝阳     团结湖路  2室1厅  东西   6   精装  无电梯    65    430  1980  1.01E+11\n",
       "3      朝阳  尚家楼48号院  2室1厅  南北  12   精装  有电梯    75    610  1998  1.01E+11\n",
       "4      朝阳   望京西园一区  3室2厅  南北   6   精装  无电梯   115    710  1997  1.01E+11\n",
       "...    ..      ...   ...  ..  ..  ...  ...   ...    ...   ...       ...\n",
       "23672  西城    真武庙六里  2室1厅  南北  18   精装  有电梯    78    888  1988  1.01E+11\n",
       "23673  西城   右安门内大街  1室1厅  西北   7   其他  无电梯    45    405  1991  1.01E+11\n",
       "23674  西城    玉桃园二区  2室1厅  南北   6   简装  无电梯    60    650  1997  1.01E+11\n",
       "23675  西城     红莲南里  2室1厅  南北   7   精装  无电梯    61    470  1992  1.01E+11\n",
       "23676  西城   白广路6号院  3室0厅   南   6   简装  NaN    84    635  1955  1.01E+11\n",
       "\n",
       "[23677 rows x 11 columns]"
      ]
     },
     "execution_count": 4,
     "metadata": {},
     "output_type": "execute_result"
    }
   ],
   "source": [
    "beijing_list1 = beijing_list1.drop(\"Unnamed: 11\",axis = 1)\n",
    "beijing_list1"
   ]
  },
  {
   "cell_type": "markdown",
   "id": "5b2a8dadad98b4c9",
   "metadata": {
    "collapsed": false,
    "jupyter": {
     "outputs_hidden": false
    }
   },
   "source": [
    "查看表格数据情况"
   ]
  },
  {
   "cell_type": "code",
   "execution_count": 5,
   "id": "ab639f2dbf2e13cd",
   "metadata": {
    "ExecuteTime": {
     "end_time": "2024-02-02T11:55:05.489231900Z",
     "start_time": "2024-02-02T11:55:05.189785Z"
    },
    "collapsed": false,
    "jupyter": {
     "outputs_hidden": false
    }
   },
   "outputs": [
    {
     "name": "stdout",
     "output_type": "stream",
     "text": [
      "           市区     小区     户型     朝向     楼层   装修情况     电梯  面积(㎡) 价格(万元)     年份  \\\n",
      "count   23677  23677  23677  23677  23677  23677  15422  23677  23677  23677   \n",
      "unique     19   4528     63     14     45     10      8    424   1341     72   \n",
      "top        海淀   远洋山水   2室1厅     南北      6     精装    有电梯     89    450   2004   \n",
      "freq     2983    102   9485  11431   7656  11352   9340    476    318   1758   \n",
      "\n",
      "              Id  \n",
      "count      23677  \n",
      "unique         3  \n",
      "top     1.01E+11  \n",
      "freq       23675  \n"
     ]
    }
   ],
   "source": [
    "print(beijing_list1.describe())"
   ]
  },
  {
   "cell_type": "markdown",
   "id": "487c05c1aeb02ea6",
   "metadata": {
    "collapsed": false,
    "jupyter": {
     "outputs_hidden": false
    }
   },
   "source": [
    "共23677条数据，接着查看缺失数据情况"
   ]
  },
  {
   "cell_type": "code",
   "execution_count": 6,
   "id": "dd2fc4265c53970f",
   "metadata": {
    "ExecuteTime": {
     "end_time": "2024-02-02T11:55:05.574280Z",
     "start_time": "2024-02-02T11:55:05.246373Z"
    },
    "collapsed": false,
    "jupyter": {
     "outputs_hidden": false
    }
   },
   "outputs": [
    {
     "data": {
      "text/plain": [
       "市区           0\n",
       "小区           0\n",
       "户型           0\n",
       "朝向           0\n",
       "楼层           0\n",
       "装修情况         0\n",
       "电梯        8255\n",
       "面积(㎡)        0\n",
       "价格(万元)       0\n",
       "年份           0\n",
       "Id           0\n",
       "dtype: int64"
      ]
     },
     "execution_count": 6,
     "metadata": {},
     "output_type": "execute_result"
    }
   ],
   "source": [
    "beijing_list1.isnull().sum()"
   ]
  },
  {
   "cell_type": "markdown",
   "id": "f8a1a672775195b3",
   "metadata": {
    "collapsed": false,
    "jupyter": {
     "outputs_hidden": false
    }
   },
   "source": [
    "电梯项缺失8255条数据"
   ]
  },
  {
   "cell_type": "markdown",
   "id": "d97dc0e1e43b3a62",
   "metadata": {
    "collapsed": false,
    "jupyter": {
     "outputs_hidden": false
    }
   },
   "source": [
    "查看缺失数据情况"
   ]
  },
  {
   "cell_type": "code",
   "execution_count": 7,
   "id": "e818ed5e14a99e2d",
   "metadata": {
    "ExecuteTime": {
     "end_time": "2024-02-02T11:55:05.642443200Z",
     "start_time": "2024-02-02T11:55:05.265892900Z"
    },
    "collapsed": false,
    "jupyter": {
     "outputs_hidden": false
    }
   },
   "outputs": [
    {
     "data": {
      "text/plain": [
       "array(['有电梯', '无电梯', nan, '81', '0', '3室1厅', '2室1厅', '光熙家园一期', '京师吉地'],\n",
       "      dtype=object)"
      ]
     },
     "execution_count": 7,
     "metadata": {},
     "output_type": "execute_result"
    }
   ],
   "source": [
    "beijing_list1[('电梯')].unique()"
   ]
  },
  {
   "cell_type": "markdown",
   "id": "c87c3d385022d78",
   "metadata": {
    "collapsed": false,
    "jupyter": {
     "outputs_hidden": false
    }
   },
   "source": [
    "补充缺失值"
   ]
  },
  {
   "cell_type": "code",
   "execution_count": 8,
   "id": "c39aa12c6252a198",
   "metadata": {
    "ExecuteTime": {
     "end_time": "2024-02-02T11:55:05.646430100Z",
     "start_time": "2024-02-02T11:55:05.277618Z"
    },
    "collapsed": false,
    "jupyter": {
     "outputs_hidden": false
    }
   },
   "outputs": [
    {
     "data": {
      "text/plain": [
       "市区        0\n",
       "小区        0\n",
       "户型        0\n",
       "朝向        0\n",
       "楼层        0\n",
       "装修情况      0\n",
       "电梯        0\n",
       "面积(㎡)     0\n",
       "价格(万元)    0\n",
       "年份        0\n",
       "Id        0\n",
       "dtype: int64"
      ]
     },
     "execution_count": 8,
     "metadata": {},
     "output_type": "execute_result"
    }
   ],
   "source": [
    "beijing_list1['电梯'] = beijing_list1['电梯'].fillna('未知')\n",
    "beijing_list1.isnull().sum()"
   ]
  },
  {
   "cell_type": "code",
   "execution_count": 9,
   "id": "cb5c241fe5ee968",
   "metadata": {
    "ExecuteTime": {
     "end_time": "2024-02-02T11:55:05.714696400Z",
     "start_time": "2024-02-02T11:55:05.307548200Z"
    },
    "collapsed": false,
    "jupyter": {
     "outputs_hidden": false
    }
   },
   "outputs": [
    {
     "data": {
      "text/plain": [
       "array(['有电梯', '无电梯', '未知'], dtype=object)"
      ]
     },
     "execution_count": 9,
     "metadata": {},
     "output_type": "execute_result"
    }
   ],
   "source": [
    "beijing_list1.drop(beijing_list1[beijing_list1['电梯'] == '81'].index,inplace=True)\n",
    "beijing_list1.drop(beijing_list1[beijing_list1['电梯'] == '0'].index,inplace=True)\n",
    "beijing_list1.drop(beijing_list1[beijing_list1['电梯'] == '3室1厅'].index,inplace=True)\n",
    "beijing_list1.drop(beijing_list1[beijing_list1['电梯'] == '2室1厅'].index,inplace=True)\n",
    "beijing_list1.drop(beijing_list1[beijing_list1['电梯'] == '光熙家园一期'].index,inplace=True)\n",
    "beijing_list1.drop(beijing_list1[beijing_list1['电梯'] == '京师吉地'].index,inplace=True)\n",
    "beijing_list1['电梯'].unique()"
   ]
  },
  {
   "cell_type": "code",
   "execution_count": 10,
   "id": "2b0a3925db14f32b",
   "metadata": {
    "ExecuteTime": {
     "end_time": "2024-02-02T11:55:05.734465500Z",
     "start_time": "2024-02-02T11:55:05.321402900Z"
    },
    "collapsed": false,
    "jupyter": {
     "outputs_hidden": false
    }
   },
   "outputs": [],
   "source": [
    "#电梯数据完整，之后查看朝向数据"
   ]
  },
  {
   "cell_type": "code",
   "execution_count": 11,
   "id": "ceed994a-fae4-4369-8195-211408a94cd0",
   "metadata": {
    "ExecuteTime": {
     "end_time": "2024-02-02T11:55:05.734465500Z",
     "start_time": "2024-02-02T11:55:05.321402900Z"
    },
    "collapsed": false,
    "jupyter": {
     "outputs_hidden": false
    }
   },
   "outputs": [
    {
     "data": {
      "text/plain": [
       "array(['西', '南北', '东西', '南西', '西南', '东南', '南', '东北', '东', '西北', '北',\n",
       "       '有电梯'], dtype=object)"
      ]
     },
     "execution_count": 11,
     "metadata": {},
     "output_type": "execute_result"
    }
   ],
   "source": [
    "beijing_list1['朝向'].unique()"
   ]
  },
  {
   "cell_type": "code",
   "execution_count": 12,
   "id": "b3a86dac-1d4a-4f8e-8593-a5c70bdeeaef",
   "metadata": {},
   "outputs": [
    {
     "data": {
      "text/plain": [
       "array(['西', '南北', '东西', '西南', '东南', '南', '东北', '东', '西北', '北', '有电梯'],\n",
       "      dtype=object)"
      ]
     },
     "execution_count": 12,
     "metadata": {},
     "output_type": "execute_result"
    }
   ],
   "source": [
    "beijing_list1['朝向'] = beijing_list1['朝向'].str.replace('南西','西南')\n",
    "beijing_list1['朝向'].unique()"
   ]
  },
  {
   "cell_type": "code",
   "execution_count": 13,
   "id": "2ace9f42-5b11-4ba2-9b2d-6743196e0712",
   "metadata": {},
   "outputs": [
    {
     "data": {
      "text/plain": [
       "array(['343', '835', '430', ..., '533.5', '1666', '1293'], dtype=object)"
      ]
     },
     "execution_count": 13,
     "metadata": {},
     "output_type": "execute_result"
    }
   ],
   "source": [
    "beijing_list1['价格(万元)'].unique()"
   ]
  },
  {
   "cell_type": "code",
   "execution_count": 14,
   "id": "19ddd31c-fa90-4257-9dca-2a8f63a1932d",
   "metadata": {},
   "outputs": [
    {
     "name": "stdout",
     "output_type": "stream",
     "text": [
      "Index(['市区', '小区', '户型', '朝向', '楼层', '装修情况', '电梯', '面积(㎡)', '价格(万元)', '年份',\n",
      "       'Id'],\n",
      "      dtype='object')\n"
     ]
    }
   ],
   "source": [
    "beijing_list1_df = pd.DataFrame(beijing_list1)\n",
    "print(beijing_list1_df.columns)"
   ]
  },
  {
   "cell_type": "code",
   "execution_count": 15,
   "id": "f31fda42-0cfd-431d-a71a-64b85e0f43d0",
   "metadata": {},
   "outputs": [
    {
     "data": {
      "text/html": [
       "<div>\n",
       "<style scoped>\n",
       "    .dataframe tbody tr th:only-of-type {\n",
       "        vertical-align: middle;\n",
       "    }\n",
       "\n",
       "    .dataframe tbody tr th {\n",
       "        vertical-align: top;\n",
       "    }\n",
       "\n",
       "    .dataframe thead th {\n",
       "        text-align: right;\n",
       "    }\n",
       "</style>\n",
       "<table border=\"1\" class=\"dataframe\">\n",
       "  <thead>\n",
       "    <tr style=\"text-align: right;\">\n",
       "      <th></th>\n",
       "      <th>小区</th>\n",
       "      <th>户型</th>\n",
       "      <th>朝向</th>\n",
       "      <th>楼层</th>\n",
       "      <th>装修情况</th>\n",
       "      <th>电梯</th>\n",
       "      <th>面积(㎡)</th>\n",
       "      <th>价格(万元)</th>\n",
       "      <th>年份</th>\n",
       "      <th>Id</th>\n",
       "    </tr>\n",
       "    <tr>\n",
       "      <th>市区</th>\n",
       "      <th></th>\n",
       "      <th></th>\n",
       "      <th></th>\n",
       "      <th></th>\n",
       "      <th></th>\n",
       "      <th></th>\n",
       "      <th></th>\n",
       "      <th></th>\n",
       "      <th></th>\n",
       "      <th></th>\n",
       "    </tr>\n",
       "  </thead>\n",
       "  <tbody>\n",
       "    <tr>\n",
       "      <th>东城</th>\n",
       "      <td>1533</td>\n",
       "      <td>1533</td>\n",
       "      <td>1533</td>\n",
       "      <td>1533</td>\n",
       "      <td>1533</td>\n",
       "      <td>1533</td>\n",
       "      <td>1533</td>\n",
       "      <td>1533</td>\n",
       "      <td>1533</td>\n",
       "      <td>1533</td>\n",
       "    </tr>\n",
       "    <tr>\n",
       "      <th>丰台</th>\n",
       "      <td>2952</td>\n",
       "      <td>2952</td>\n",
       "      <td>2952</td>\n",
       "      <td>2952</td>\n",
       "      <td>2952</td>\n",
       "      <td>2952</td>\n",
       "      <td>2952</td>\n",
       "      <td>2952</td>\n",
       "      <td>2952</td>\n",
       "      <td>2952</td>\n",
       "    </tr>\n",
       "    <tr>\n",
       "      <th>大兴</th>\n",
       "      <td>2115</td>\n",
       "      <td>2115</td>\n",
       "      <td>2115</td>\n",
       "      <td>2115</td>\n",
       "      <td>2115</td>\n",
       "      <td>2115</td>\n",
       "      <td>2115</td>\n",
       "      <td>2115</td>\n",
       "      <td>2115</td>\n",
       "      <td>2115</td>\n",
       "    </tr>\n",
       "    <tr>\n",
       "      <th>密云</th>\n",
       "      <td>12</td>\n",
       "      <td>12</td>\n",
       "      <td>12</td>\n",
       "      <td>12</td>\n",
       "      <td>12</td>\n",
       "      <td>12</td>\n",
       "      <td>12</td>\n",
       "      <td>12</td>\n",
       "      <td>12</td>\n",
       "      <td>12</td>\n",
       "    </tr>\n",
       "    <tr>\n",
       "      <th>平谷</th>\n",
       "      <td>41</td>\n",
       "      <td>41</td>\n",
       "      <td>41</td>\n",
       "      <td>41</td>\n",
       "      <td>41</td>\n",
       "      <td>41</td>\n",
       "      <td>41</td>\n",
       "      <td>41</td>\n",
       "      <td>41</td>\n",
       "      <td>41</td>\n",
       "    </tr>\n",
       "    <tr>\n",
       "      <th>延庆</th>\n",
       "      <td>469</td>\n",
       "      <td>469</td>\n",
       "      <td>469</td>\n",
       "      <td>469</td>\n",
       "      <td>469</td>\n",
       "      <td>469</td>\n",
       "      <td>469</td>\n",
       "      <td>469</td>\n",
       "      <td>469</td>\n",
       "      <td>469</td>\n",
       "    </tr>\n",
       "    <tr>\n",
       "      <th>怀柔</th>\n",
       "      <td>15</td>\n",
       "      <td>15</td>\n",
       "      <td>15</td>\n",
       "      <td>15</td>\n",
       "      <td>15</td>\n",
       "      <td>15</td>\n",
       "      <td>15</td>\n",
       "      <td>15</td>\n",
       "      <td>15</td>\n",
       "      <td>15</td>\n",
       "    </tr>\n",
       "    <tr>\n",
       "      <th>房山</th>\n",
       "      <td>1440</td>\n",
       "      <td>1440</td>\n",
       "      <td>1440</td>\n",
       "      <td>1440</td>\n",
       "      <td>1440</td>\n",
       "      <td>1440</td>\n",
       "      <td>1440</td>\n",
       "      <td>1440</td>\n",
       "      <td>1440</td>\n",
       "      <td>1440</td>\n",
       "    </tr>\n",
       "    <tr>\n",
       "      <th>昌平</th>\n",
       "      <td>2811</td>\n",
       "      <td>2811</td>\n",
       "      <td>2811</td>\n",
       "      <td>2811</td>\n",
       "      <td>2811</td>\n",
       "      <td>2811</td>\n",
       "      <td>2811</td>\n",
       "      <td>2811</td>\n",
       "      <td>2811</td>\n",
       "      <td>2811</td>\n",
       "    </tr>\n",
       "    <tr>\n",
       "      <th>有电梯</th>\n",
       "      <td>1</td>\n",
       "      <td>1</td>\n",
       "      <td>1</td>\n",
       "      <td>1</td>\n",
       "      <td>1</td>\n",
       "      <td>1</td>\n",
       "      <td>1</td>\n",
       "      <td>1</td>\n",
       "      <td>1</td>\n",
       "      <td>1</td>\n",
       "    </tr>\n",
       "    <tr>\n",
       "      <th>朝阳</th>\n",
       "      <td>2970</td>\n",
       "      <td>2970</td>\n",
       "      <td>2970</td>\n",
       "      <td>2970</td>\n",
       "      <td>2970</td>\n",
       "      <td>2970</td>\n",
       "      <td>2970</td>\n",
       "      <td>2970</td>\n",
       "      <td>2970</td>\n",
       "      <td>2970</td>\n",
       "    </tr>\n",
       "    <tr>\n",
       "      <th>海淀</th>\n",
       "      <td>2983</td>\n",
       "      <td>2983</td>\n",
       "      <td>2983</td>\n",
       "      <td>2983</td>\n",
       "      <td>2983</td>\n",
       "      <td>2983</td>\n",
       "      <td>2983</td>\n",
       "      <td>2983</td>\n",
       "      <td>2983</td>\n",
       "      <td>2983</td>\n",
       "    </tr>\n",
       "    <tr>\n",
       "      <th>石景山</th>\n",
       "      <td>882</td>\n",
       "      <td>882</td>\n",
       "      <td>882</td>\n",
       "      <td>882</td>\n",
       "      <td>882</td>\n",
       "      <td>882</td>\n",
       "      <td>882</td>\n",
       "      <td>882</td>\n",
       "      <td>882</td>\n",
       "      <td>882</td>\n",
       "    </tr>\n",
       "    <tr>\n",
       "      <th>西城</th>\n",
       "      <td>2129</td>\n",
       "      <td>2129</td>\n",
       "      <td>2129</td>\n",
       "      <td>2129</td>\n",
       "      <td>2129</td>\n",
       "      <td>2129</td>\n",
       "      <td>2129</td>\n",
       "      <td>2129</td>\n",
       "      <td>2129</td>\n",
       "      <td>2129</td>\n",
       "    </tr>\n",
       "    <tr>\n",
       "      <th>通州</th>\n",
       "      <td>1602</td>\n",
       "      <td>1602</td>\n",
       "      <td>1602</td>\n",
       "      <td>1602</td>\n",
       "      <td>1602</td>\n",
       "      <td>1602</td>\n",
       "      <td>1602</td>\n",
       "      <td>1602</td>\n",
       "      <td>1602</td>\n",
       "      <td>1602</td>\n",
       "    </tr>\n",
       "    <tr>\n",
       "      <th>门头沟</th>\n",
       "      <td>495</td>\n",
       "      <td>495</td>\n",
       "      <td>495</td>\n",
       "      <td>495</td>\n",
       "      <td>495</td>\n",
       "      <td>495</td>\n",
       "      <td>495</td>\n",
       "      <td>495</td>\n",
       "      <td>495</td>\n",
       "      <td>495</td>\n",
       "    </tr>\n",
       "    <tr>\n",
       "      <th>顺义</th>\n",
       "      <td>1221</td>\n",
       "      <td>1221</td>\n",
       "      <td>1221</td>\n",
       "      <td>1221</td>\n",
       "      <td>1221</td>\n",
       "      <td>1221</td>\n",
       "      <td>1221</td>\n",
       "      <td>1221</td>\n",
       "      <td>1221</td>\n",
       "      <td>1221</td>\n",
       "    </tr>\n",
       "  </tbody>\n",
       "</table>\n",
       "</div>"
      ],
      "text/plain": [
       "       小区    户型    朝向    楼层  装修情况    电梯  面积(㎡)  价格(万元)    年份    Id\n",
       "市区                                                                \n",
       "东城   1533  1533  1533  1533  1533  1533   1533    1533  1533  1533\n",
       "丰台   2952  2952  2952  2952  2952  2952   2952    2952  2952  2952\n",
       "大兴   2115  2115  2115  2115  2115  2115   2115    2115  2115  2115\n",
       "密云     12    12    12    12    12    12     12      12    12    12\n",
       "平谷     41    41    41    41    41    41     41      41    41    41\n",
       "延庆    469   469   469   469   469   469    469     469   469   469\n",
       "怀柔     15    15    15    15    15    15     15      15    15    15\n",
       "房山   1440  1440  1440  1440  1440  1440   1440    1440  1440  1440\n",
       "昌平   2811  2811  2811  2811  2811  2811   2811    2811  2811  2811\n",
       "有电梯     1     1     1     1     1     1      1       1     1     1\n",
       "朝阳   2970  2970  2970  2970  2970  2970   2970    2970  2970  2970\n",
       "海淀   2983  2983  2983  2983  2983  2983   2983    2983  2983  2983\n",
       "石景山   882   882   882   882   882   882    882     882   882   882\n",
       "西城   2129  2129  2129  2129  2129  2129   2129    2129  2129  2129\n",
       "通州   1602  1602  1602  1602  1602  1602   1602    1602  1602  1602\n",
       "门头沟   495   495   495   495   495   495    495     495   495   495\n",
       "顺义   1221  1221  1221  1221  1221  1221   1221    1221  1221  1221"
      ]
     },
     "execution_count": 15,
     "metadata": {},
     "output_type": "execute_result"
    }
   ],
   "source": [
    "beijing_list1.groupby('市区').count()"
   ]
  },
  {
   "cell_type": "markdown",
   "id": "24aba5bf-31cd-4eb1-80fa-5da7c3f82552",
   "metadata": {},
   "source": [
    "可以看出丰台、朝阳、海淀、昌平的房数最多。接下来把价格改为数值。"
   ]
  },
  {
   "cell_type": "code",
   "execution_count": 16,
   "id": "a7d019f0-cf4c-4336-aa58-1bad384a4ec7",
   "metadata": {},
   "outputs": [],
   "source": [
    "beijing_list1['价格(万元)'] = beijing_list1['价格(万元)'].astype('category')\n",
    "beijing_list1['价格(万元)'] = beijing_list1['价格(万元)'].cat.codes\n",
    "beijing_list1['价格(万元)'] = beijing_list1['价格(万元)'].astype(float)\n",
    "beijing_list1['价格(万元)'] = pd.to_numeric(beijing_list1['价格(万元)'], errors='coerce')"
   ]
  },
  {
   "cell_type": "code",
   "execution_count": 17,
   "id": "3c241818-dd2a-405a-99b9-3decd9fe3ce8",
   "metadata": {},
   "outputs": [
    {
     "name": "stdout",
     "output_type": "stream",
     "text": [
      "<class 'pandas.core.frame.DataFrame'>\n",
      "Index: 23671 entries, 0 to 23676\n",
      "Data columns (total 11 columns):\n",
      " #   Column  Non-Null Count  Dtype  \n",
      "---  ------  --------------  -----  \n",
      " 0   市区      23671 non-null  object \n",
      " 1   小区      23671 non-null  object \n",
      " 2   户型      23671 non-null  object \n",
      " 3   朝向      23671 non-null  object \n",
      " 4   楼层      23671 non-null  object \n",
      " 5   装修情况    23671 non-null  object \n",
      " 6   电梯      23671 non-null  object \n",
      " 7   面积(㎡)   23671 non-null  object \n",
      " 8   价格(万元)  23671 non-null  float64\n",
      " 9   年份      23671 non-null  object \n",
      " 10  Id      23671 non-null  object \n",
      "dtypes: float64(1), object(10)\n",
      "memory usage: 2.2+ MB\n"
     ]
    }
   ],
   "source": [
    "beijing_list1.info()"
   ]
  },
  {
   "cell_type": "code",
   "execution_count": 18,
   "id": "58bd6222-2ee9-4e9c-9f49-524494ad5963",
   "metadata": {},
   "outputs": [
    {
     "name": "stdout",
     "output_type": "stream",
     "text": [
      "<class 'pandas.core.frame.DataFrame'>\n",
      "Index: 23671 entries, 0 to 23676\n",
      "Data columns (total 11 columns):\n",
      " #   Column  Non-Null Count  Dtype  \n",
      "---  ------  --------------  -----  \n",
      " 0   市区      23671 non-null  object \n",
      " 1   小区      23671 non-null  object \n",
      " 2   户型      23671 non-null  object \n",
      " 3   朝向      23671 non-null  object \n",
      " 4   楼层      23671 non-null  object \n",
      " 5   装修情况    23671 non-null  object \n",
      " 6   电梯      23671 non-null  object \n",
      " 7   面积(㎡)   23671 non-null  object \n",
      " 8   价格(万元)  23671 non-null  float64\n",
      " 9   年份      23671 non-null  object \n",
      " 10  Id      23671 non-null  object \n",
      "dtypes: float64(1), object(10)\n",
      "memory usage: 2.2+ MB\n"
     ]
    }
   ],
   "source": [
    "beijing_list1.drop(beijing_list1[beijing_list1['价格(万元)'] == '0'].index,inplace=True)\n",
    "beijing_list1.info()"
   ]
  },
  {
   "cell_type": "markdown",
   "id": "d97a3b87-4892-49dc-b1d4-d106ba8ee0c8",
   "metadata": {},
   "source": [
    "### 可视化\n",
    "1北京二手房数量地图分布"
   ]
  },
  {
   "cell_type": "code",
   "execution_count": 19,
   "id": "f758d1c5-0cdf-4469-add2-12923ab2d959",
   "metadata": {},
   "outputs": [
    {
     "data": {
      "text/plain": [
       "市区\n",
       "东城     1533\n",
       "丰台     2952\n",
       "大兴     2115\n",
       "密云       12\n",
       "平谷       41\n",
       "延庆      469\n",
       "怀柔       15\n",
       "房山     1440\n",
       "昌平     2811\n",
       "有电梯       1\n",
       "朝阳     2970\n",
       "海淀     2983\n",
       "石景山     882\n",
       "西城     2129\n",
       "通州     1602\n",
       "门头沟     495\n",
       "顺义     1221\n",
       "Name: 小区, dtype: int64"
      ]
     },
     "execution_count": 19,
     "metadata": {},
     "output_type": "execute_result"
    }
   ],
   "source": [
    "g = beijing_list1.groupby('市区')\n",
    "df_region = g.count()['小区']\n",
    "region = df_region.index.tolist()\n",
    "count = df_region.values.tolist()\n",
    "df_region"
   ]
  },
  {
   "cell_type": "code",
   "execution_count": 20,
   "id": "57c98896-e8f5-4759-b32f-d0d8850ea0b1",
   "metadata": {},
   "outputs": [],
   "source": [
    "def m1():\n",
    "    new = [x + '区' for x in region]\n",
    "    m = (\n",
    "            Map()\n",
    "            .add('', [list(z) for z in zip(new, count)], '北京')\n",
    "            .set_global_opts(\n",
    "                title_opts=opts.TitleOpts(title='北京市二手房各区分布'),\n",
    "                visualmap_opts=opts.VisualMapOpts(max_=3000),\n",
    "            )\n",
    "        )\n",
    "    return m"
   ]
  },
  {
   "cell_type": "code",
   "execution_count": 21,
   "id": "a724ea0d-eda4-45cf-adf6-bff1209310ed",
   "metadata": {},
   "outputs": [
    {
     "data": {
      "text/plain": [
       "'C:\\\\Users\\\\林涵\\\\北京市二手房各区分布.html'"
      ]
     },
     "execution_count": 21,
     "metadata": {},
     "output_type": "execute_result"
    }
   ],
   "source": [
    "m = m1()\n",
    "m.render('北京市二手房各区分布.html')"
   ]
  },
  {
   "cell_type": "code",
   "execution_count": 22,
   "id": "4957a2d3-0779-4cd1-915a-dff13d383752",
   "metadata": {},
   "outputs": [
    {
     "data": {
      "text/html": [
       "\n",
       "        <iframe\n",
       "            width=\"800\"\n",
       "            height=\"600\"\n",
       "            src=\"北京市二手房各区分布.html\"\n",
       "            frameborder=\"0\"\n",
       "            allowfullscreen\n",
       "            \n",
       "        ></iframe>\n",
       "        "
      ],
      "text/plain": [
       "<IPython.lib.display.IFrame at 0x259ae9750d0>"
      ]
     },
     "execution_count": 22,
     "metadata": {},
     "output_type": "execute_result"
    }
   ],
   "source": [
    "\n",
    "\n",
    "# 将文件名替换为您在上一个示例中使用的文件名\n",
    "file_path = '北京市二手房各区分布.html'\n",
    "\n",
    "# 使用 IFrame 显示 HTML 文件\n",
    "IFrame(file_path, width=800, height=600)"
   ]
  },
  {
   "cell_type": "code",
   "execution_count": 23,
   "id": "2e5d33b2-4011-4341-9c0f-7fa4d0bfabbe",
   "metadata": {},
   "outputs": [
    {
     "data": {
      "text/plain": [
       "市区\n",
       "东城     1258580.0\n",
       "丰台     2285816.0\n",
       "大兴     1481831.0\n",
       "密云        5161.0\n",
       "平谷       22831.0\n",
       "延庆      323804.0\n",
       "怀柔        8353.0\n",
       "房山      876953.0\n",
       "昌平     2029654.0\n",
       "有电梯       1334.0\n",
       "朝阳     2244165.0\n",
       "海淀     2314778.0\n",
       "石景山     626561.0\n",
       "西城     1805499.0\n",
       "通州     1121052.0\n",
       "门头沟     315448.0\n",
       "顺义      820010.0\n",
       "Name: 价格(万元), dtype: float64"
      ]
     },
     "execution_count": 23,
     "metadata": {},
     "output_type": "execute_result"
    }
   ],
   "source": [
    "g = beijing_list1.groupby('市区')\n",
    "df_price = g.sum()['价格(万元)']\n",
    "df_price"
   ]
  },
  {
   "cell_type": "code",
   "execution_count": 24,
   "id": "ddeb1e3f-5dab-4782-8211-f85862677747",
   "metadata": {},
   "outputs": [
    {
     "data": {
      "text/html": [
       "\n",
       "        <iframe\n",
       "            width=\"800\"\n",
       "            height=\"600\"\n",
       "            src=\"chart.html\"\n",
       "            frameborder=\"0\"\n",
       "            allowfullscreen\n",
       "            \n",
       "        ></iframe>\n",
       "        "
      ],
      "text/plain": [
       "<IPython.lib.display.IFrame at 0x259af2dcb30>"
      ]
     },
     "execution_count": 24,
     "metadata": {},
     "output_type": "execute_result"
    }
   ],
   "source": [
    "def grid1():\n",
    "    df_price.values.tolist()\n",
    "    price = [round(x,2) for x in df_price.values.tolist()]\n",
    "    bar = (\n",
    "        Bar()\n",
    "        .add_xaxis(region)\n",
    "        .add_yaxis('数量', count,\n",
    "                label_opts=opts.LabelOpts(is_show=True))\n",
    "        .extend_axis(\n",
    "            yaxis=opts.AxisOpts(\n",
    "                name=\"价格（万元）\",\n",
    "                type_=\"value\",\n",
    "                min_=200,\n",
    "                max_=900,\n",
    "                interval=100,\n",
    "                axislabel_opts=opts.LabelOpts(formatter=\"{value}\"),\n",
    "            )\n",
    "        )\n",
    "        .set_global_opts(\n",
    "            title_opts=opts.TitleOpts(title='各城区二手房数量-平均价格柱状图'),\n",
    "            tooltip_opts=opts.TooltipOpts(\n",
    "                is_show=True, trigger=\"axis\", axis_pointer_type=\"cross\"\n",
    "            ),\n",
    "            xaxis_opts=opts.AxisOpts(\n",
    "                type_=\"category\",\n",
    "                axispointer_opts=opts.AxisPointerOpts(is_show=True, type_=\"shadow\"),\n",
    "            ),\n",
    "            yaxis_opts=opts.AxisOpts(name='数量',\n",
    "                axistick_opts=opts.AxisTickOpts(is_show=True),\n",
    "                splitline_opts=opts.SplitLineOpts(is_show=False),)\n",
    "        )\n",
    "    )\n",
    "\n",
    "    line2 = (\n",
    "        Line()\n",
    "        .add_xaxis(xaxis_data=region)\n",
    "        .add_yaxis(\n",
    "            \n",
    "            series_name=\"价格\",\n",
    "            yaxis_index=1,\n",
    "            y_axis=price,\n",
    "            label_opts=opts.LabelOpts(is_show=True),\n",
    "            z=10\n",
    "            )\n",
    "    )\n",
    "\n",
    "    bar.overlap(line2)\n",
    "    grid = Grid()\n",
    "    grid.add(bar, opts.GridOpts(pos_left=\"5%\", pos_right=\"20%\"), is_control_axis_index=True)\n",
    "    grid.render(\"chart.html\")\n",
    "    return grid\n",
    "\n",
    "grid =grid1()\n",
    "image_path = 'chart.html'\n",
    "IFrame(image_path, width=800, height=600)"
   ]
  }
 ],
 "metadata": {
  "kernelspec": {
   "display_name": "Python 3 (ipykernel)",
   "language": "python",
   "name": "python3"
  },
  "language_info": {
   "codemirror_mode": {
    "name": "ipython",
    "version": 3
   },
   "file_extension": ".py",
   "mimetype": "text/x-python",
   "name": "python",
   "nbconvert_exporter": "python",
   "pygments_lexer": "ipython3",
   "version": "3.12.1"
  }
 },
 "nbformat": 4,
 "nbformat_minor": 5
}
