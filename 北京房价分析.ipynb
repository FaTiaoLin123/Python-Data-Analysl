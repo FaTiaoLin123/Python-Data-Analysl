{
 "cells": [
  {
   "cell_type": "markdown",
   "id": "38a0720209446b2b",
   "metadata": {
    "collapsed": false,
    "jupyter": {
     "outputs_hidden": false
    }
   },
   "source": [
    "# 项目：某平台北京2021年二手房价数据"
   ]
  },
  {
   "cell_type": "markdown",
   "id": "f1a7b6d5f1e14ade",
   "metadata": {
    "collapsed": false,
    "jupyter": {
     "outputs_hidden": false
    }
   },
   "source": [
    "#### 背景描述：某平台北京市二手房信息，用于数据分析、可视化"
   ]
  },
  {
   "cell_type": "markdown",
   "id": "a80a665b52aacc45",
   "metadata": {
    "collapsed": false,
    "jupyter": {
     "outputs_hidden": false
    }
   },
   "source": [
    "#### 数据说明：字段：市区、 小区、 户型、 朝向、 楼层、 装修情况、 电梯、 面积(㎡)、 价格(万元)、 年份"
   ]
  },
  {
   "cell_type": "markdown",
   "id": "bd7692d004e2026c",
   "metadata": {
    "collapsed": false,
    "jupyter": {
     "outputs_hidden": false
    }
   },
   "source": [
    "#### 问题描述： \n",
    "1、北京二手房地理分布 \n",
    "2、二手房价格分析 \n",
    "3、二手房面积分布 \n",
    "4、二手房价格预测 \n",
    "5、相关性分析"
   ]
  },
  {
   "cell_type": "code",
   "execution_count": 1,
   "id": "794a23e10aeb3e4",
   "metadata": {
    "ExecuteTime": {
     "end_time": "2024-02-02T11:55:05.055220500Z",
     "start_time": "2024-02-02T11:55:05.048828Z"
    },
    "collapsed": false,
    "jupyter": {
     "outputs_hidden": false
    }
   },
   "outputs": [
    {
     "name": "stderr",
     "output_type": "stream",
     "text": [
      "C:\\Users\\林涵\\AppData\\Local\\Temp\\ipykernel_10232\\2926254626.py:1: DeprecationWarning: \n",
      "Pyarrow will become a required dependency of pandas in the next major release of pandas (pandas 3.0),\n",
      "(to allow more performant data types, such as the Arrow string type, and better interoperability with other libraries)\n",
      "but was not found to be installed on your system.\n",
      "If this would cause problems for you,\n",
      "please provide us feedback at https://github.com/pandas-dev/pandas/issues/54466\n",
      "        \n",
      "  import pandas as pd\n"
     ]
    },
    {
     "ename": "ModuleNotFoundError",
     "evalue": "No module named 'echarts_python'",
     "output_type": "error",
     "traceback": [
      "\u001b[1;31m---------------------------------------------------------------------------\u001b[0m",
      "\u001b[1;31mModuleNotFoundError\u001b[0m                       Traceback (most recent call last)",
      "Cell \u001b[1;32mIn[1], line 2\u001b[0m\n\u001b[0;32m      1\u001b[0m \u001b[38;5;28;01mimport\u001b[39;00m \u001b[38;5;21;01mpandas\u001b[39;00m \u001b[38;5;28;01mas\u001b[39;00m \u001b[38;5;21;01mpd\u001b[39;00m\n\u001b[1;32m----> 2\u001b[0m \u001b[38;5;28;01mimport\u001b[39;00m \u001b[38;5;21;01mecharts_python\u001b[39;00m \u001b[38;5;28;01mas\u001b[39;00m \u001b[38;5;21;01mec\u001b[39;00m\n\u001b[0;32m      3\u001b[0m \u001b[38;5;28;01mfrom\u001b[39;00m \u001b[38;5;21;01mecharts_python\u001b[39;00m\u001b[38;5;21;01m.\u001b[39;00m\u001b[38;5;21;01mcharts\u001b[39;00m \u001b[38;5;28;01mimport\u001b[39;00m Map\n\u001b[0;32m      4\u001b[0m \u001b[38;5;28;01mfrom\u001b[39;00m \u001b[38;5;21;01mecharts_python\u001b[39;00m\u001b[38;5;21;01m.\u001b[39;00m\u001b[38;5;21;01moptions\u001b[39;00m \u001b[38;5;28;01mimport\u001b[39;00m TitleOpts, VisualMapOpts\n",
      "\u001b[1;31mModuleNotFoundError\u001b[0m: No module named 'echarts_python'"
     ]
    }
   ],
   "source": [
    "import pandas as pd\n",
    "import echarts_python as ec\n",
    "from echarts_python.charts import Map\n",
    "from echarts_python.options import TitleOpts, VisualMapOpts\n",
    "from IPython.display import IFrame"
   ]
  },
  {
   "cell_type": "markdown",
   "id": "9b724d11d068c805",
   "metadata": {
    "collapsed": false,
    "jupyter": {
     "outputs_hidden": false
    }
   },
   "source": [
    "导入数据表，赋值为beijing_list"
   ]
  },
  {
   "cell_type": "code",
   "execution_count": null,
   "id": "981cc7f6b88f32fb",
   "metadata": {
    "ExecuteTime": {
     "end_time": "2024-02-02T11:55:05.145335200Z",
     "start_time": "2024-02-02T11:55:05.054224500Z"
    },
    "collapsed": false,
    "jupyter": {
     "outputs_hidden": false
    }
   },
   "outputs": [],
   "source": [
    "beijing_list = pd.read_csv(\"二手房数据.csv\",encoding = 'gb18030')\n",
    "beijing_list.head()"
   ]
  },
  {
   "cell_type": "markdown",
   "id": "75a8470c60585caf",
   "metadata": {
    "collapsed": false,
    "jupyter": {
     "outputs_hidden": false
    }
   },
   "source": [
    "##### 评估数据\n",
    "###### 查看数据整齐和清洁度\n",
    "首先复制一个新的表，作为清洗前后区分"
   ]
  },
  {
   "cell_type": "code",
   "execution_count": null,
   "id": "877d679968a42cc6",
   "metadata": {
    "ExecuteTime": {
     "end_time": "2024-02-02T11:55:05.188788100Z",
     "start_time": "2024-02-02T11:55:05.145335200Z"
    },
    "collapsed": false,
    "jupyter": {
     "outputs_hidden": false
    }
   },
   "outputs": [],
   "source": [
    "beijing_list1 = beijing_list\n",
    "beijing_list1"
   ]
  },
  {
   "cell_type": "markdown",
   "id": "e1591367b4c63996",
   "metadata": {
    "collapsed": false,
    "jupyter": {
     "outputs_hidden": false
    }
   },
   "source": [
    "首先去掉去后一列无数据的列"
   ]
  },
  {
   "cell_type": "code",
   "execution_count": null,
   "id": "88a52af1abaec099",
   "metadata": {
    "ExecuteTime": {
     "end_time": "2024-02-02T11:55:05.228741700Z",
     "start_time": "2024-02-02T11:55:05.166152500Z"
    },
    "collapsed": false,
    "jupyter": {
     "outputs_hidden": false
    }
   },
   "outputs": [],
   "source": [
    "beijing_list1 = beijing_list1.drop(\"Unnamed: 11\",axis = 1)\n",
    "beijing_list1"
   ]
  },
  {
   "cell_type": "markdown",
   "id": "5b2a8dadad98b4c9",
   "metadata": {
    "collapsed": false,
    "jupyter": {
     "outputs_hidden": false
    }
   },
   "source": [
    "查看表格数据情况"
   ]
  },
  {
   "cell_type": "code",
   "execution_count": null,
   "id": "ab639f2dbf2e13cd",
   "metadata": {
    "ExecuteTime": {
     "end_time": "2024-02-02T11:55:05.489231900Z",
     "start_time": "2024-02-02T11:55:05.189785Z"
    },
    "collapsed": false,
    "jupyter": {
     "outputs_hidden": false
    }
   },
   "outputs": [],
   "source": [
    "beijing_list1.describe()"
   ]
  },
  {
   "cell_type": "markdown",
   "id": "487c05c1aeb02ea6",
   "metadata": {
    "collapsed": false,
    "jupyter": {
     "outputs_hidden": false
    }
   },
   "source": [
    "共23677条数据，接着查看缺失数据情况"
   ]
  },
  {
   "cell_type": "code",
   "execution_count": null,
   "id": "dd2fc4265c53970f",
   "metadata": {
    "ExecuteTime": {
     "end_time": "2024-02-02T11:55:05.574280Z",
     "start_time": "2024-02-02T11:55:05.246373Z"
    },
    "collapsed": false,
    "jupyter": {
     "outputs_hidden": false
    }
   },
   "outputs": [],
   "source": [
    "beijing_list1.isnull().sum()"
   ]
  },
  {
   "cell_type": "markdown",
   "id": "f8a1a672775195b3",
   "metadata": {
    "collapsed": false,
    "jupyter": {
     "outputs_hidden": false
    }
   },
   "source": [
    "电梯项缺失8255条数据"
   ]
  },
  {
   "cell_type": "markdown",
   "id": "d97dc0e1e43b3a62",
   "metadata": {
    "collapsed": false,
    "jupyter": {
     "outputs_hidden": false
    }
   },
   "source": [
    "查看缺失数据情况"
   ]
  },
  {
   "cell_type": "code",
   "execution_count": null,
   "id": "e818ed5e14a99e2d",
   "metadata": {
    "ExecuteTime": {
     "end_time": "2024-02-02T11:55:05.642443200Z",
     "start_time": "2024-02-02T11:55:05.265892900Z"
    },
    "collapsed": false,
    "jupyter": {
     "outputs_hidden": false
    }
   },
   "outputs": [],
   "source": [
    "beijing_list1[('电梯')].unique()"
   ]
  },
  {
   "cell_type": "markdown",
   "id": "c87c3d385022d78",
   "metadata": {
    "collapsed": false,
    "jupyter": {
     "outputs_hidden": false
    }
   },
   "source": [
    "补充缺失值"
   ]
  },
  {
   "cell_type": "code",
   "execution_count": null,
   "id": "c39aa12c6252a198",
   "metadata": {
    "ExecuteTime": {
     "end_time": "2024-02-02T11:55:05.646430100Z",
     "start_time": "2024-02-02T11:55:05.277618Z"
    },
    "collapsed": false,
    "jupyter": {
     "outputs_hidden": false
    }
   },
   "outputs": [],
   "source": [
    "beijing_list1['电梯'] = beijing_list1['电梯'].fillna('未知')\n",
    "beijing_list1.isnull().sum()"
   ]
  },
  {
   "cell_type": "code",
   "execution_count": null,
   "id": "cb5c241fe5ee968",
   "metadata": {
    "ExecuteTime": {
     "end_time": "2024-02-02T11:55:05.714696400Z",
     "start_time": "2024-02-02T11:55:05.307548200Z"
    },
    "collapsed": false,
    "jupyter": {
     "outputs_hidden": false
    }
   },
   "outputs": [],
   "source": [
    "beijing_list1.drop(beijing_list1[beijing_list1['电梯'] == '81'].index,inplace=True)\n",
    "beijing_list1.drop(beijing_list1[beijing_list1['电梯'] == '0'].index,inplace=True)\n",
    "beijing_list1.drop(beijing_list1[beijing_list1['电梯'] == '3室1厅'].index,inplace=True)\n",
    "beijing_list1.drop(beijing_list1[beijing_list1['电梯'] == '2室1厅'].index,inplace=True)\n",
    "beijing_list1.drop(beijing_list1[beijing_list1['电梯'] == '光熙家园一期'].index,inplace=True)\n",
    "beijing_list1.drop(beijing_list1[beijing_list1['电梯'] == '京师吉地'].index,inplace=True)\n",
    "beijing_list1['电梯'].unique()"
   ]
  },
  {
   "cell_type": "code",
   "execution_count": null,
   "id": "2b0a3925db14f32b",
   "metadata": {
    "ExecuteTime": {
     "end_time": "2024-02-02T11:55:05.734465500Z",
     "start_time": "2024-02-02T11:55:05.321402900Z"
    },
    "collapsed": false,
    "jupyter": {
     "outputs_hidden": false
    }
   },
   "outputs": [],
   "source": [
    "#电梯数据完整，之后查看朝向数据"
   ]
  },
  {
   "cell_type": "code",
   "execution_count": null,
   "id": "ceed994a-fae4-4369-8195-211408a94cd0",
   "metadata": {
    "ExecuteTime": {
     "end_time": "2024-02-02T11:55:05.734465500Z",
     "start_time": "2024-02-02T11:55:05.321402900Z"
    },
    "collapsed": false,
    "jupyter": {
     "outputs_hidden": false
    }
   },
   "outputs": [],
   "source": [
    "beijing_list1['朝向'].unique()"
   ]
  },
  {
   "cell_type": "code",
   "execution_count": null,
   "id": "b3a86dac-1d4a-4f8e-8593-a5c70bdeeaef",
   "metadata": {},
   "outputs": [],
   "source": [
    "beijing_list1['朝向'] = beijing_list1['朝向'].str.replace('南西','西南')\n",
    "beijing_list1['朝向'].unique()"
   ]
  },
  {
   "cell_type": "code",
   "execution_count": null,
   "id": "19ddd31c-fa90-4257-9dca-2a8f63a1932d",
   "metadata": {},
   "outputs": [],
   "source": [
    "beijing_list1_df = pd.DataFrame(beijing_list1)\n",
    "print(beijing_list1_df.columns)"
   ]
  },
  {
   "cell_type": "code",
   "execution_count": null,
   "id": "f31fda42-0cfd-431d-a71a-64b85e0f43d0",
   "metadata": {},
   "outputs": [],
   "source": [
    "beijing_list1.groupby('市区').count()"
   ]
  },
  {
   "cell_type": "markdown",
   "id": "24aba5bf-31cd-4eb1-80fa-5da7c3f82552",
   "metadata": {},
   "source": [
    "可以看出丰台、朝阳、海淀、昌平的房数最多。"
   ]
  },
  {
   "cell_type": "markdown",
   "id": "d97a3b87-4892-49dc-b1d4-d106ba8ee0c8",
   "metadata": {},
   "source": [
    "### 可视化\n",
    "1北京二手房数量地图分布"
   ]
  },
  {
   "cell_type": "code",
   "execution_count": null,
   "id": "f758d1c5-0cdf-4469-add2-12923ab2d959",
   "metadata": {},
   "outputs": [],
   "source": [
    "g = beijing_list1.groupby('市区')\n",
    "df_region = g.count()['小区']\n",
    "region = df_region.index.tolist()\n",
    "count = df_region.values.tolist()\n",
    "df_region"
   ]
  },
  {
   "cell_type": "code",
   "execution_count": null,
   "id": "57c98896-e8f5-4759-b32f-d0d8850ea0b1",
   "metadata": {},
   "outputs": [],
   "source": [
    "def m1():\n",
    "    new = [x + '区' for x in region]\n",
    "    m = (\n",
    "            Map()\n",
    "            .add('', [list(z) for z in zip(new, count)], '北京')\n",
    "            .set_global_opts(\n",
    "                title_opts=opts.TitleOpts(title='北京市二手房各区分布'),\n",
    "                visualmap_opts=opts.VisualMapOpts(max_=3000),\n",
    "            )\n",
    "        )\n",
    "    return m"
   ]
  },
  {
   "cell_type": "code",
   "execution_count": null,
   "id": "a724ea0d-eda4-45cf-adf6-bff1209310ed",
   "metadata": {},
   "outputs": [],
   "source": [
    "m = m1()\n",
    "m.render('北京市二手房各区分布.html')"
   ]
  },
  {
   "cell_type": "code",
   "execution_count": null,
   "id": "4957a2d3-0779-4cd1-915a-dff13d383752",
   "metadata": {},
   "outputs": [],
   "source": [
    "\n",
    "\n",
    "# 将文件名替换为您在上一个示例中使用的文件名\n",
    "file_path = '北京市二手房各区分布.html'\n",
    "\n",
    "# 使用 IFrame 显示 HTML 文件\n",
    "IFrame(file_path, width=800, height=600)"
   ]
  },
  {
   "cell_type": "code",
   "execution_count": null,
   "id": "ddeb1e3f-5dab-4782-8211-f85862677747",
   "metadata": {},
   "outputs": [],
   "source": [
    "def grid1():\n",
    "    df_price.values.tolist()\n",
    "    price = [round(x,2) for x in df_price.values.tolist()]\n",
    "    bar = (\n",
    "        Bar()\n",
    "        .add_xaxis(region)\n",
    "        .add_yaxis('数量', count,\n",
    "                label_opts=opts.LabelOpts(is_show=True))\n",
    "        .extend_axis(\n",
    "            yaxis=opts.AxisOpts(\n",
    "                name=\"价格（万元）\",\n",
    "                type_=\"value\",\n",
    "                min_=200,\n",
    "                max_=900,\n",
    "                interval=100,\n",
    "                axislabel_opts=opts.LabelOpts(formatter=\"{value}\"),\n",
    "            )\n",
    "        )\n",
    "        .set_global_opts(\n",
    "            title_opts=opts.TitleOpts(title='各城区二手房数量-平均价格柱状图'),\n",
    "            tooltip_opts=opts.TooltipOpts(\n",
    "                is_show=True, trigger=\"axis\", axis_pointer_type=\"cross\"\n",
    "            ),\n",
    "            xaxis_opts=opts.AxisOpts(\n",
    "                type_=\"category\",\n",
    "                axispointer_opts=opts.AxisPointerOpts(is_show=True, type_=\"shadow\"),\n",
    "            ),\n",
    "            yaxis_opts=opts.AxisOpts(name='数量',\n",
    "                axistick_opts=opts.AxisTickOpts(is_show=True),\n",
    "                splitline_opts=opts.SplitLineOpts(is_show=False),)\n",
    "        )\n",
    "    )\n",
    "\n",
    "    line2 = (\n",
    "        Line()\n",
    "        .add_xaxis(xaxis_data=region)\n",
    "        .add_yaxis(\n",
    "            \n",
    "            series_name=\"价格\",\n",
    "            yaxis_index=1,\n",
    "            y_axis=price,\n",
    "            label_opts=opts.LabelOpts(is_show=True),\n",
    "            z=10\n",
    "            )\n",
    "    )\n",
    "\n",
    "    bar.overlap(line2)\n",
    "    grid = Grid()\n",
    "    grid.add(bar, opts.GridOpts(pos_left=\"5%\", pos_right=\"20%\"), is_control_axis_index=True)\n",
    "    return grid"
   ]
  },
  {
   "cell_type": "code",
   "execution_count": null,
   "id": "4ca01d42-c61a-4f04-84dc-af10a083f665",
   "metadata": {},
   "outputs": [],
   "source": [
    "from IPython.display import Image\n",
    "\n",
    "# 将图片路径替换为您要显示的图片的实际路径\n",
    "image_path = 'path/to/your/image.jpg'\n",
    "\n",
    "# 使用 Image 函数显示图片\n",
    "Image(image_path)"
   ]
  },
  {
   "cell_type": "code",
   "execution_count": null,
   "id": "6a9dfe4f-8445-4fcf-86e0-324a3bae3417",
   "metadata": {},
   "outputs": [],
   "source": []
  }
 ],
 "metadata": {
  "kernelspec": {
   "display_name": "Python 3 (ipykernel)",
   "language": "python",
   "name": "python3"
  },
  "language_info": {
   "codemirror_mode": {
    "name": "ipython",
    "version": 3
   },
   "file_extension": ".py",
   "mimetype": "text/x-python",
   "name": "python",
   "nbconvert_exporter": "python",
   "pygments_lexer": "ipython3",
   "version": "3.12.1"
  }
 },
 "nbformat": 4,
 "nbformat_minor": 5
}
