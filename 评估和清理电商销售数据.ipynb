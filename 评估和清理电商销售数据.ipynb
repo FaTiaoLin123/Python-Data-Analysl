{
 "cells": [
  {
   "cell_type": "markdown",
   "metadata": {},
   "source": [
    "# 项目：评估和清理英国电商公司销售数据"
   ]
  },
  {
   "cell_type": "markdown",
   "metadata": {},
   "source": [
    "## 分析目标"
   ]
  },
  {
   "cell_type": "markdown",
   "metadata": {},
   "source": [
    "此数据分析的目的是，根据市场销售数据，挖掘畅销产品，以便制定更有效的市场策略来提升营收。\n",
    "\n",
    "本实战项目的目的在于练习评估数据干净和整洁度，并且基于评估结果，对数据进行清洗，从而得到可供下一步分析的数据。"
   ]
  },
  {
   "cell_type": "markdown",
   "metadata": {},
   "source": [
    "## 简介"
   ]
  },
  {
   "cell_type": "markdown",
   "metadata": {},
   "source": [
    "原始数据集记录了一家英国在线零售公司在2010年12月1日至2011年12月9日期间的所有交易情况，涵盖了该公司在全球不同国家和地区的业务数据。该公司主要销售覆盖各个场景的礼品，包括但不限于生日礼品、结婚纪念品、圣诞礼品等等。该公司的客户群体主要包括批发商和个人消费者，其中批发商占据了相当大的比例。"
   ]
  },
  {
   "cell_type": "markdown",
   "metadata": {},
   "source": [
    "数据每列的含义如下：\n",
    "- `InvoiceNo`: 发票号码。6位数，作为交易的唯一标识符。如果这个代码以字母“c”开头，表示这笔交易被取消。\n",
    "- `StockCode`: 产品代码。5位数，作为产品的唯一标识符。\n",
    "- `Description`: 产品名称。\n",
    "- `Quantity`: 产品在交易中的数量。\n",
    "- `InvoiceDate`: 发票日期和时间。交易发生的日期和时间。\n",
    "- `UnitPrice`: 单价。价格单位为英镑（£）。\n",
    "- `CustomerID`: 客户编号。5位数，作为客户的唯一标识符。\n",
    "- `Country`: 国家名称。客户所居住的国家的名称。"
   ]
  },
  {
   "cell_type": "markdown",
   "metadata": {},
   "source": [
    "## 读取数据"
   ]
  },
  {
   "cell_type": "code",
   "execution_count": 1,
   "metadata": {
    "ExecuteTime": {
     "end_time": "2024-01-15T15:19:33.569239600Z",
     "start_time": "2024-01-15T15:19:30.007691700Z"
    }
   },
   "outputs": [
    {
     "name": "stderr",
     "output_type": "stream",
     "text": [
      "<>:2: SyntaxWarning: invalid escape sequence '\\p'\n",
      "<>:2: SyntaxWarning: invalid escape sequence '\\p'\n",
      "C:\\Users\\林涵\\AppData\\Local\\Temp\\ipykernel_17380\\176243545.py:2: SyntaxWarning: invalid escape sequence '\\p'\n",
      "  df1 = pd.read_csv('D:\\pytho练习\\pythonProject3\\e_commerce.csv')\n"
     ]
    },
    {
     "data": {
      "text/plain": "  InvoiceNo StockCode                          Description  Quantity  \\\n0    536365    85123A   WHITE HANGING HEART T-LIGHT HOLDER         6   \n1    536365     71053                  WHITE METAL LANTERN         6   \n2    536365    84406B       CREAM CUPID HEARTS COAT HANGER         8   \n3    536365    84029G  KNITTED UNION FLAG HOT WATER BOTTLE         6   \n4    536365    84029E       RED WOOLLY HOTTIE WHITE HEART.         6   \n\n      InvoiceDate  UnitPrice  CustomerID         Country  \n0  12/1/2010 8:26       2.55     17850.0  United Kingdom  \n1  12/1/2010 8:26       3.39     17850.0  United Kingdom  \n2  12/1/2010 8:26       2.75     17850.0  United Kingdom  \n3  12/1/2010 8:26       3.39     17850.0  United Kingdom  \n4  12/1/2010 8:26       3.39     17850.0  United Kingdom  ",
      "text/html": "<div>\n<style scoped>\n    .dataframe tbody tr th:only-of-type {\n        vertical-align: middle;\n    }\n\n    .dataframe tbody tr th {\n        vertical-align: top;\n    }\n\n    .dataframe thead th {\n        text-align: right;\n    }\n</style>\n<table border=\"1\" class=\"dataframe\">\n  <thead>\n    <tr style=\"text-align: right;\">\n      <th></th>\n      <th>InvoiceNo</th>\n      <th>StockCode</th>\n      <th>Description</th>\n      <th>Quantity</th>\n      <th>InvoiceDate</th>\n      <th>UnitPrice</th>\n      <th>CustomerID</th>\n      <th>Country</th>\n    </tr>\n  </thead>\n  <tbody>\n    <tr>\n      <th>0</th>\n      <td>536365</td>\n      <td>85123A</td>\n      <td>WHITE HANGING HEART T-LIGHT HOLDER</td>\n      <td>6</td>\n      <td>12/1/2010 8:26</td>\n      <td>2.55</td>\n      <td>17850.0</td>\n      <td>United Kingdom</td>\n    </tr>\n    <tr>\n      <th>1</th>\n      <td>536365</td>\n      <td>71053</td>\n      <td>WHITE METAL LANTERN</td>\n      <td>6</td>\n      <td>12/1/2010 8:26</td>\n      <td>3.39</td>\n      <td>17850.0</td>\n      <td>United Kingdom</td>\n    </tr>\n    <tr>\n      <th>2</th>\n      <td>536365</td>\n      <td>84406B</td>\n      <td>CREAM CUPID HEARTS COAT HANGER</td>\n      <td>8</td>\n      <td>12/1/2010 8:26</td>\n      <td>2.75</td>\n      <td>17850.0</td>\n      <td>United Kingdom</td>\n    </tr>\n    <tr>\n      <th>3</th>\n      <td>536365</td>\n      <td>84029G</td>\n      <td>KNITTED UNION FLAG HOT WATER BOTTLE</td>\n      <td>6</td>\n      <td>12/1/2010 8:26</td>\n      <td>3.39</td>\n      <td>17850.0</td>\n      <td>United Kingdom</td>\n    </tr>\n    <tr>\n      <th>4</th>\n      <td>536365</td>\n      <td>84029E</td>\n      <td>RED WOOLLY HOTTIE WHITE HEART.</td>\n      <td>6</td>\n      <td>12/1/2010 8:26</td>\n      <td>3.39</td>\n      <td>17850.0</td>\n      <td>United Kingdom</td>\n    </tr>\n  </tbody>\n</table>\n</div>"
     },
     "execution_count": 1,
     "metadata": {},
     "output_type": "execute_result"
    }
   ],
   "source": [
    "import pandas as pd\n",
    "df1 = pd.read_csv('D:\\pytho练习\\pythonProject3\\e_commerce.csv')\n",
    "df1.head()"
   ]
  },
  {
   "cell_type": "markdown",
   "metadata": {},
   "source": [
    "## 评估数据"
   ]
  },
  {
   "cell_type": "markdown",
   "source": [
    "### 评估整齐度"
   ],
   "metadata": {
    "collapsed": false
   }
  },
  {
   "cell_type": "code",
   "execution_count": 2,
   "metadata": {
    "ExecuteTime": {
     "end_time": "2024-01-15T15:19:33.815928900Z",
     "start_time": "2024-01-15T15:19:33.573231600Z"
    }
   },
   "outputs": [
    {
     "data": {
      "text/plain": "       InvoiceNo StockCode                          Description  Quantity  \\\n162624    550512    85199L  LARGE HANGING IVORY & RED WOOD BIRD         1   \n384334    570116     23371      SET 36 COLOUR PENCILS SPACEBOY          3   \n517460    580058     22910    PAPER CHAIN KIT VINTAGE CHRISTMAS         6   \n54519     540954     20752      BLUE POLKADOT WASHING UP GLOVES         1   \n102430    545020     22697      GREEN REGENCY TEACUP AND SAUCER         6   \n450790    575177     22065       CHRISTMAS PUDDING TRINKET POT         10   \n306250    563745     22610             PENS ASSORTED FUNNY FACE        72   \n13326     537434     21210   SET OF 72 RETROSPOT PAPER  DOILIES         1   \n143916    548714     21080  SET/20 RED RETROSPOT PAPER NAPKINS          2   \n504687    578977    90186B     CRYSTAL HOOP EARRING FLORAL LEAF         2   \n\n             InvoiceDate  UnitPrice  CustomerID         Country  \n162624   4/18/2011 16:31       0.65     18069.0  United Kingdom  \n384334   10/7/2011 12:38       1.25     12856.0  United Kingdom  \n517460   12/1/2011 13:19       2.95     14367.0  United Kingdom  \n54519    1/12/2011 13:19       2.10     14606.0  United Kingdom  \n102430   2/25/2011 14:03       2.95     13792.0  United Kingdom  \n450790   11/8/2011 18:41       1.63         NaN  United Kingdom  \n306250    8/19/2011 9:38       0.19     15159.0  United Kingdom  \n13326    12/6/2010 16:57       2.98         NaN  United Kingdom  \n143916    4/3/2011 15:07       0.85     17337.0  United Kingdom  \n504687  11/27/2011 15:18       2.95     17231.0  United Kingdom  ",
      "text/html": "<div>\n<style scoped>\n    .dataframe tbody tr th:only-of-type {\n        vertical-align: middle;\n    }\n\n    .dataframe tbody tr th {\n        vertical-align: top;\n    }\n\n    .dataframe thead th {\n        text-align: right;\n    }\n</style>\n<table border=\"1\" class=\"dataframe\">\n  <thead>\n    <tr style=\"text-align: right;\">\n      <th></th>\n      <th>InvoiceNo</th>\n      <th>StockCode</th>\n      <th>Description</th>\n      <th>Quantity</th>\n      <th>InvoiceDate</th>\n      <th>UnitPrice</th>\n      <th>CustomerID</th>\n      <th>Country</th>\n    </tr>\n  </thead>\n  <tbody>\n    <tr>\n      <th>162624</th>\n      <td>550512</td>\n      <td>85199L</td>\n      <td>LARGE HANGING IVORY &amp; RED WOOD BIRD</td>\n      <td>1</td>\n      <td>4/18/2011 16:31</td>\n      <td>0.65</td>\n      <td>18069.0</td>\n      <td>United Kingdom</td>\n    </tr>\n    <tr>\n      <th>384334</th>\n      <td>570116</td>\n      <td>23371</td>\n      <td>SET 36 COLOUR PENCILS SPACEBOY</td>\n      <td>3</td>\n      <td>10/7/2011 12:38</td>\n      <td>1.25</td>\n      <td>12856.0</td>\n      <td>United Kingdom</td>\n    </tr>\n    <tr>\n      <th>517460</th>\n      <td>580058</td>\n      <td>22910</td>\n      <td>PAPER CHAIN KIT VINTAGE CHRISTMAS</td>\n      <td>6</td>\n      <td>12/1/2011 13:19</td>\n      <td>2.95</td>\n      <td>14367.0</td>\n      <td>United Kingdom</td>\n    </tr>\n    <tr>\n      <th>54519</th>\n      <td>540954</td>\n      <td>20752</td>\n      <td>BLUE POLKADOT WASHING UP GLOVES</td>\n      <td>1</td>\n      <td>1/12/2011 13:19</td>\n      <td>2.10</td>\n      <td>14606.0</td>\n      <td>United Kingdom</td>\n    </tr>\n    <tr>\n      <th>102430</th>\n      <td>545020</td>\n      <td>22697</td>\n      <td>GREEN REGENCY TEACUP AND SAUCER</td>\n      <td>6</td>\n      <td>2/25/2011 14:03</td>\n      <td>2.95</td>\n      <td>13792.0</td>\n      <td>United Kingdom</td>\n    </tr>\n    <tr>\n      <th>450790</th>\n      <td>575177</td>\n      <td>22065</td>\n      <td>CHRISTMAS PUDDING TRINKET POT</td>\n      <td>10</td>\n      <td>11/8/2011 18:41</td>\n      <td>1.63</td>\n      <td>NaN</td>\n      <td>United Kingdom</td>\n    </tr>\n    <tr>\n      <th>306250</th>\n      <td>563745</td>\n      <td>22610</td>\n      <td>PENS ASSORTED FUNNY FACE</td>\n      <td>72</td>\n      <td>8/19/2011 9:38</td>\n      <td>0.19</td>\n      <td>15159.0</td>\n      <td>United Kingdom</td>\n    </tr>\n    <tr>\n      <th>13326</th>\n      <td>537434</td>\n      <td>21210</td>\n      <td>SET OF 72 RETROSPOT PAPER  DOILIES</td>\n      <td>1</td>\n      <td>12/6/2010 16:57</td>\n      <td>2.98</td>\n      <td>NaN</td>\n      <td>United Kingdom</td>\n    </tr>\n    <tr>\n      <th>143916</th>\n      <td>548714</td>\n      <td>21080</td>\n      <td>SET/20 RED RETROSPOT PAPER NAPKINS</td>\n      <td>2</td>\n      <td>4/3/2011 15:07</td>\n      <td>0.85</td>\n      <td>17337.0</td>\n      <td>United Kingdom</td>\n    </tr>\n    <tr>\n      <th>504687</th>\n      <td>578977</td>\n      <td>90186B</td>\n      <td>CRYSTAL HOOP EARRING FLORAL LEAF</td>\n      <td>2</td>\n      <td>11/27/2011 15:18</td>\n      <td>2.95</td>\n      <td>17231.0</td>\n      <td>United Kingdom</td>\n    </tr>\n  </tbody>\n</table>\n</div>"
     },
     "execution_count": 2,
     "metadata": {},
     "output_type": "execute_result"
    }
   ],
   "source": [
    "df1.sample(10)"
   ]
  },
  {
   "cell_type": "markdown",
   "source": [
    "从抽样10行数据来看，数据符合“每列是一个变量，每行是一个观察值，每个单元格是一个值”，具体来看每行是关于某商品的一次交易，每列是交易的各个变量，因此不存在结构问题。"
   ],
   "metadata": {
    "collapsed": false
   }
  },
  {
   "cell_type": "markdown",
   "source": [
    "### 评估数据干净度"
   ],
   "metadata": {
    "collapsed": false
   }
  },
  {
   "cell_type": "code",
   "outputs": [
    {
     "name": "stdout",
     "output_type": "stream",
     "text": [
      "<class 'pandas.core.frame.DataFrame'>\n",
      "RangeIndex: 541909 entries, 0 to 541908\n",
      "Data columns (total 8 columns):\n",
      " #   Column       Non-Null Count   Dtype  \n",
      "---  ------       --------------   -----  \n",
      " 0   InvoiceNo    541909 non-null  object \n",
      " 1   StockCode    541909 non-null  object \n",
      " 2   Description  540455 non-null  object \n",
      " 3   Quantity     541909 non-null  int64  \n",
      " 4   InvoiceDate  541909 non-null  object \n",
      " 5   UnitPrice    541909 non-null  float64\n",
      " 6   CustomerID   406829 non-null  float64\n",
      " 7   Country      541909 non-null  object \n",
      "dtypes: float64(2), int64(1), object(5)\n",
      "memory usage: 33.1+ MB\n"
     ]
    }
   ],
   "source": [
    "df1.info()"
   ],
   "metadata": {
    "collapsed": false,
    "ExecuteTime": {
     "end_time": "2024-01-15T15:19:34.094381800Z",
     "start_time": "2024-01-15T15:19:33.638384700Z"
    }
   },
   "execution_count": 3
  },
  {
   "cell_type": "markdown",
   "source": [
    "从输出结果来看，数据共541909行，而Description、CustomerID变量存在缺失值。\n",
    "此外，InvoiceDate的数据类型应为日期，CustomerID的数据类型应为字符串，应当进行数据格式转换。"
   ],
   "metadata": {
    "collapsed": false
   }
  },
  {
   "cell_type": "markdown",
   "source": [
    "#### 评估缺失数据"
   ],
   "metadata": {
    "collapsed": false
   }
  },
  {
   "cell_type": "code",
   "outputs": [
    {
     "data": {
      "text/plain": "       InvoiceNo StockCode Description  Quantity      InvoiceDate  UnitPrice  \\\n622       536414     22139         NaN        56  12/1/2010 11:52        0.0   \n1970      536545     21134         NaN         1  12/1/2010 14:32        0.0   \n1971      536546     22145         NaN         1  12/1/2010 14:33        0.0   \n1972      536547     37509         NaN         1  12/1/2010 14:33        0.0   \n1987      536549    85226A         NaN         1  12/1/2010 14:34        0.0   \n...          ...       ...         ...       ...              ...        ...   \n535322    581199     84581         NaN        -2  12/7/2011 18:26        0.0   \n535326    581203     23406         NaN        15  12/7/2011 18:31        0.0   \n535332    581209     21620         NaN         6  12/7/2011 18:35        0.0   \n536981    581234     72817         NaN        27  12/8/2011 10:33        0.0   \n538554    581408     85175         NaN        20  12/8/2011 14:06        0.0   \n\n        CustomerID         Country  \n622            NaN  United Kingdom  \n1970           NaN  United Kingdom  \n1971           NaN  United Kingdom  \n1972           NaN  United Kingdom  \n1987           NaN  United Kingdom  \n...            ...             ...  \n535322         NaN  United Kingdom  \n535326         NaN  United Kingdom  \n535332         NaN  United Kingdom  \n536981         NaN  United Kingdom  \n538554         NaN  United Kingdom  \n\n[1454 rows x 8 columns]",
      "text/html": "<div>\n<style scoped>\n    .dataframe tbody tr th:only-of-type {\n        vertical-align: middle;\n    }\n\n    .dataframe tbody tr th {\n        vertical-align: top;\n    }\n\n    .dataframe thead th {\n        text-align: right;\n    }\n</style>\n<table border=\"1\" class=\"dataframe\">\n  <thead>\n    <tr style=\"text-align: right;\">\n      <th></th>\n      <th>InvoiceNo</th>\n      <th>StockCode</th>\n      <th>Description</th>\n      <th>Quantity</th>\n      <th>InvoiceDate</th>\n      <th>UnitPrice</th>\n      <th>CustomerID</th>\n      <th>Country</th>\n    </tr>\n  </thead>\n  <tbody>\n    <tr>\n      <th>622</th>\n      <td>536414</td>\n      <td>22139</td>\n      <td>NaN</td>\n      <td>56</td>\n      <td>12/1/2010 11:52</td>\n      <td>0.0</td>\n      <td>NaN</td>\n      <td>United Kingdom</td>\n    </tr>\n    <tr>\n      <th>1970</th>\n      <td>536545</td>\n      <td>21134</td>\n      <td>NaN</td>\n      <td>1</td>\n      <td>12/1/2010 14:32</td>\n      <td>0.0</td>\n      <td>NaN</td>\n      <td>United Kingdom</td>\n    </tr>\n    <tr>\n      <th>1971</th>\n      <td>536546</td>\n      <td>22145</td>\n      <td>NaN</td>\n      <td>1</td>\n      <td>12/1/2010 14:33</td>\n      <td>0.0</td>\n      <td>NaN</td>\n      <td>United Kingdom</td>\n    </tr>\n    <tr>\n      <th>1972</th>\n      <td>536547</td>\n      <td>37509</td>\n      <td>NaN</td>\n      <td>1</td>\n      <td>12/1/2010 14:33</td>\n      <td>0.0</td>\n      <td>NaN</td>\n      <td>United Kingdom</td>\n    </tr>\n    <tr>\n      <th>1987</th>\n      <td>536549</td>\n      <td>85226A</td>\n      <td>NaN</td>\n      <td>1</td>\n      <td>12/1/2010 14:34</td>\n      <td>0.0</td>\n      <td>NaN</td>\n      <td>United Kingdom</td>\n    </tr>\n    <tr>\n      <th>...</th>\n      <td>...</td>\n      <td>...</td>\n      <td>...</td>\n      <td>...</td>\n      <td>...</td>\n      <td>...</td>\n      <td>...</td>\n      <td>...</td>\n    </tr>\n    <tr>\n      <th>535322</th>\n      <td>581199</td>\n      <td>84581</td>\n      <td>NaN</td>\n      <td>-2</td>\n      <td>12/7/2011 18:26</td>\n      <td>0.0</td>\n      <td>NaN</td>\n      <td>United Kingdom</td>\n    </tr>\n    <tr>\n      <th>535326</th>\n      <td>581203</td>\n      <td>23406</td>\n      <td>NaN</td>\n      <td>15</td>\n      <td>12/7/2011 18:31</td>\n      <td>0.0</td>\n      <td>NaN</td>\n      <td>United Kingdom</td>\n    </tr>\n    <tr>\n      <th>535332</th>\n      <td>581209</td>\n      <td>21620</td>\n      <td>NaN</td>\n      <td>6</td>\n      <td>12/7/2011 18:35</td>\n      <td>0.0</td>\n      <td>NaN</td>\n      <td>United Kingdom</td>\n    </tr>\n    <tr>\n      <th>536981</th>\n      <td>581234</td>\n      <td>72817</td>\n      <td>NaN</td>\n      <td>27</td>\n      <td>12/8/2011 10:33</td>\n      <td>0.0</td>\n      <td>NaN</td>\n      <td>United Kingdom</td>\n    </tr>\n    <tr>\n      <th>538554</th>\n      <td>581408</td>\n      <td>85175</td>\n      <td>NaN</td>\n      <td>20</td>\n      <td>12/8/2011 14:06</td>\n      <td>0.0</td>\n      <td>NaN</td>\n      <td>United Kingdom</td>\n    </tr>\n  </tbody>\n</table>\n<p>1454 rows × 8 columns</p>\n</div>"
     },
     "execution_count": 4,
     "metadata": {},
     "output_type": "execute_result"
    }
   ],
   "source": [
    "df1[df1[\"Description\"].isnull()]"
   ],
   "metadata": {
    "collapsed": false,
    "ExecuteTime": {
     "end_time": "2024-01-15T15:19:34.216267500Z",
     "start_time": "2024-01-15T15:19:33.879652700Z"
    }
   },
   "execution_count": 4
  },
  {
   "cell_type": "markdown",
   "source": [
    "一共有1454条交易数据缺失Description变量值\n",
    "从输出结果来看，这些缺失Description的交易数据，UnitPrice都为0，为了验证猜想，我们增加筛选条件。"
   ],
   "metadata": {
    "collapsed": false
   }
  },
  {
   "cell_type": "code",
   "outputs": [
    {
     "data": {
      "text/plain": "Empty DataFrame\nColumns: [InvoiceNo, StockCode, Description, Quantity, InvoiceDate, UnitPrice, CustomerID, Country]\nIndex: []",
      "text/html": "<div>\n<style scoped>\n    .dataframe tbody tr th:only-of-type {\n        vertical-align: middle;\n    }\n\n    .dataframe tbody tr th {\n        vertical-align: top;\n    }\n\n    .dataframe thead th {\n        text-align: right;\n    }\n</style>\n<table border=\"1\" class=\"dataframe\">\n  <thead>\n    <tr style=\"text-align: right;\">\n      <th></th>\n      <th>InvoiceNo</th>\n      <th>StockCode</th>\n      <th>Description</th>\n      <th>Quantity</th>\n      <th>InvoiceDate</th>\n      <th>UnitPrice</th>\n      <th>CustomerID</th>\n      <th>Country</th>\n    </tr>\n  </thead>\n  <tbody>\n  </tbody>\n</table>\n</div>"
     },
     "execution_count": 5,
     "metadata": {},
     "output_type": "execute_result"
    }
   ],
   "source": [
    "df1[(df1[\"Description\"].isnull()) & (df1[\"UnitPrice\"] != 0)]"
   ],
   "metadata": {
    "collapsed": false,
    "ExecuteTime": {
     "end_time": "2024-01-15T15:19:34.430813500Z",
     "start_time": "2024-01-15T15:19:33.956042700Z"
    }
   },
   "execution_count": 5
  },
  {
   "cell_type": "markdown",
   "source": [
    "筛选出来的结果为0条，说明缺失Description值的数据，同时也不具备有效的UnitPrice值。\n",
    "产品名称和产品单价同时缺失，我认为数据无法提供有效含义，因此后续可以删除。"
   ],
   "metadata": {
    "collapsed": false
   }
  },
  {
   "cell_type": "code",
   "outputs": [
    {
     "data": {
      "text/plain": "       InvoiceNo StockCode                      Description  Quantity  \\\n622       536414     22139                              NaN        56   \n1443      536544     21773  DECORATIVE ROSE BATHROOM BOTTLE         1   \n1444      536544     21774  DECORATIVE CATS BATHROOM BOTTLE         2   \n1445      536544     21786               POLKADOT RAIN HAT          4   \n1446      536544     21787            RAIN PONCHO RETROSPOT         2   \n...          ...       ...                              ...       ...   \n541536    581498    85099B          JUMBO BAG RED RETROSPOT         5   \n541537    581498    85099C   JUMBO  BAG BAROQUE BLACK WHITE         4   \n541538    581498     85150    LADIES & GENTLEMEN METAL SIGN         1   \n541539    581498     85174                S/4 CACTI CANDLES         1   \n541540    581498       DOT                   DOTCOM POSTAGE         1   \n\n            InvoiceDate  UnitPrice  CustomerID         Country  \n622     12/1/2010 11:52       0.00         NaN  United Kingdom  \n1443    12/1/2010 14:32       2.51         NaN  United Kingdom  \n1444    12/1/2010 14:32       2.51         NaN  United Kingdom  \n1445    12/1/2010 14:32       0.85         NaN  United Kingdom  \n1446    12/1/2010 14:32       1.66         NaN  United Kingdom  \n...                 ...        ...         ...             ...  \n541536  12/9/2011 10:26       4.13         NaN  United Kingdom  \n541537  12/9/2011 10:26       4.13         NaN  United Kingdom  \n541538  12/9/2011 10:26       4.96         NaN  United Kingdom  \n541539  12/9/2011 10:26      10.79         NaN  United Kingdom  \n541540  12/9/2011 10:26    1714.17         NaN  United Kingdom  \n\n[135080 rows x 8 columns]",
      "text/html": "<div>\n<style scoped>\n    .dataframe tbody tr th:only-of-type {\n        vertical-align: middle;\n    }\n\n    .dataframe tbody tr th {\n        vertical-align: top;\n    }\n\n    .dataframe thead th {\n        text-align: right;\n    }\n</style>\n<table border=\"1\" class=\"dataframe\">\n  <thead>\n    <tr style=\"text-align: right;\">\n      <th></th>\n      <th>InvoiceNo</th>\n      <th>StockCode</th>\n      <th>Description</th>\n      <th>Quantity</th>\n      <th>InvoiceDate</th>\n      <th>UnitPrice</th>\n      <th>CustomerID</th>\n      <th>Country</th>\n    </tr>\n  </thead>\n  <tbody>\n    <tr>\n      <th>622</th>\n      <td>536414</td>\n      <td>22139</td>\n      <td>NaN</td>\n      <td>56</td>\n      <td>12/1/2010 11:52</td>\n      <td>0.00</td>\n      <td>NaN</td>\n      <td>United Kingdom</td>\n    </tr>\n    <tr>\n      <th>1443</th>\n      <td>536544</td>\n      <td>21773</td>\n      <td>DECORATIVE ROSE BATHROOM BOTTLE</td>\n      <td>1</td>\n      <td>12/1/2010 14:32</td>\n      <td>2.51</td>\n      <td>NaN</td>\n      <td>United Kingdom</td>\n    </tr>\n    <tr>\n      <th>1444</th>\n      <td>536544</td>\n      <td>21774</td>\n      <td>DECORATIVE CATS BATHROOM BOTTLE</td>\n      <td>2</td>\n      <td>12/1/2010 14:32</td>\n      <td>2.51</td>\n      <td>NaN</td>\n      <td>United Kingdom</td>\n    </tr>\n    <tr>\n      <th>1445</th>\n      <td>536544</td>\n      <td>21786</td>\n      <td>POLKADOT RAIN HAT</td>\n      <td>4</td>\n      <td>12/1/2010 14:32</td>\n      <td>0.85</td>\n      <td>NaN</td>\n      <td>United Kingdom</td>\n    </tr>\n    <tr>\n      <th>1446</th>\n      <td>536544</td>\n      <td>21787</td>\n      <td>RAIN PONCHO RETROSPOT</td>\n      <td>2</td>\n      <td>12/1/2010 14:32</td>\n      <td>1.66</td>\n      <td>NaN</td>\n      <td>United Kingdom</td>\n    </tr>\n    <tr>\n      <th>...</th>\n      <td>...</td>\n      <td>...</td>\n      <td>...</td>\n      <td>...</td>\n      <td>...</td>\n      <td>...</td>\n      <td>...</td>\n      <td>...</td>\n    </tr>\n    <tr>\n      <th>541536</th>\n      <td>581498</td>\n      <td>85099B</td>\n      <td>JUMBO BAG RED RETROSPOT</td>\n      <td>5</td>\n      <td>12/9/2011 10:26</td>\n      <td>4.13</td>\n      <td>NaN</td>\n      <td>United Kingdom</td>\n    </tr>\n    <tr>\n      <th>541537</th>\n      <td>581498</td>\n      <td>85099C</td>\n      <td>JUMBO  BAG BAROQUE BLACK WHITE</td>\n      <td>4</td>\n      <td>12/9/2011 10:26</td>\n      <td>4.13</td>\n      <td>NaN</td>\n      <td>United Kingdom</td>\n    </tr>\n    <tr>\n      <th>541538</th>\n      <td>581498</td>\n      <td>85150</td>\n      <td>LADIES &amp; GENTLEMEN METAL SIGN</td>\n      <td>1</td>\n      <td>12/9/2011 10:26</td>\n      <td>4.96</td>\n      <td>NaN</td>\n      <td>United Kingdom</td>\n    </tr>\n    <tr>\n      <th>541539</th>\n      <td>581498</td>\n      <td>85174</td>\n      <td>S/4 CACTI CANDLES</td>\n      <td>1</td>\n      <td>12/9/2011 10:26</td>\n      <td>10.79</td>\n      <td>NaN</td>\n      <td>United Kingdom</td>\n    </tr>\n    <tr>\n      <th>541540</th>\n      <td>581498</td>\n      <td>DOT</td>\n      <td>DOTCOM POSTAGE</td>\n      <td>1</td>\n      <td>12/9/2011 10:26</td>\n      <td>1714.17</td>\n      <td>NaN</td>\n      <td>United Kingdom</td>\n    </tr>\n  </tbody>\n</table>\n<p>135080 rows × 8 columns</p>\n</div>"
     },
     "execution_count": 6,
     "metadata": {},
     "output_type": "execute_result"
    }
   ],
   "source": [
    "df1[df1[\"CustomerID\"].isnull()]"
   ],
   "metadata": {
    "collapsed": false,
    "ExecuteTime": {
     "end_time": "2024-01-15T15:19:34.461547200Z",
     "start_time": "2024-01-15T15:19:34.016648500Z"
    }
   },
   "execution_count": 6
  },
  {
   "cell_type": "markdown",
   "source": [
    "客户编号不是分析畅销商品的必要变量，而且虽然客户编号缺失，但交易数据依旧有效，所以保留此观察值。"
   ],
   "metadata": {
    "collapsed": false
   }
  },
  {
   "cell_type": "markdown",
   "source": [
    "#### 评估重复数据"
   ],
   "metadata": {
    "collapsed": false
   }
  },
  {
   "cell_type": "markdown",
   "source": [
    "虽然交易编码，发票编码，客户编码是唯一标识，但一次交易可以包括多个商品，可以有多此重复情况；因此不评估重复数据。"
   ],
   "metadata": {
    "collapsed": false
   }
  },
  {
   "cell_type": "markdown",
   "source": [
    "#### 评估不一致数据"
   ],
   "metadata": {
    "collapsed": false
   }
  },
  {
   "cell_type": "code",
   "outputs": [
    {
     "data": {
      "text/plain": "Country\nUnited Kingdom          495266\nGermany                   9495\nFrance                    8557\nEIRE                      8196\nSpain                     2533\nNetherlands               2371\nBelgium                   2069\nSwitzerland               2002\nPortugal                  1519\nAustralia                 1259\nNorway                    1086\nItaly                      803\nChannel Islands            758\nFinland                    695\nCyprus                     622\nSweden                     462\nUnspecified                446\nAustria                    401\nDenmark                    389\nJapan                      358\nPoland                     341\nIsrael                     297\nChina                      288\nSingapore                  229\nUSA                        218\nUK                         211\nIceland                    182\nCanada                     151\nGreece                     146\nMalta                      127\nUnited States               73\nUnited Arab Emirates        68\nEuropean Community          61\nRSA                         58\nLebanon                     45\nLithuania                   35\nBrazil                      32\nCzech Republic              30\nBahrain                     19\nSaudi Arabia                10\nU.K.                         1\nName: count, dtype: int64"
     },
     "execution_count": 7,
     "metadata": {},
     "output_type": "execute_result"
    }
   ],
   "source": [
    "df1[\"Country\"].value_counts()"
   ],
   "metadata": {
    "collapsed": false,
    "ExecuteTime": {
     "end_time": "2024-01-15T15:19:34.680521600Z",
     "start_time": "2024-01-15T15:19:34.068567400Z"
    }
   },
   "execution_count": 7
  },
  {
   "cell_type": "markdown",
   "source": [
    "从变量值看，“USA”、“United States”均表示美国，“United Kingdom”、“UK”、“U.K.”均在表示英国，因此应该统一，保留一个指代值"
   ],
   "metadata": {
    "collapsed": false
   }
  },
  {
   "cell_type": "markdown",
   "source": [
    "#### 评估无效和错误数据\n",
    "通过DateFrame的describe方法，来对数据统计进行快速了解"
   ],
   "metadata": {
    "collapsed": false
   }
  },
  {
   "cell_type": "code",
   "outputs": [
    {
     "data": {
      "text/plain": "            Quantity      UnitPrice     CustomerID\ncount  541909.000000  541909.000000  406829.000000\nmean        9.552250       4.611114   15287.690570\nstd       218.081158      96.759853    1713.600303\nmin    -80995.000000  -11062.060000   12346.000000\n25%         1.000000       1.250000   13953.000000\n50%         3.000000       2.080000   15152.000000\n75%        10.000000       4.130000   16791.000000\nmax     80995.000000   38970.000000   18287.000000",
      "text/html": "<div>\n<style scoped>\n    .dataframe tbody tr th:only-of-type {\n        vertical-align: middle;\n    }\n\n    .dataframe tbody tr th {\n        vertical-align: top;\n    }\n\n    .dataframe thead th {\n        text-align: right;\n    }\n</style>\n<table border=\"1\" class=\"dataframe\">\n  <thead>\n    <tr style=\"text-align: right;\">\n      <th></th>\n      <th>Quantity</th>\n      <th>UnitPrice</th>\n      <th>CustomerID</th>\n    </tr>\n  </thead>\n  <tbody>\n    <tr>\n      <th>count</th>\n      <td>541909.000000</td>\n      <td>541909.000000</td>\n      <td>406829.000000</td>\n    </tr>\n    <tr>\n      <th>mean</th>\n      <td>9.552250</td>\n      <td>4.611114</td>\n      <td>15287.690570</td>\n    </tr>\n    <tr>\n      <th>std</th>\n      <td>218.081158</td>\n      <td>96.759853</td>\n      <td>1713.600303</td>\n    </tr>\n    <tr>\n      <th>min</th>\n      <td>-80995.000000</td>\n      <td>-11062.060000</td>\n      <td>12346.000000</td>\n    </tr>\n    <tr>\n      <th>25%</th>\n      <td>1.000000</td>\n      <td>1.250000</td>\n      <td>13953.000000</td>\n    </tr>\n    <tr>\n      <th>50%</th>\n      <td>3.000000</td>\n      <td>2.080000</td>\n      <td>15152.000000</td>\n    </tr>\n    <tr>\n      <th>75%</th>\n      <td>10.000000</td>\n      <td>4.130000</td>\n      <td>16791.000000</td>\n    </tr>\n    <tr>\n      <th>max</th>\n      <td>80995.000000</td>\n      <td>38970.000000</td>\n      <td>18287.000000</td>\n    </tr>\n  </tbody>\n</table>\n</div>"
     },
     "execution_count": 8,
     "metadata": {},
     "output_type": "execute_result"
    }
   ],
   "source": [
    "df1.describe()"
   ],
   "metadata": {
    "collapsed": false,
    "ExecuteTime": {
     "end_time": "2024-01-15T15:19:34.906160600Z",
     "start_time": "2024-01-15T15:19:34.164959900Z"
    }
   },
   "execution_count": 8
  },
  {
   "cell_type": "code",
   "outputs": [
    {
     "data": {
      "text/plain": "       InvoiceNo StockCode                       Description  Quantity  \\\n141      C536379         D                          Discount        -1   \n154      C536383    35004C   SET OF 3 COLOURED  FLYING DUCKS        -1   \n235      C536391     22556    PLASTERS IN TIN CIRCUS PARADE        -12   \n236      C536391     21984  PACK OF 12 PINK PAISLEY TISSUES        -24   \n237      C536391     21983  PACK OF 12 BLUE PAISLEY TISSUES        -24   \n...          ...       ...                               ...       ...   \n540449   C581490     23144   ZINC T-LIGHT HOLDER STARS SMALL       -11   \n541541   C581499         M                            Manual        -1   \n541715   C581568     21258        VICTORIAN SEWING BOX LARGE        -5   \n541716   C581569     84978  HANGING HEART JAR T-LIGHT HOLDER        -1   \n541717   C581569     20979     36 PENCILS TUBE RED RETROSPOT        -5   \n\n            InvoiceDate  UnitPrice  CustomerID         Country  \n141      12/1/2010 9:41      27.50     14527.0  United Kingdom  \n154      12/1/2010 9:49       4.65     15311.0  United Kingdom  \n235     12/1/2010 10:24       1.65     17548.0  United Kingdom  \n236     12/1/2010 10:24       0.29     17548.0  United Kingdom  \n237     12/1/2010 10:24       0.29     17548.0  United Kingdom  \n...                 ...        ...         ...             ...  \n540449   12/9/2011 9:57       0.83     14397.0  United Kingdom  \n541541  12/9/2011 10:28     224.69     15498.0  United Kingdom  \n541715  12/9/2011 11:57      10.95     15311.0  United Kingdom  \n541716  12/9/2011 11:58       1.25     17315.0  United Kingdom  \n541717  12/9/2011 11:58       1.25     17315.0  United Kingdom  \n\n[10624 rows x 8 columns]",
      "text/html": "<div>\n<style scoped>\n    .dataframe tbody tr th:only-of-type {\n        vertical-align: middle;\n    }\n\n    .dataframe tbody tr th {\n        vertical-align: top;\n    }\n\n    .dataframe thead th {\n        text-align: right;\n    }\n</style>\n<table border=\"1\" class=\"dataframe\">\n  <thead>\n    <tr style=\"text-align: right;\">\n      <th></th>\n      <th>InvoiceNo</th>\n      <th>StockCode</th>\n      <th>Description</th>\n      <th>Quantity</th>\n      <th>InvoiceDate</th>\n      <th>UnitPrice</th>\n      <th>CustomerID</th>\n      <th>Country</th>\n    </tr>\n  </thead>\n  <tbody>\n    <tr>\n      <th>141</th>\n      <td>C536379</td>\n      <td>D</td>\n      <td>Discount</td>\n      <td>-1</td>\n      <td>12/1/2010 9:41</td>\n      <td>27.50</td>\n      <td>14527.0</td>\n      <td>United Kingdom</td>\n    </tr>\n    <tr>\n      <th>154</th>\n      <td>C536383</td>\n      <td>35004C</td>\n      <td>SET OF 3 COLOURED  FLYING DUCKS</td>\n      <td>-1</td>\n      <td>12/1/2010 9:49</td>\n      <td>4.65</td>\n      <td>15311.0</td>\n      <td>United Kingdom</td>\n    </tr>\n    <tr>\n      <th>235</th>\n      <td>C536391</td>\n      <td>22556</td>\n      <td>PLASTERS IN TIN CIRCUS PARADE</td>\n      <td>-12</td>\n      <td>12/1/2010 10:24</td>\n      <td>1.65</td>\n      <td>17548.0</td>\n      <td>United Kingdom</td>\n    </tr>\n    <tr>\n      <th>236</th>\n      <td>C536391</td>\n      <td>21984</td>\n      <td>PACK OF 12 PINK PAISLEY TISSUES</td>\n      <td>-24</td>\n      <td>12/1/2010 10:24</td>\n      <td>0.29</td>\n      <td>17548.0</td>\n      <td>United Kingdom</td>\n    </tr>\n    <tr>\n      <th>237</th>\n      <td>C536391</td>\n      <td>21983</td>\n      <td>PACK OF 12 BLUE PAISLEY TISSUES</td>\n      <td>-24</td>\n      <td>12/1/2010 10:24</td>\n      <td>0.29</td>\n      <td>17548.0</td>\n      <td>United Kingdom</td>\n    </tr>\n    <tr>\n      <th>...</th>\n      <td>...</td>\n      <td>...</td>\n      <td>...</td>\n      <td>...</td>\n      <td>...</td>\n      <td>...</td>\n      <td>...</td>\n      <td>...</td>\n    </tr>\n    <tr>\n      <th>540449</th>\n      <td>C581490</td>\n      <td>23144</td>\n      <td>ZINC T-LIGHT HOLDER STARS SMALL</td>\n      <td>-11</td>\n      <td>12/9/2011 9:57</td>\n      <td>0.83</td>\n      <td>14397.0</td>\n      <td>United Kingdom</td>\n    </tr>\n    <tr>\n      <th>541541</th>\n      <td>C581499</td>\n      <td>M</td>\n      <td>Manual</td>\n      <td>-1</td>\n      <td>12/9/2011 10:28</td>\n      <td>224.69</td>\n      <td>15498.0</td>\n      <td>United Kingdom</td>\n    </tr>\n    <tr>\n      <th>541715</th>\n      <td>C581568</td>\n      <td>21258</td>\n      <td>VICTORIAN SEWING BOX LARGE</td>\n      <td>-5</td>\n      <td>12/9/2011 11:57</td>\n      <td>10.95</td>\n      <td>15311.0</td>\n      <td>United Kingdom</td>\n    </tr>\n    <tr>\n      <th>541716</th>\n      <td>C581569</td>\n      <td>84978</td>\n      <td>HANGING HEART JAR T-LIGHT HOLDER</td>\n      <td>-1</td>\n      <td>12/9/2011 11:58</td>\n      <td>1.25</td>\n      <td>17315.0</td>\n      <td>United Kingdom</td>\n    </tr>\n    <tr>\n      <th>541717</th>\n      <td>C581569</td>\n      <td>20979</td>\n      <td>36 PENCILS TUBE RED RETROSPOT</td>\n      <td>-5</td>\n      <td>12/9/2011 11:58</td>\n      <td>1.25</td>\n      <td>17315.0</td>\n      <td>United Kingdom</td>\n    </tr>\n  </tbody>\n</table>\n<p>10624 rows × 8 columns</p>\n</div>"
     },
     "execution_count": 9,
     "metadata": {},
     "output_type": "execute_result"
    }
   ],
   "source": [
    "df1[df1[\"Quantity\"] < 0]"
   ],
   "metadata": {
    "collapsed": false,
    "ExecuteTime": {
     "end_time": "2024-01-15T15:19:35.115986100Z",
     "start_time": "2024-01-15T15:19:34.371331400Z"
    }
   },
   "execution_count": 9
  },
  {
   "cell_type": "markdown",
   "source": [
    "从结果来看，为负数的观察值，发票编码均以C开头，是取消单，为验证猜想，增加筛选条件。"
   ],
   "metadata": {
    "collapsed": false
   }
  },
  {
   "cell_type": "code",
   "outputs": [
    {
     "data": {
      "text/plain": "       InvoiceNo StockCode Description  Quantity      InvoiceDate  UnitPrice  \\\n2406      536589     21777         NaN       -10  12/1/2010 16:50        0.0   \n4347      536764    84952C         NaN       -38  12/2/2010 14:42        0.0   \n7188      536996     22712         NaN       -20  12/3/2010 15:30        0.0   \n7189      536997     22028         NaN       -20  12/3/2010 15:30        0.0   \n7190      536998     85067         NaN        -6  12/3/2010 15:30        0.0   \n...          ...       ...         ...       ...              ...        ...   \n535333    581210     23395       check       -26  12/7/2011 18:36        0.0   \n535335    581212     22578        lost     -1050  12/7/2011 18:38        0.0   \n535336    581213     22576       check       -30  12/7/2011 18:38        0.0   \n536908    581226     23090     missing      -338   12/8/2011 9:56        0.0   \n538919    581422     23169     smashed      -235  12/8/2011 15:24        0.0   \n\n        CustomerID         Country  \n2406           NaN  United Kingdom  \n4347           NaN  United Kingdom  \n7188           NaN  United Kingdom  \n7189           NaN  United Kingdom  \n7190           NaN  United Kingdom  \n...            ...             ...  \n535333         NaN  United Kingdom  \n535335         NaN  United Kingdom  \n535336         NaN  United Kingdom  \n536908         NaN  United Kingdom  \n538919         NaN  United Kingdom  \n\n[1336 rows x 8 columns]",
      "text/html": "<div>\n<style scoped>\n    .dataframe tbody tr th:only-of-type {\n        vertical-align: middle;\n    }\n\n    .dataframe tbody tr th {\n        vertical-align: top;\n    }\n\n    .dataframe thead th {\n        text-align: right;\n    }\n</style>\n<table border=\"1\" class=\"dataframe\">\n  <thead>\n    <tr style=\"text-align: right;\">\n      <th></th>\n      <th>InvoiceNo</th>\n      <th>StockCode</th>\n      <th>Description</th>\n      <th>Quantity</th>\n      <th>InvoiceDate</th>\n      <th>UnitPrice</th>\n      <th>CustomerID</th>\n      <th>Country</th>\n    </tr>\n  </thead>\n  <tbody>\n    <tr>\n      <th>2406</th>\n      <td>536589</td>\n      <td>21777</td>\n      <td>NaN</td>\n      <td>-10</td>\n      <td>12/1/2010 16:50</td>\n      <td>0.0</td>\n      <td>NaN</td>\n      <td>United Kingdom</td>\n    </tr>\n    <tr>\n      <th>4347</th>\n      <td>536764</td>\n      <td>84952C</td>\n      <td>NaN</td>\n      <td>-38</td>\n      <td>12/2/2010 14:42</td>\n      <td>0.0</td>\n      <td>NaN</td>\n      <td>United Kingdom</td>\n    </tr>\n    <tr>\n      <th>7188</th>\n      <td>536996</td>\n      <td>22712</td>\n      <td>NaN</td>\n      <td>-20</td>\n      <td>12/3/2010 15:30</td>\n      <td>0.0</td>\n      <td>NaN</td>\n      <td>United Kingdom</td>\n    </tr>\n    <tr>\n      <th>7189</th>\n      <td>536997</td>\n      <td>22028</td>\n      <td>NaN</td>\n      <td>-20</td>\n      <td>12/3/2010 15:30</td>\n      <td>0.0</td>\n      <td>NaN</td>\n      <td>United Kingdom</td>\n    </tr>\n    <tr>\n      <th>7190</th>\n      <td>536998</td>\n      <td>85067</td>\n      <td>NaN</td>\n      <td>-6</td>\n      <td>12/3/2010 15:30</td>\n      <td>0.0</td>\n      <td>NaN</td>\n      <td>United Kingdom</td>\n    </tr>\n    <tr>\n      <th>...</th>\n      <td>...</td>\n      <td>...</td>\n      <td>...</td>\n      <td>...</td>\n      <td>...</td>\n      <td>...</td>\n      <td>...</td>\n      <td>...</td>\n    </tr>\n    <tr>\n      <th>535333</th>\n      <td>581210</td>\n      <td>23395</td>\n      <td>check</td>\n      <td>-26</td>\n      <td>12/7/2011 18:36</td>\n      <td>0.0</td>\n      <td>NaN</td>\n      <td>United Kingdom</td>\n    </tr>\n    <tr>\n      <th>535335</th>\n      <td>581212</td>\n      <td>22578</td>\n      <td>lost</td>\n      <td>-1050</td>\n      <td>12/7/2011 18:38</td>\n      <td>0.0</td>\n      <td>NaN</td>\n      <td>United Kingdom</td>\n    </tr>\n    <tr>\n      <th>535336</th>\n      <td>581213</td>\n      <td>22576</td>\n      <td>check</td>\n      <td>-30</td>\n      <td>12/7/2011 18:38</td>\n      <td>0.0</td>\n      <td>NaN</td>\n      <td>United Kingdom</td>\n    </tr>\n    <tr>\n      <th>536908</th>\n      <td>581226</td>\n      <td>23090</td>\n      <td>missing</td>\n      <td>-338</td>\n      <td>12/8/2011 9:56</td>\n      <td>0.0</td>\n      <td>NaN</td>\n      <td>United Kingdom</td>\n    </tr>\n    <tr>\n      <th>538919</th>\n      <td>581422</td>\n      <td>23169</td>\n      <td>smashed</td>\n      <td>-235</td>\n      <td>12/8/2011 15:24</td>\n      <td>0.0</td>\n      <td>NaN</td>\n      <td>United Kingdom</td>\n    </tr>\n  </tbody>\n</table>\n<p>1336 rows × 8 columns</p>\n</div>"
     },
     "execution_count": 10,
     "metadata": {},
     "output_type": "execute_result"
    }
   ],
   "source": [
    "df1[(df1[\"Quantity\"] < 0) & (df1[\"InvoiceNo\"].str[0] != \"C\")]"
   ],
   "metadata": {
    "collapsed": false,
    "ExecuteTime": {
     "end_time": "2024-01-15T15:19:35.658440Z",
     "start_time": "2024-01-15T15:19:34.408771700Z"
    }
   },
   "execution_count": 10
  },
  {
   "cell_type": "markdown",
   "source": [
    "猜想错误，根据以上结果单价均为0，因此增加条件"
   ],
   "metadata": {
    "collapsed": false
   }
  },
  {
   "cell_type": "code",
   "outputs": [
    {
     "data": {
      "text/plain": "Empty DataFrame\nColumns: [InvoiceNo, StockCode, Description, Quantity, InvoiceDate, UnitPrice, CustomerID, Country]\nIndex: []",
      "text/html": "<div>\n<style scoped>\n    .dataframe tbody tr th:only-of-type {\n        vertical-align: middle;\n    }\n\n    .dataframe tbody tr th {\n        vertical-align: top;\n    }\n\n    .dataframe thead th {\n        text-align: right;\n    }\n</style>\n<table border=\"1\" class=\"dataframe\">\n  <thead>\n    <tr style=\"text-align: right;\">\n      <th></th>\n      <th>InvoiceNo</th>\n      <th>StockCode</th>\n      <th>Description</th>\n      <th>Quantity</th>\n      <th>InvoiceDate</th>\n      <th>UnitPrice</th>\n      <th>CustomerID</th>\n      <th>Country</th>\n    </tr>\n  </thead>\n  <tbody>\n  </tbody>\n</table>\n</div>"
     },
     "execution_count": 11,
     "metadata": {},
     "output_type": "execute_result"
    }
   ],
   "source": [
    "df1[(df1[\"Quantity\"] < 0) & (df1[\"InvoiceNo\"].str[0] != \"C\") & (df1[\"UnitPrice\"] != 0)]"
   ],
   "metadata": {
    "collapsed": false,
    "ExecuteTime": {
     "end_time": "2024-01-15T15:19:36.249382300Z",
     "start_time": "2024-01-15T15:19:35.059461500Z"
    }
   },
   "execution_count": 11
  },
  {
   "cell_type": "markdown",
   "source": [
    "猜想正确，Quantity为0的情况，要么交易被取消了，要么单价为0，所以在后续可以删除。\n",
    "接下来筛选出UnitPrice为负数的行"
   ],
   "metadata": {
    "collapsed": false
   }
  },
  {
   "cell_type": "code",
   "outputs": [
    {
     "data": {
      "text/plain": "       InvoiceNo StockCode      Description  Quantity      InvoiceDate  \\\n299983   A563186         B  Adjust bad debt         1  8/12/2011 14:51   \n299984   A563187         B  Adjust bad debt         1  8/12/2011 14:52   \n\n        UnitPrice  CustomerID         Country  \n299983  -11062.06         NaN  United Kingdom  \n299984  -11062.06         NaN  United Kingdom  ",
      "text/html": "<div>\n<style scoped>\n    .dataframe tbody tr th:only-of-type {\n        vertical-align: middle;\n    }\n\n    .dataframe tbody tr th {\n        vertical-align: top;\n    }\n\n    .dataframe thead th {\n        text-align: right;\n    }\n</style>\n<table border=\"1\" class=\"dataframe\">\n  <thead>\n    <tr style=\"text-align: right;\">\n      <th></th>\n      <th>InvoiceNo</th>\n      <th>StockCode</th>\n      <th>Description</th>\n      <th>Quantity</th>\n      <th>InvoiceDate</th>\n      <th>UnitPrice</th>\n      <th>CustomerID</th>\n      <th>Country</th>\n    </tr>\n  </thead>\n  <tbody>\n    <tr>\n      <th>299983</th>\n      <td>A563186</td>\n      <td>B</td>\n      <td>Adjust bad debt</td>\n      <td>1</td>\n      <td>8/12/2011 14:51</td>\n      <td>-11062.06</td>\n      <td>NaN</td>\n      <td>United Kingdom</td>\n    </tr>\n    <tr>\n      <th>299984</th>\n      <td>A563187</td>\n      <td>B</td>\n      <td>Adjust bad debt</td>\n      <td>1</td>\n      <td>8/12/2011 14:52</td>\n      <td>-11062.06</td>\n      <td>NaN</td>\n      <td>United Kingdom</td>\n    </tr>\n  </tbody>\n</table>\n</div>"
     },
     "execution_count": 12,
     "metadata": {},
     "output_type": "execute_result"
    }
   ],
   "source": [
    "df1[df1[\"UnitPrice\"] < 0]"
   ],
   "metadata": {
    "collapsed": false,
    "ExecuteTime": {
     "end_time": "2024-01-15T15:19:36.293869200Z",
     "start_time": "2024-01-15T15:19:35.663579800Z"
    }
   },
   "execution_count": 12
  },
  {
   "cell_type": "markdown",
   "source": [
    "为坏账调整，后续删除"
   ],
   "metadata": {
    "collapsed": false
   }
  },
  {
   "cell_type": "markdown",
   "metadata": {},
   "source": [
    "## 清理数据"
   ]
  },
  {
   "cell_type": "markdown",
   "source": [
    "根据前面的评估得到的结论，我们要进行的数据清理：\n",
    "- 把'InvoiceDate'变量的数据类型改为日期时间\n",
    "- 把'CustomerID'变量的数据类型改为字符串\n",
    "- 把'Description'变量缺失的观察值删除\n",
    "- 把'Country'变量'USA'替换为'United States'\n",
    "- 把'Country'变量'UK'、'U.K.'替换为'United Kingdom'\n",
    "- 把'Quantity'变量为负数的观察值删除\n",
    "- 把'UnitPrice'变量为负数的观察值删除"
   ],
   "metadata": {
    "collapsed": false
   }
  },
  {
   "cell_type": "code",
   "execution_count": 13,
   "metadata": {
    "ExecuteTime": {
     "end_time": "2024-01-15T15:19:36.313297200Z",
     "start_time": "2024-01-15T15:19:35.693556100Z"
    }
   },
   "outputs": [
    {
     "data": {
      "text/plain": "  InvoiceNo StockCode                          Description  Quantity  \\\n0    536365    85123A   WHITE HANGING HEART T-LIGHT HOLDER         6   \n1    536365     71053                  WHITE METAL LANTERN         6   \n2    536365    84406B       CREAM CUPID HEARTS COAT HANGER         8   \n3    536365    84029G  KNITTED UNION FLAG HOT WATER BOTTLE         6   \n4    536365    84029E       RED WOOLLY HOTTIE WHITE HEART.         6   \n\n      InvoiceDate  UnitPrice  CustomerID         Country  \n0  12/1/2010 8:26       2.55     17850.0  United Kingdom  \n1  12/1/2010 8:26       3.39     17850.0  United Kingdom  \n2  12/1/2010 8:26       2.75     17850.0  United Kingdom  \n3  12/1/2010 8:26       3.39     17850.0  United Kingdom  \n4  12/1/2010 8:26       3.39     17850.0  United Kingdom  ",
      "text/html": "<div>\n<style scoped>\n    .dataframe tbody tr th:only-of-type {\n        vertical-align: middle;\n    }\n\n    .dataframe tbody tr th {\n        vertical-align: top;\n    }\n\n    .dataframe thead th {\n        text-align: right;\n    }\n</style>\n<table border=\"1\" class=\"dataframe\">\n  <thead>\n    <tr style=\"text-align: right;\">\n      <th></th>\n      <th>InvoiceNo</th>\n      <th>StockCode</th>\n      <th>Description</th>\n      <th>Quantity</th>\n      <th>InvoiceDate</th>\n      <th>UnitPrice</th>\n      <th>CustomerID</th>\n      <th>Country</th>\n    </tr>\n  </thead>\n  <tbody>\n    <tr>\n      <th>0</th>\n      <td>536365</td>\n      <td>85123A</td>\n      <td>WHITE HANGING HEART T-LIGHT HOLDER</td>\n      <td>6</td>\n      <td>12/1/2010 8:26</td>\n      <td>2.55</td>\n      <td>17850.0</td>\n      <td>United Kingdom</td>\n    </tr>\n    <tr>\n      <th>1</th>\n      <td>536365</td>\n      <td>71053</td>\n      <td>WHITE METAL LANTERN</td>\n      <td>6</td>\n      <td>12/1/2010 8:26</td>\n      <td>3.39</td>\n      <td>17850.0</td>\n      <td>United Kingdom</td>\n    </tr>\n    <tr>\n      <th>2</th>\n      <td>536365</td>\n      <td>84406B</td>\n      <td>CREAM CUPID HEARTS COAT HANGER</td>\n      <td>8</td>\n      <td>12/1/2010 8:26</td>\n      <td>2.75</td>\n      <td>17850.0</td>\n      <td>United Kingdom</td>\n    </tr>\n    <tr>\n      <th>3</th>\n      <td>536365</td>\n      <td>84029G</td>\n      <td>KNITTED UNION FLAG HOT WATER BOTTLE</td>\n      <td>6</td>\n      <td>12/1/2010 8:26</td>\n      <td>3.39</td>\n      <td>17850.0</td>\n      <td>United Kingdom</td>\n    </tr>\n    <tr>\n      <th>4</th>\n      <td>536365</td>\n      <td>84029E</td>\n      <td>RED WOOLLY HOTTIE WHITE HEART.</td>\n      <td>6</td>\n      <td>12/1/2010 8:26</td>\n      <td>3.39</td>\n      <td>17850.0</td>\n      <td>United Kingdom</td>\n    </tr>\n  </tbody>\n</table>\n</div>"
     },
     "execution_count": 13,
     "metadata": {},
     "output_type": "execute_result"
    }
   ],
   "source": [
    "df2 = df1.copy()\n",
    "df2.head()"
   ]
  },
  {
   "cell_type": "markdown",
   "source": [
    "把'InvoiceDate'变量的数据类型改为日期时间"
   ],
   "metadata": {
    "collapsed": false
   }
  },
  {
   "cell_type": "code",
   "outputs": [
    {
     "data": {
      "text/plain": "0        2010-12-01 08:26:00\n1        2010-12-01 08:26:00\n2        2010-12-01 08:26:00\n3        2010-12-01 08:26:00\n4        2010-12-01 08:26:00\n                 ...        \n541904   2011-12-09 12:50:00\n541905   2011-12-09 12:50:00\n541906   2011-12-09 12:50:00\n541907   2011-12-09 12:50:00\n541908   2011-12-09 12:50:00\nName: InvoiceDate, Length: 541909, dtype: datetime64[ns]"
     },
     "execution_count": 14,
     "metadata": {},
     "output_type": "execute_result"
    }
   ],
   "source": [
    "df2[\"InvoiceDate\"] = pd.to_datetime(df2[\"InvoiceDate\"])\n",
    "df2[\"InvoiceDate\"]"
   ],
   "metadata": {
    "collapsed": false,
    "ExecuteTime": {
     "end_time": "2024-01-15T15:19:36.928808900Z",
     "start_time": "2024-01-15T15:19:35.765925100Z"
    }
   },
   "execution_count": 14
  },
  {
   "cell_type": "markdown",
   "source": [
    "把'CustomerID'变量的数据类型改为字符串"
   ],
   "metadata": {
    "collapsed": false
   }
  },
  {
   "cell_type": "code",
   "outputs": [
    {
     "data": {
      "text/plain": "0         17850.0\n1         17850.0\n2         17850.0\n3         17850.0\n4         17850.0\n           ...   \n541904    12680.0\n541905    12680.0\n541906    12680.0\n541907    12680.0\n541908    12680.0\nName: CustomerID, Length: 541909, dtype: object"
     },
     "execution_count": 15,
     "metadata": {},
     "output_type": "execute_result"
    }
   ],
   "source": [
    "df2[\"CustomerID\"] = df2[\"CustomerID\"].astype(\"str\")\n",
    "df2[\"CustomerID\"]"
   ],
   "metadata": {
    "collapsed": false,
    "ExecuteTime": {
     "end_time": "2024-01-15T15:19:37.878754600Z",
     "start_time": "2024-01-15T15:19:36.197056700Z"
    }
   },
   "execution_count": 15
  },
  {
   "cell_type": "markdown",
   "source": [
    "结尾.0删除"
   ],
   "metadata": {
    "collapsed": false
   }
  },
  {
   "cell_type": "code",
   "outputs": [
    {
     "data": {
      "text/plain": "0         17850\n1         17850\n2         17850\n3         17850\n4         17850\n          ...  \n541904    12680\n541905    12680\n541906    12680\n541907    12680\n541908    12680\nName: CustomerID, Length: 541909, dtype: object"
     },
     "execution_count": 16,
     "metadata": {},
     "output_type": "execute_result"
    }
   ],
   "source": [
    "df2[\"CustomerID\"] = df2[\"CustomerID\"].str.slice(start=0, stop=-2)\n",
    "df2[\"CustomerID\"]"
   ],
   "metadata": {
    "collapsed": false,
    "ExecuteTime": {
     "end_time": "2024-01-15T15:19:38.120794400Z",
     "start_time": "2024-01-15T15:19:36.994550500Z"
    }
   },
   "execution_count": 16
  },
  {
   "cell_type": "markdown",
   "source": [
    "把'Description'变量缺失的观察值删除"
   ],
   "metadata": {
    "collapsed": false
   }
  },
  {
   "cell_type": "code",
   "outputs": [],
   "source": [
    "df2 = df2.dropna(subset=[\"Description\"])"
   ],
   "metadata": {
    "collapsed": false,
    "ExecuteTime": {
     "end_time": "2024-01-15T15:19:38.175651500Z",
     "start_time": "2024-01-15T15:19:37.391145800Z"
    }
   },
   "execution_count": 17
  },
  {
   "cell_type": "code",
   "outputs": [
    {
     "data": {
      "text/plain": "0"
     },
     "execution_count": 18,
     "metadata": {},
     "output_type": "execute_result"
    }
   ],
   "source": [
    "df2[\"Description\"].isnull().sum()"
   ],
   "metadata": {
    "collapsed": false,
    "ExecuteTime": {
     "end_time": "2024-01-15T15:19:38.276124400Z",
     "start_time": "2024-01-15T15:19:37.608711900Z"
    }
   },
   "execution_count": 18
  },
  {
   "cell_type": "markdown",
   "source": [
    "把’Country’变量’USA’替换为’United States’"
   ],
   "metadata": {
    "collapsed": false
   }
  },
  {
   "cell_type": "code",
   "outputs": [],
   "source": [
    "df2[\"Country\"] = df2[\"Country\"].replace({\"USA\":\"United States\"})"
   ],
   "metadata": {
    "collapsed": false,
    "ExecuteTime": {
     "end_time": "2024-01-15T15:19:38.285712100Z",
     "start_time": "2024-01-15T15:19:37.684342Z"
    }
   },
   "execution_count": 19
  },
  {
   "cell_type": "code",
   "outputs": [
    {
     "data": {
      "text/plain": "0"
     },
     "execution_count": 20,
     "metadata": {},
     "output_type": "execute_result"
    }
   ],
   "source": [
    "len(df2[df2[\"Country\"] ==\"USA\"])"
   ],
   "metadata": {
    "collapsed": false,
    "ExecuteTime": {
     "end_time": "2024-01-15T15:19:38.668341800Z",
     "start_time": "2024-01-15T15:19:37.846841900Z"
    }
   },
   "execution_count": 20
  },
  {
   "cell_type": "markdown",
   "source": [
    "把'Country'变量'UK'、'U.K.'替换为'United Kingdom'"
   ],
   "metadata": {
    "collapsed": false
   }
  },
  {
   "cell_type": "code",
   "outputs": [],
   "source": [
    "df2[\"Country\"] = df2[\"Country\"].replace({\"UK\":\"United Kingdom\",\"U.K.\":\"United Kingdom\"})"
   ],
   "metadata": {
    "collapsed": false,
    "ExecuteTime": {
     "end_time": "2024-01-15T15:19:38.689378500Z",
     "start_time": "2024-01-15T15:19:38.012431400Z"
    }
   },
   "execution_count": 21
  },
  {
   "cell_type": "code",
   "outputs": [
    {
     "data": {
      "text/plain": "0"
     },
     "execution_count": 22,
     "metadata": {},
     "output_type": "execute_result"
    }
   ],
   "source": [
    "len(df2[df2[\"Country\"] ==\"UK\"])"
   ],
   "metadata": {
    "collapsed": false,
    "ExecuteTime": {
     "end_time": "2024-01-15T15:19:38.703495400Z",
     "start_time": "2024-01-15T15:19:38.134080200Z"
    }
   },
   "execution_count": 22
  },
  {
   "cell_type": "code",
   "outputs": [
    {
     "data": {
      "text/plain": "0"
     },
     "execution_count": 23,
     "metadata": {},
     "output_type": "execute_result"
    }
   ],
   "source": [
    "len(df2[df2[\"Country\"] ==\"U.K.\"])"
   ],
   "metadata": {
    "collapsed": false,
    "ExecuteTime": {
     "end_time": "2024-01-15T15:19:38.744431800Z",
     "start_time": "2024-01-15T15:19:38.241633Z"
    }
   },
   "execution_count": 23
  },
  {
   "cell_type": "markdown",
   "source": [
    "把'Quantity'变量为负数的观察值删除"
   ],
   "metadata": {
    "collapsed": false
   }
  },
  {
   "cell_type": "code",
   "outputs": [],
   "source": [
    "df2 = df2[df2[\"Quantity\"] >= 0]"
   ],
   "metadata": {
    "collapsed": false,
    "ExecuteTime": {
     "end_time": "2024-01-15T15:19:38.945921400Z",
     "start_time": "2024-01-15T15:19:38.356258800Z"
    }
   },
   "execution_count": 24
  },
  {
   "cell_type": "code",
   "outputs": [
    {
     "data": {
      "text/plain": "0"
     },
     "execution_count": 25,
     "metadata": {},
     "output_type": "execute_result"
    }
   ],
   "source": [
    "len(df2[df2[\"Quantity\"] < 0])"
   ],
   "metadata": {
    "collapsed": false,
    "ExecuteTime": {
     "end_time": "2024-01-15T15:19:38.947291100Z",
     "start_time": "2024-01-15T15:19:38.559889700Z"
    }
   },
   "execution_count": 25
  },
  {
   "cell_type": "markdown",
   "source": [
    "把'UnitPrice'变量为负数的观察值删除"
   ],
   "metadata": {
    "collapsed": false
   }
  },
  {
   "cell_type": "code",
   "outputs": [],
   "source": [
    "df2 = df2[df2[\"UnitPrice\"] >= 0]"
   ],
   "metadata": {
    "collapsed": false,
    "ExecuteTime": {
     "end_time": "2024-01-15T15:19:39.097871700Z",
     "start_time": "2024-01-15T15:19:38.572492300Z"
    }
   },
   "execution_count": 26
  },
  {
   "cell_type": "code",
   "outputs": [
    {
     "data": {
      "text/plain": "0"
     },
     "execution_count": 27,
     "metadata": {},
     "output_type": "execute_result"
    }
   ],
   "source": [
    "len(df2[df2[\"UnitPrice\"] < 0])"
   ],
   "metadata": {
    "collapsed": false,
    "ExecuteTime": {
     "end_time": "2024-01-15T15:19:39.103893700Z",
     "start_time": "2024-01-15T15:19:38.709726100Z"
    }
   },
   "execution_count": 27
  },
  {
   "cell_type": "markdown",
   "metadata": {},
   "source": [
    "## 保存清理后的数据"
   ]
  },
  {
   "cell_type": "markdown",
   "source": [
    "完成数据清理后，把干净整齐的数据保存到新的文件里，文件名为e_commerce_cleaned.csv"
   ],
   "metadata": {
    "collapsed": false
   }
  },
  {
   "cell_type": "code",
   "outputs": [
    {
     "data": {
      "text/plain": "  InvoiceNo StockCode                          Description  Quantity  \\\n0    536365    85123A   WHITE HANGING HEART T-LIGHT HOLDER         6   \n1    536365     71053                  WHITE METAL LANTERN         6   \n2    536365    84406B       CREAM CUPID HEARTS COAT HANGER         8   \n3    536365    84029G  KNITTED UNION FLAG HOT WATER BOTTLE         6   \n4    536365    84029E       RED WOOLLY HOTTIE WHITE HEART.         6   \n5    536365     22752         SET 7 BABUSHKA NESTING BOXES         2   \n6    536365     21730    GLASS STAR FROSTED T-LIGHT HOLDER         6   \n7    536366     22633               HAND WARMER UNION JACK         6   \n8    536366     22632            HAND WARMER RED POLKA DOT         6   \n9    536367     84879        ASSORTED COLOUR BIRD ORNAMENT        32   \n\n          InvoiceDate  UnitPrice CustomerID         Country  \n0 2010-12-01 08:26:00       2.55      17850  United Kingdom  \n1 2010-12-01 08:26:00       3.39      17850  United Kingdom  \n2 2010-12-01 08:26:00       2.75      17850  United Kingdom  \n3 2010-12-01 08:26:00       3.39      17850  United Kingdom  \n4 2010-12-01 08:26:00       3.39      17850  United Kingdom  \n5 2010-12-01 08:26:00       7.65      17850  United Kingdom  \n6 2010-12-01 08:26:00       4.25      17850  United Kingdom  \n7 2010-12-01 08:28:00       1.85      17850  United Kingdom  \n8 2010-12-01 08:28:00       1.85      17850  United Kingdom  \n9 2010-12-01 08:34:00       1.69      13047  United Kingdom  ",
      "text/html": "<div>\n<style scoped>\n    .dataframe tbody tr th:only-of-type {\n        vertical-align: middle;\n    }\n\n    .dataframe tbody tr th {\n        vertical-align: top;\n    }\n\n    .dataframe thead th {\n        text-align: right;\n    }\n</style>\n<table border=\"1\" class=\"dataframe\">\n  <thead>\n    <tr style=\"text-align: right;\">\n      <th></th>\n      <th>InvoiceNo</th>\n      <th>StockCode</th>\n      <th>Description</th>\n      <th>Quantity</th>\n      <th>InvoiceDate</th>\n      <th>UnitPrice</th>\n      <th>CustomerID</th>\n      <th>Country</th>\n    </tr>\n  </thead>\n  <tbody>\n    <tr>\n      <th>0</th>\n      <td>536365</td>\n      <td>85123A</td>\n      <td>WHITE HANGING HEART T-LIGHT HOLDER</td>\n      <td>6</td>\n      <td>2010-12-01 08:26:00</td>\n      <td>2.55</td>\n      <td>17850</td>\n      <td>United Kingdom</td>\n    </tr>\n    <tr>\n      <th>1</th>\n      <td>536365</td>\n      <td>71053</td>\n      <td>WHITE METAL LANTERN</td>\n      <td>6</td>\n      <td>2010-12-01 08:26:00</td>\n      <td>3.39</td>\n      <td>17850</td>\n      <td>United Kingdom</td>\n    </tr>\n    <tr>\n      <th>2</th>\n      <td>536365</td>\n      <td>84406B</td>\n      <td>CREAM CUPID HEARTS COAT HANGER</td>\n      <td>8</td>\n      <td>2010-12-01 08:26:00</td>\n      <td>2.75</td>\n      <td>17850</td>\n      <td>United Kingdom</td>\n    </tr>\n    <tr>\n      <th>3</th>\n      <td>536365</td>\n      <td>84029G</td>\n      <td>KNITTED UNION FLAG HOT WATER BOTTLE</td>\n      <td>6</td>\n      <td>2010-12-01 08:26:00</td>\n      <td>3.39</td>\n      <td>17850</td>\n      <td>United Kingdom</td>\n    </tr>\n    <tr>\n      <th>4</th>\n      <td>536365</td>\n      <td>84029E</td>\n      <td>RED WOOLLY HOTTIE WHITE HEART.</td>\n      <td>6</td>\n      <td>2010-12-01 08:26:00</td>\n      <td>3.39</td>\n      <td>17850</td>\n      <td>United Kingdom</td>\n    </tr>\n    <tr>\n      <th>5</th>\n      <td>536365</td>\n      <td>22752</td>\n      <td>SET 7 BABUSHKA NESTING BOXES</td>\n      <td>2</td>\n      <td>2010-12-01 08:26:00</td>\n      <td>7.65</td>\n      <td>17850</td>\n      <td>United Kingdom</td>\n    </tr>\n    <tr>\n      <th>6</th>\n      <td>536365</td>\n      <td>21730</td>\n      <td>GLASS STAR FROSTED T-LIGHT HOLDER</td>\n      <td>6</td>\n      <td>2010-12-01 08:26:00</td>\n      <td>4.25</td>\n      <td>17850</td>\n      <td>United Kingdom</td>\n    </tr>\n    <tr>\n      <th>7</th>\n      <td>536366</td>\n      <td>22633</td>\n      <td>HAND WARMER UNION JACK</td>\n      <td>6</td>\n      <td>2010-12-01 08:28:00</td>\n      <td>1.85</td>\n      <td>17850</td>\n      <td>United Kingdom</td>\n    </tr>\n    <tr>\n      <th>8</th>\n      <td>536366</td>\n      <td>22632</td>\n      <td>HAND WARMER RED POLKA DOT</td>\n      <td>6</td>\n      <td>2010-12-01 08:28:00</td>\n      <td>1.85</td>\n      <td>17850</td>\n      <td>United Kingdom</td>\n    </tr>\n    <tr>\n      <th>9</th>\n      <td>536367</td>\n      <td>84879</td>\n      <td>ASSORTED COLOUR BIRD ORNAMENT</td>\n      <td>32</td>\n      <td>2010-12-01 08:34:00</td>\n      <td>1.69</td>\n      <td>13047</td>\n      <td>United Kingdom</td>\n    </tr>\n  </tbody>\n</table>\n</div>"
     },
     "execution_count": 28,
     "metadata": {},
     "output_type": "execute_result"
    }
   ],
   "source": [
    "df2.head(10)"
   ],
   "metadata": {
    "collapsed": false,
    "ExecuteTime": {
     "end_time": "2024-01-15T15:19:39.122161500Z",
     "start_time": "2024-01-15T15:19:38.733274900Z"
    }
   },
   "execution_count": 28
  },
  {
   "cell_type": "code",
   "execution_count": 29,
   "metadata": {
    "ExecuteTime": {
     "end_time": "2024-01-15T15:19:55.756647600Z",
     "start_time": "2024-01-15T15:19:38.771566200Z"
    }
   },
   "outputs": [],
   "source": [
    "df2.to_csv(\"e_commerce_cleaned.csv\",index=False)"
   ]
  },
  {
   "cell_type": "code",
   "outputs": [
    {
     "name": "stderr",
     "output_type": "stream",
     "text": [
      "C:\\Users\\林涵\\AppData\\Local\\Temp\\ipykernel_17380\\2059381091.py:1: DtypeWarning: Columns (0) have mixed types. Specify dtype option on import or set low_memory=False.\n",
      "  pd.read_csv(\"e_commerce_cleaned.csv\").head(10)\n"
     ]
    },
    {
     "data": {
      "text/plain": "  InvoiceNo StockCode                          Description  Quantity  \\\n0    536365    85123A   WHITE HANGING HEART T-LIGHT HOLDER         6   \n1    536365     71053                  WHITE METAL LANTERN         6   \n2    536365    84406B       CREAM CUPID HEARTS COAT HANGER         8   \n3    536365    84029G  KNITTED UNION FLAG HOT WATER BOTTLE         6   \n4    536365    84029E       RED WOOLLY HOTTIE WHITE HEART.         6   \n5    536365     22752         SET 7 BABUSHKA NESTING BOXES         2   \n6    536365     21730    GLASS STAR FROSTED T-LIGHT HOLDER         6   \n7    536366     22633               HAND WARMER UNION JACK         6   \n8    536366     22632            HAND WARMER RED POLKA DOT         6   \n9    536367     84879        ASSORTED COLOUR BIRD ORNAMENT        32   \n\n           InvoiceDate  UnitPrice CustomerID         Country  \n0  2010-12-01 08:26:00       2.55      17850  United Kingdom  \n1  2010-12-01 08:26:00       3.39      17850  United Kingdom  \n2  2010-12-01 08:26:00       2.75      17850  United Kingdom  \n3  2010-12-01 08:26:00       3.39      17850  United Kingdom  \n4  2010-12-01 08:26:00       3.39      17850  United Kingdom  \n5  2010-12-01 08:26:00       7.65      17850  United Kingdom  \n6  2010-12-01 08:26:00       4.25      17850  United Kingdom  \n7  2010-12-01 08:28:00       1.85      17850  United Kingdom  \n8  2010-12-01 08:28:00       1.85      17850  United Kingdom  \n9  2010-12-01 08:34:00       1.69      13047  United Kingdom  ",
      "text/html": "<div>\n<style scoped>\n    .dataframe tbody tr th:only-of-type {\n        vertical-align: middle;\n    }\n\n    .dataframe tbody tr th {\n        vertical-align: top;\n    }\n\n    .dataframe thead th {\n        text-align: right;\n    }\n</style>\n<table border=\"1\" class=\"dataframe\">\n  <thead>\n    <tr style=\"text-align: right;\">\n      <th></th>\n      <th>InvoiceNo</th>\n      <th>StockCode</th>\n      <th>Description</th>\n      <th>Quantity</th>\n      <th>InvoiceDate</th>\n      <th>UnitPrice</th>\n      <th>CustomerID</th>\n      <th>Country</th>\n    </tr>\n  </thead>\n  <tbody>\n    <tr>\n      <th>0</th>\n      <td>536365</td>\n      <td>85123A</td>\n      <td>WHITE HANGING HEART T-LIGHT HOLDER</td>\n      <td>6</td>\n      <td>2010-12-01 08:26:00</td>\n      <td>2.55</td>\n      <td>17850</td>\n      <td>United Kingdom</td>\n    </tr>\n    <tr>\n      <th>1</th>\n      <td>536365</td>\n      <td>71053</td>\n      <td>WHITE METAL LANTERN</td>\n      <td>6</td>\n      <td>2010-12-01 08:26:00</td>\n      <td>3.39</td>\n      <td>17850</td>\n      <td>United Kingdom</td>\n    </tr>\n    <tr>\n      <th>2</th>\n      <td>536365</td>\n      <td>84406B</td>\n      <td>CREAM CUPID HEARTS COAT HANGER</td>\n      <td>8</td>\n      <td>2010-12-01 08:26:00</td>\n      <td>2.75</td>\n      <td>17850</td>\n      <td>United Kingdom</td>\n    </tr>\n    <tr>\n      <th>3</th>\n      <td>536365</td>\n      <td>84029G</td>\n      <td>KNITTED UNION FLAG HOT WATER BOTTLE</td>\n      <td>6</td>\n      <td>2010-12-01 08:26:00</td>\n      <td>3.39</td>\n      <td>17850</td>\n      <td>United Kingdom</td>\n    </tr>\n    <tr>\n      <th>4</th>\n      <td>536365</td>\n      <td>84029E</td>\n      <td>RED WOOLLY HOTTIE WHITE HEART.</td>\n      <td>6</td>\n      <td>2010-12-01 08:26:00</td>\n      <td>3.39</td>\n      <td>17850</td>\n      <td>United Kingdom</td>\n    </tr>\n    <tr>\n      <th>5</th>\n      <td>536365</td>\n      <td>22752</td>\n      <td>SET 7 BABUSHKA NESTING BOXES</td>\n      <td>2</td>\n      <td>2010-12-01 08:26:00</td>\n      <td>7.65</td>\n      <td>17850</td>\n      <td>United Kingdom</td>\n    </tr>\n    <tr>\n      <th>6</th>\n      <td>536365</td>\n      <td>21730</td>\n      <td>GLASS STAR FROSTED T-LIGHT HOLDER</td>\n      <td>6</td>\n      <td>2010-12-01 08:26:00</td>\n      <td>4.25</td>\n      <td>17850</td>\n      <td>United Kingdom</td>\n    </tr>\n    <tr>\n      <th>7</th>\n      <td>536366</td>\n      <td>22633</td>\n      <td>HAND WARMER UNION JACK</td>\n      <td>6</td>\n      <td>2010-12-01 08:28:00</td>\n      <td>1.85</td>\n      <td>17850</td>\n      <td>United Kingdom</td>\n    </tr>\n    <tr>\n      <th>8</th>\n      <td>536366</td>\n      <td>22632</td>\n      <td>HAND WARMER RED POLKA DOT</td>\n      <td>6</td>\n      <td>2010-12-01 08:28:00</td>\n      <td>1.85</td>\n      <td>17850</td>\n      <td>United Kingdom</td>\n    </tr>\n    <tr>\n      <th>9</th>\n      <td>536367</td>\n      <td>84879</td>\n      <td>ASSORTED COLOUR BIRD ORNAMENT</td>\n      <td>32</td>\n      <td>2010-12-01 08:34:00</td>\n      <td>1.69</td>\n      <td>13047</td>\n      <td>United Kingdom</td>\n    </tr>\n  </tbody>\n</table>\n</div>"
     },
     "execution_count": 30,
     "metadata": {},
     "output_type": "execute_result"
    }
   ],
   "source": [
    "pd.read_csv(\"e_commerce_cleaned.csv\").head(10)"
   ],
   "metadata": {
    "collapsed": false,
    "ExecuteTime": {
     "end_time": "2024-01-15T15:19:56.704947100Z",
     "start_time": "2024-01-15T15:19:55.591782100Z"
    }
   },
   "execution_count": 30
  },
  {
   "cell_type": "code",
   "outputs": [],
   "source": [],
   "metadata": {
    "collapsed": false,
    "ExecuteTime": {
     "end_time": "2024-01-15T15:19:56.715745700Z",
     "start_time": "2024-01-15T15:19:56.703875700Z"
    }
   },
   "execution_count": 30
  }
 ],
 "metadata": {
  "kernelspec": {
   "display_name": "Python 3",
   "language": "python",
   "name": "python3"
  },
  "language_info": {
   "codemirror_mode": {
    "name": "ipython",
    "version": 3
   },
   "file_extension": ".py",
   "mimetype": "text/x-python",
   "name": "python",
   "nbconvert_exporter": "python",
   "pygments_lexer": "ipython3",
   "version": "3.8.1"
  }
 },
 "nbformat": 4,
 "nbformat_minor": 4
}
